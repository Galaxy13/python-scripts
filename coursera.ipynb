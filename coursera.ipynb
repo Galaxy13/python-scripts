{
 "cells": [
  {
   "cell_type": "code",
   "execution_count": null,
   "metadata": {
    "collapsed": true
   },
   "outputs": [],
   "source": [
    "def gen_all_sequences(outcomes, length):\n",
    "    \"\"\"\n",
    "    Iterative function that enumerates the set of all sequences of\n",
    "    outcomes of given length.\n",
    "    \"\"\"\n",
    "\n",
    "    answer_set = set([()])\n",
    "    for dummy_idx in range(length):\n",
    "        temp_set = set()\n",
    "        for partial_sequence in answer_set:\n",
    "            for item in outcomes:\n",
    "                new_sequence = list(partial_sequence)\n",
    "                new_sequence.append(item)\n",
    "                temp_set.add(tuple(new_sequence))\n",
    "        answer_set = temp_set\n",
    "    return answer_set"
   ]
  }
 ],
 "metadata": {
  "kernelspec": {
   "display_name": "Python 3",
   "language": "python",
   "name": "python3"
  },
  "language_info": {
   "codemirror_mode": {
    "name": "ipython",
    "version": 2
   },
   "file_extension": ".py",
   "mimetype": "text/x-python",
   "name": "python",
   "nbconvert_exporter": "python",
   "pygments_lexer": "ipython2",
   "version": "2.7.6"
  }
 },
 "nbformat": 4,
 "nbformat_minor": 0
}