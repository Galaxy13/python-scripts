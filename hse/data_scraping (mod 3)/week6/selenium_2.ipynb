{
 "cells": [
  {
   "cell_type": "code",
   "execution_count": 2,
   "metadata": {
    "collapsed": true,
    "ExecuteTime": {
     "end_time": "2023-06-25T18:53:01.318460400Z",
     "start_time": "2023-06-25T18:53:01.010463900Z"
    }
   },
   "outputs": [],
   "source": [
    "from selenium import webdriver\n",
    "import requests\n",
    "import re\n",
    "from bs4 import BeautifulSoup"
   ]
  },
  {
   "cell_type": "code",
   "execution_count": 3,
   "outputs": [],
   "source": [
    "url = 'https://en.wikipedia.org'"
   ],
   "metadata": {
    "collapsed": false,
    "ExecuteTime": {
     "end_time": "2023-06-25T18:55:46.170623Z",
     "start_time": "2023-06-25T18:55:46.143632300Z"
    }
   }
  },
  {
   "cell_type": "code",
   "execution_count": 4,
   "outputs": [],
   "source": [
    "driver = webdriver.Chrome()"
   ],
   "metadata": {
    "collapsed": false,
    "ExecuteTime": {
     "end_time": "2023-06-25T18:56:00.832324700Z",
     "start_time": "2023-06-25T18:55:59.768529300Z"
    }
   }
  },
  {
   "cell_type": "code",
   "execution_count": 5,
   "outputs": [],
   "source": [
    "driver.get(url)"
   ],
   "metadata": {
    "collapsed": false,
    "ExecuteTime": {
     "end_time": "2023-06-25T18:56:24.527393200Z",
     "start_time": "2023-06-25T18:56:23.395352100Z"
    }
   }
  },
  {
   "cell_type": "code",
   "execution_count": 10,
   "outputs": [],
   "source": [
    "from selenium.webdriver.common.by import By"
   ],
   "metadata": {
    "collapsed": false,
    "ExecuteTime": {
     "end_time": "2023-06-25T18:58:58.871104100Z",
     "start_time": "2023-06-25T18:58:58.851103900Z"
    }
   }
  },
  {
   "cell_type": "code",
   "execution_count": 12,
   "outputs": [],
   "source": [
    "result = driver.find_element(by=By.CSS_SELECTOR, value='h2')"
   ],
   "metadata": {
    "collapsed": false,
    "ExecuteTime": {
     "end_time": "2023-06-25T18:59:33.406995300Z",
     "start_time": "2023-06-25T18:59:33.392380900Z"
    }
   }
  },
  {
   "cell_type": "code",
   "execution_count": 13,
   "outputs": [
    {
     "data": {
      "text/plain": "\"From today's featured article\""
     },
     "execution_count": 13,
     "metadata": {},
     "output_type": "execute_result"
    }
   ],
   "source": [
    "result.text"
   ],
   "metadata": {
    "collapsed": false,
    "ExecuteTime": {
     "end_time": "2023-06-25T18:59:38.351893Z",
     "start_time": "2023-06-25T18:59:38.300383900Z"
    }
   }
  },
  {
   "cell_type": "code",
   "execution_count": 14,
   "outputs": [
    {
     "data": {
      "text/plain": "'<span id=\"From_today.27s_featured_article\"></span><span class=\"mw-headline\" id=\"From_today\\'s_featured_article\">From today\\'s featured article</span>'"
     },
     "execution_count": 14,
     "metadata": {},
     "output_type": "execute_result"
    }
   ],
   "source": [
    "result.get_attribute('innerHTML')"
   ],
   "metadata": {
    "collapsed": false,
    "ExecuteTime": {
     "end_time": "2023-06-25T19:00:09.295999900Z",
     "start_time": "2023-06-25T19:00:09.261718600Z"
    }
   }
  },
  {
   "cell_type": "code",
   "execution_count": 15,
   "outputs": [
    {
     "data": {
      "text/plain": "'mp-tfa-h2'"
     },
     "execution_count": 15,
     "metadata": {},
     "output_type": "execute_result"
    }
   ],
   "source": [
    "result.get_attribute('id')"
   ],
   "metadata": {
    "collapsed": false,
    "ExecuteTime": {
     "end_time": "2023-06-25T19:00:31.360360300Z",
     "start_time": "2023-06-25T19:00:31.301155300Z"
    }
   }
  },
  {
   "cell_type": "code",
   "execution_count": 18,
   "outputs": [
    {
     "data": {
      "text/plain": "<selenium.webdriver.remote.webelement.WebElement (session=\"17e850bd3aec52c685823b3d04852084\", element=\"674259C74CCF892A8F0606A54AEF21E4_element_24\")>"
     },
     "execution_count": 18,
     "metadata": {},
     "output_type": "execute_result"
    }
   ],
   "source": [
    "result.find_element(by=By.CSS_SELECTOR, value='span')"
   ],
   "metadata": {
    "collapsed": false,
    "ExecuteTime": {
     "end_time": "2023-06-25T19:01:42.961122100Z",
     "start_time": "2023-06-25T19:01:42.922577300Z"
    }
   }
  },
  {
   "cell_type": "code",
   "execution_count": 19,
   "outputs": [
    {
     "data": {
      "text/plain": "True"
     },
     "execution_count": 19,
     "metadata": {},
     "output_type": "execute_result"
    }
   ],
   "source": [
    "result.screenshot('t.png')"
   ],
   "metadata": {
    "collapsed": false,
    "ExecuteTime": {
     "end_time": "2023-06-25T19:02:00.437264Z",
     "start_time": "2023-06-25T19:02:00.335252400Z"
    }
   }
  },
  {
   "cell_type": "code",
   "execution_count": 21,
   "outputs": [
    {
     "data": {
      "text/plain": "True"
     },
     "execution_count": 21,
     "metadata": {},
     "output_type": "execute_result"
    }
   ],
   "source": [
    "driver.find_element(by=By.TAG_NAME, value='html').screenshot('t.png')"
   ],
   "metadata": {
    "collapsed": false,
    "ExecuteTime": {
     "end_time": "2023-06-25T19:02:56.164327900Z",
     "start_time": "2023-06-25T19:02:55.977328500Z"
    }
   }
  },
  {
   "cell_type": "code",
   "execution_count": 27,
   "outputs": [
    {
     "name": "stdout",
     "output_type": "stream",
     "text": [
      "Welcome to Wikipedia,\n",
      "the free encyclopedia that anyone can edit.\n",
      "6,674,260 articles in English\n",
      "From today's featured article\n",
      "Map of Kavvadias's excavations on the Acropolis\n",
      "Panagiotis Kavvadias (1850–1928) was a Greek archaeologist. He was responsible for excavations of the city of Epidaurus, of the Acropolis of Athens (map pictured), and on his native island of Kephallonia. As Ephor General, the head of the Greek Archaeological Service, from 1885 until 1909, Kavvadias oversaw the service's expansion and the introduction of Law 2646 of 1899 which increased the state's powers to prevent illegal excavations and antiquities smuggling. Credited with completing the modern transformation of the Acropolis into a historic landmark, he uncovered many of its monuments. He oversaw the opening of the National Archaeological Museum in Athens and organised its first collections. He was also a professor at the University of Athens. Regarded as energetic, centralising and autocratic, he was criticised by native Greek archaeologists, and removed from office in 1909. He returned to public and academic life in 1912, and remained active in Greek archaeology until his death. (Full article...)\n",
      "Recently featured: Goodwin Fire Banksia grossa Cerro Tuzgle\n",
      "Archive By email More featured articles About\n",
      "Did you know ...\n",
      "David Kushner\n",
      "... that David Kushner (pictured) based his song \"Daylight\" on biblical references that inspired him as a child?\n",
      "... that volunteers at a Florida public TV station forced its chief fundraiser to resign by accosting him in the hallway?\n",
      "... that during his tenure as Governor of Central Java, Muhammad Ismail banned rock music concerts and car rallies?\n",
      "... that no one knows how honeybee drones from hundreds of different colonies all converge on the same drone congregation areas to mate?\n",
      "... that James Tissot is thought to have transgressed many Victorian sexual boundaries in his work, even setting a painting aboard the HMS Calcutta as a pun on a female subject's behind?\n",
      "... that in March 1991, hundreds of inmates rioted at the Eden Detention Center over a lack of vegetables on the cafeteria menu, causing an estimated US$250,000 in damages?\n",
      "... that Shigi Qutuqu, a high-ranking official during the early Mongol Empire, survived the first four Mongol khans when he died over the age of eighty?\n",
      "... that on June 14, 2023, Michael Jordan's Flu Game shoes sold for US$1.38 million?\n",
      "Archive Start a new article Nominate an article\n",
      "In the news\n",
      "Yevgeny Prigozhin\n",
      "In Russia, the Wagner mercenary group (leader Yevgeny Prigozhin pictured) stands down after rebelling against the government.\n",
      "In China, an explosion at a restaurant in Yinchuan kills 31 people.\n",
      "A women's prison riot near Tegucigalpa, Honduras, leaves at least 46 inmates dead.\n",
      "In golf, Wyndham Clark wins the U.S. Open.\n",
      "Five people die in the implosion of a submersible in the North Atlantic near the wreck of the Titanic.\n",
      "Ongoing: Russian invasion of Ukraine Sudan conflict\n",
      "Recent deaths: Doris Stockhausen Winnie Ewing Sylvester da Cunha Stevanus Vreeke Runtu Phyllis Gomda Hsi Bernd Schroeder\n",
      "Nominate an article\n",
      "On this day\n",
      "June 25\n",
      "1978 rainbow flag\n",
      "1658 – Anglo-Spanish War: The largest battle ever fought on Jamaica, the three-day Battle of Rio Nuevo, began.\n",
      "1944 – World War II: U.S. Navy and Royal Navy ships bombarded Cherbourg, France, to support U.S. Army units engaged in the Battle of Cherbourg.\n",
      "1950 – The United Nations Security Council passed Resolution 82 condemning the North Korean invasion of South Korea.\n",
      "1978 – The rainbow flag (original version pictured) representing gay pride was first flown at the San Francisco Gay Freedom Day parade.\n",
      "2022 – Russian invasion of Ukraine: Russian forces captured the city of Sievierodonetsk, Ukraine, after six weeks of fighting.\n",
      "Girolamo Corner (b. 1632)Eloísa Díaz (b. 1866)Rose O'Neill (b. 1874)Ernest Walton (d. 1995)\n",
      "More anniversaries: June 24 June 25 June 26\n",
      "Archive By email List of days of the year\n",
      "Today's featured picture\n",
      "Ama Dablam is a mountain located in the eastern Himalayas in Koshi Province, Nepal. The main peak is at an elevation of 6,812 metres (22,349 feet) above sea level, and the lower western peak is at 6,170 metres (20,243 feet). The name means 'mother's necklace' in Sherpa; the long ridges on each side are thought to resemble the arms of a mother (ama) protecting her child, and the hanging glacier is the dablam, the traditional double-pendant containing pictures of the gods and worn by Sherpa women. For several days, the mountain dominates the eastern sky for trekkers to South Base Camp on Mount Everest. Due to its soaring ridges and steep faces, Ama Dablam is sometimes referred as the \"Matterhorn of the Himalayas\". The mountain is featured on the Nepalese one-rupee banknote. This photograph of Ama Dablam as seen from Chola Valley was taken in October 2009.\n",
      "Photograph credit: Vyacheslav Argenberg\n",
      "Recently featured: Södermanland Runic Inscription 113 Cerussite Bandits' Roost, 59 1/2 Mulberry Street\n",
      "Archive More featured pictures\n",
      "Other areas of Wikipedia\n",
      "Community portal – The central hub for editors, with resources, links, tasks, and announcements.\n",
      "Village pump – Forum for discussions about Wikipedia itself, including policies and technical issues.\n",
      "Site news – Sources of news about Wikipedia and the broader Wikimedia movement.\n",
      "Teahouse – Ask basic questions about using or editing Wikipedia.\n",
      "Help desk – Ask questions about using or editing Wikipedia.\n",
      "Reference desk – Ask research questions about encyclopedic topics.\n",
      "Content portals – A unique way to navigate the encyclopedia.\n",
      "Wikipedia's sister projects\n",
      "Wikipedia is written by volunteer editors and hosted by the Wikimedia Foundation, a non-profit organization that also hosts a range of other volunteer projects:\n",
      "Commons\n",
      "Free media repository\n",
      "MediaWiki\n",
      "Wiki software development\n",
      "Meta-Wiki\n",
      "Wikimedia project coordination\n",
      "Wikibooks\n",
      "Free textbooks and manuals\n",
      "Wikidata\n",
      "Free knowledge base\n",
      "Wikinews\n",
      "Free-content news\n",
      "Wikiquote\n",
      "Collection of quotations\n",
      "Wikisource\n",
      "Free-content library\n",
      "Wikispecies\n",
      "Directory of species\n",
      "Wikiversity\n",
      "Free learning tools\n",
      "Wikivoyage\n",
      "Free travel guide\n",
      "Wiktionary\n",
      "Dictionary and thesaurus\n",
      "Wikipedia languages\n",
      "This Wikipedia is written in English. Many other Wikipedias are available; some of the largest are listed below.\n",
      "1,000,000+ articles\n",
      "العربية Deutsch Español Français Italiano Nederlands 日本語 Polski Português Русский Svenska Українська Tiếng Việt 中文\n",
      "250,000+ articles\n",
      "Bahasa Indonesia Bahasa Melayu Bân-lâm-gú Български Català Čeština Dansk Esperanto Euskara فارسی עברית 한국어 Magyar Norsk bokmål Română Srpski Srpskohrvatski Suomi Türkçe\n",
      "50,000+ articles\n",
      "Asturianu বাংলা Bosanski Eesti Ελληνικά Simple English Frysk Gaeilge Galego Hrvatski ქართული Latviešu Lietuvių മലയാളം Македонски Norsk nynorsk ਪੰਜਾਬੀ Shqip Slovenčina Slovenščina ไทย\n",
      "47 languages\n"
     ]
    }
   ],
   "source": [
    "for t in driver.find_elements(by=By.XPATH, value='//div[@id=\"bodyContent\"]'):\n",
    "    print(t.text)"
   ],
   "metadata": {
    "collapsed": false,
    "ExecuteTime": {
     "end_time": "2023-06-25T19:08:53.233014400Z",
     "start_time": "2023-06-25T19:08:53.092013Z"
    }
   }
  }
 ],
 "metadata": {
  "kernelspec": {
   "display_name": "Python 3",
   "language": "python",
   "name": "python3"
  },
  "language_info": {
   "codemirror_mode": {
    "name": "ipython",
    "version": 2
   },
   "file_extension": ".py",
   "mimetype": "text/x-python",
   "name": "python",
   "nbconvert_exporter": "python",
   "pygments_lexer": "ipython2",
   "version": "2.7.6"
  }
 },
 "nbformat": 4,
 "nbformat_minor": 0
}
