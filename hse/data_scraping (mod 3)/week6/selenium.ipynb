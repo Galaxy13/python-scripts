{
 "cells": [
  {
   "cell_type": "code",
   "execution_count": 17,
   "metadata": {
    "collapsed": true,
    "ExecuteTime": {
     "end_time": "2023-06-25T20:05:27.129574400Z",
     "start_time": "2023-06-25T20:05:27.119573100Z"
    }
   },
   "outputs": [],
   "source": [
    "from selenium import webdriver\n",
    "from selenium.webdriver.common.by import By"
   ]
  },
  {
   "cell_type": "code",
   "execution_count": 7,
   "outputs": [],
   "source": [
    "from bs4 import BeautifulSoup"
   ],
   "metadata": {
    "collapsed": false,
    "ExecuteTime": {
     "end_time": "2023-06-25T18:48:39.781702800Z",
     "start_time": "2023-06-25T18:48:39.609870700Z"
    }
   }
  },
  {
   "cell_type": "code",
   "execution_count": 20,
   "outputs": [],
   "source": [
    "driver = webdriver.Chrome()"
   ],
   "metadata": {
    "collapsed": false,
    "ExecuteTime": {
     "end_time": "2023-06-25T20:06:18.377403Z",
     "start_time": "2023-06-25T20:06:17.251333800Z"
    }
   }
  },
  {
   "cell_type": "code",
   "execution_count": 21,
   "outputs": [],
   "source": [
    "url = 'https://en.wikipedia.org'\n",
    "driver.get(url)"
   ],
   "metadata": {
    "collapsed": false,
    "ExecuteTime": {
     "end_time": "2023-06-25T20:06:31.755189100Z",
     "start_time": "2023-06-25T20:06:31.163578300Z"
    }
   }
  },
  {
   "cell_type": "code",
   "execution_count": 8,
   "outputs": [],
   "source": [
    "soup = BeautifulSoup(driver.page_source)"
   ],
   "metadata": {
    "collapsed": false,
    "ExecuteTime": {
     "end_time": "2023-06-25T18:48:53.022761400Z",
     "start_time": "2023-06-25T18:48:52.804387100Z"
    }
   }
  },
  {
   "cell_type": "code",
   "execution_count": 10,
   "outputs": [
    {
     "name": "stdout",
     "output_type": "stream",
     "text": [
      "Веб-результат со ссылками на сайтBirds — самый высокий ресторан и клуб в миреBirds.cityhttps://birds.cityBirds.cityhttps://birds.cityСамый высокий ресторан, бар и ночной клуб в мире Birds, Москва-Сити, Башня ОКО. Оригинальное паназиатское меню. Доставка по Москве!МенюEARLY BIRDS · БАНКЕТЫ · НОВОСТИ · Меню · Новости ...Клуб BIRDS в «Москва СитиКак увидеть Москву с высоты птичьего полета? Посмотрите ...ФотоотчетыФотографии с вечеринок Birds.КонтактыКаждый гость – очень важная часть атмосферы BIRDS ...Другие результаты с сайта birds.city »\n",
      "Birds — самый высокий ресторан и клуб в миреBirds.cityhttps://birds.cityBirds.cityhttps://birds.cityСамый высокий ресторан, бар и ночной клуб в мире Birds, Москва-Сити, Башня ОКО. Оригинальное паназиатское меню. Доставка по Москве!\n",
      "Ресторан Birds - Башня ОКО в Москва-Сити (Бёрдс - 84 этаж)Gdebarhttps://www.gdebar.ru › filevskaya › mezhdunarodnayaGdebarhttps://www.gdebar.ru › filevskaya › mezhdunarodnayaСохраненная копия\n",
      "Заказать столик - Ресторан Birds - Башня ОКО в Москва-Сити / Бёрдсgdebar.ruhttps://www.gdebar.ru › bars › filevskaya › zakazat-stolikgdebar.ruhttps://www.gdebar.ru › bars › filevskaya › zakazat-stolik\n",
      "Панорамный ресторан в Москва-Сити на 89 этаже - Panorama360pnr360.ruhttps://pnr360.ru › restoran-moskva-sitipnr360.ruhttps://pnr360.ru › restoran-moskva-siti\n",
      "Ресторан «Birds» / «Бердс», МоскваRestoclub.ruhttps://www.restoclub.ru › ... › Каталог ресторановRestoclub.ruhttps://www.restoclub.ru › ... › Каталог ресторановBirds — ресторан-клуб с развлекательной программой в деловом центре «Москва-Сити». Мультиформатный проект работает на 84 этаже башни «Око». Рейтинг: 5,8/10 · ‎3 отзыва · ‎Диапазон цен: 3500\n",
      "Birds, Москва - фото ресторанаTripAdvisorhttps://www.tripadvisor.ru › ... › МоскваTripAdvisorhttps://www.tripadvisor.ru › ... › МоскваBirds, Москва: просмотрите 81 объективных отзывов о Birds с оценкой 4 из 5 на сайте Tripadvisor и рейтингом 1 386 среди 15 649 ресторанов в Москве. Рейтинг: 4 · ‎81 отзыв · ‎Диапазон цен: $$$$\n",
      "Birds, ресторан, 1-й Красногвардейский пр., 21 ... - YandexYandexhttps://yandex.ru › Карты › Москва › РестораныYandexhttps://yandex.ru › Карты › Москва › РестораныBirds ⭐ , M Международная, 1-й Красногвардейский пр., 21, стр. 2, Москва: ✓ фотографии, адрес и ☎️ телефон, часы работы, фото и отзывы посетителей на ... Рейтинг: 4,8 · ‎2 360 голосов · ‎Диапазон цен: 5000 ₽\n",
      "Ресторан Birds в МосквеРесторан.руhttps://www.restoran.ru › msk › detailed › restaurantsРесторан.руhttps://www.restoran.ru › msk › detailed › restaurantsРесторан Birds в Москве, 1-й Красногвардейский пр-д, д. 21, стр. 2, Москва-сити, Башня ОКО, 84 этаж: описание, фотографии, телефон, меню, отзывы, новости, ... Рейтинг: 2,3 · ‎16 голосов · ‎Диапазон цен: 5000-6000р\n",
      "Ресторан Birds, фото, меню, цены ... - Moscow City Guidemoscow-city.guidehttps://moscow-city.guide › food › bar › birdsmoscow-city.guidehttps://moscow-city.guide › food › bar › birdsРесторан-клуб Birds расположен на 84-м этаже МФК «Око» на высоте 354 метров над уровнем земли. Отсюда можно встретить рассвет над просыпающейся Москвой и ...\n",
      "BIRDS MOSCOW (@birds_354) • ...Instagramhttps://www.instagram.com › birds_354Instagramhttps://www.instagram.com › birds_354354 Restaurant Group by Vasilchuki Chef @alexandr_raylyan. Bar Chef @sorokovov_petr. Birds Show @ikolomoitsev. birds.city + 1. FOOD's profile picture.\n",
      "Другие фотографииДругие фотографииСнаружиСнаружиBirdsСайтМаршрут            Сохранено (0) Сохранено Сохранить     4,5587 отзывов на GoogleРесторанЗаказать столик  Предлагаемые варианты: Еда в заведении · Еда навыносНаходится в: ОКО TowersАдрес: 1-й Красногвардейский пр-д, 21 стр. 2, 84 этаж, Москва, 123317Часы работы: Открыто ⋅ Закроется в 00:00воскресенье18:00–00:00понедельник18:00–00:00вторник18:00–00:00среда18:00–00:00четверг18:00–02:00пятница18:00–05:00суббота18:00–05:00Предложить другие часы работыМеню: birds.cityТелефон: 8 (495) 777-71-11 Бронирования: birds.city, leclick.ru Поставщики Об этих поставщиках услугПоставщики перечислены в случайном порядке. Однако если компания выбрала предпочитаемого поставщика, ссылка на него будет показана первой. Подробности Название места: Раздел: Сайт:   Предстоящие мероприятиявт, 11 июл.20:00Поэтический вечер Георгия Аланского в Москве 11 июля Отзывы в ИнтернетеRestoclub.ru5,8/103 отзываРесторан.ру2,3/516 голосовYandex4,8/52 360 голосовОтзывыОтзывы автоматически проверяются на наличие спама или недопустимого содержания. Если отзыв вызывает сомнение, мы можем удалить его в соответствии с правилами Google или требованиями закона.Написать отзывДобавить фотоФотографии проверяютсяНовые фотографии станут доступны клиентам, когда вы пройдете проверку.Пройти проверкуДобавить ещё фотоБлагодарим за публикацию!Ваша фотография будет опубликована в Google.Добавить ещёГотовоBirds – загрузить фотографииБудет опубликовано как общедоступное\"Все на 5+ - кухня, вид из окна, за дизайн интерьера и инновационный подход 10+.\"\"Отличное заведение с панорамным видом на Москву с высоты 354 метра, 84 этаж.\"\"Как клуб: Красиво, публика топ, музыка средне но это не портит.\"Все отзывы в Google Похожие запросыЕщё 15+Русский РесторанРесторанУрюкДля семьиBamboo...РесторанSixtyРесторанРесторан 360 | Москва С...Ресторан Укажите, о чем вы хотите оставить отзывИли оставьте отзыв общего характера.Об этих данных\n"
     ]
    }
   ],
   "source": [
    "for res in soup.find_all('div', {'class': 'g'}):\n",
    "    print(res.text)"
   ],
   "metadata": {
    "collapsed": false,
    "ExecuteTime": {
     "end_time": "2023-06-25T18:49:57.704788600Z",
     "start_time": "2023-06-25T18:49:57.667787600Z"
    }
   }
  },
  {
   "cell_type": "code",
   "execution_count": 11,
   "outputs": [],
   "source": [
    "driver.quit()"
   ],
   "metadata": {
    "collapsed": false,
    "ExecuteTime": {
     "end_time": "2023-06-25T18:50:16.947695800Z",
     "start_time": "2023-06-25T18:50:14.831567Z"
    }
   }
  },
  {
   "cell_type": "code",
   "execution_count": 14,
   "outputs": [],
   "source": [
    "from selenium.webdriver.chrome.options import Options as ChromeOptions"
   ],
   "metadata": {
    "collapsed": false,
    "ExecuteTime": {
     "end_time": "2023-06-25T18:51:12.285780500Z",
     "start_time": "2023-06-25T18:51:12.279779200Z"
    }
   }
  },
  {
   "cell_type": "code",
   "execution_count": 15,
   "outputs": [],
   "source": [
    "options = ChromeOptions()"
   ],
   "metadata": {
    "collapsed": false,
    "ExecuteTime": {
     "end_time": "2023-06-25T18:51:22.657898500Z",
     "start_time": "2023-06-25T18:51:22.626900600Z"
    }
   }
  },
  {
   "cell_type": "code",
   "execution_count": 16,
   "outputs": [],
   "source": [
    "options.add_argument('--headless')"
   ],
   "metadata": {
    "collapsed": false,
    "ExecuteTime": {
     "end_time": "2023-06-25T18:51:33.627674300Z",
     "start_time": "2023-06-25T18:51:33.606658500Z"
    }
   }
  },
  {
   "cell_type": "code",
   "execution_count": 24,
   "outputs": [
    {
     "data": {
      "text/plain": "[<selenium.webdriver.remote.webelement.WebElement (session=\"80920e29aa3b677ee57d4681b4a658b0\", element=\"FB0EF5374FBC279971103192C818A347_element_23\")>,\n <selenium.webdriver.remote.webelement.WebElement (session=\"80920e29aa3b677ee57d4681b4a658b0\", element=\"FB0EF5374FBC279971103192C818A347_element_24\")>,\n <selenium.webdriver.remote.webelement.WebElement (session=\"80920e29aa3b677ee57d4681b4a658b0\", element=\"FB0EF5374FBC279971103192C818A347_element_25\")>,\n <selenium.webdriver.remote.webelement.WebElement (session=\"80920e29aa3b677ee57d4681b4a658b0\", element=\"FB0EF5374FBC279971103192C818A347_element_26\")>,\n <selenium.webdriver.remote.webelement.WebElement (session=\"80920e29aa3b677ee57d4681b4a658b0\", element=\"FB0EF5374FBC279971103192C818A347_element_27\")>,\n <selenium.webdriver.remote.webelement.WebElement (session=\"80920e29aa3b677ee57d4681b4a658b0\", element=\"FB0EF5374FBC279971103192C818A347_element_28\")>,\n <selenium.webdriver.remote.webelement.WebElement (session=\"80920e29aa3b677ee57d4681b4a658b0\", element=\"FB0EF5374FBC279971103192C818A347_element_29\")>]"
     },
     "execution_count": 24,
     "metadata": {},
     "output_type": "execute_result"
    }
   ],
   "source": [
    "driver.find_elements(by=By.CSS_SELECTOR, value='input')"
   ],
   "metadata": {
    "collapsed": false,
    "ExecuteTime": {
     "end_time": "2023-06-25T20:06:47.118748400Z",
     "start_time": "2023-06-25T20:06:47.057426200Z"
    }
   }
  }
 ],
 "metadata": {
  "kernelspec": {
   "display_name": "Python 3",
   "language": "python",
   "name": "python3"
  },
  "language_info": {
   "codemirror_mode": {
    "name": "ipython",
    "version": 2
   },
   "file_extension": ".py",
   "mimetype": "text/x-python",
   "name": "python",
   "nbconvert_exporter": "python",
   "pygments_lexer": "ipython2",
   "version": "2.7.6"
  }
 },
 "nbformat": 4,
 "nbformat_minor": 0
}
