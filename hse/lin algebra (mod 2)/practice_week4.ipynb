{
 "cells": [
  {
   "cell_type": "code",
   "execution_count": 1,
   "metadata": {
    "collapsed": true
   },
   "outputs": [],
   "source": [
    "import numpy as np"
   ]
  },
  {
   "cell_type": "code",
   "execution_count": 2,
   "outputs": [
    {
     "data": {
      "text/plain": "29999.999999999956"
     },
     "execution_count": 2,
     "metadata": {},
     "output_type": "execute_result"
    }
   ],
   "source": [
    "#1\n",
    "A = np.array([[3000, 150], [-100, 5]])\n",
    "np.linalg.det(A)"
   ],
   "metadata": {
    "collapsed": false
   }
  },
  {
   "cell_type": "code",
   "execution_count": 3,
   "outputs": [
    {
     "data": {
      "text/plain": "-2.0"
     },
     "execution_count": 3,
     "metadata": {},
     "output_type": "execute_result"
    }
   ],
   "source": [
    "A = np.array([[-1,3,1], [-2,2,0], [0,3,1]])\n",
    "np.linalg.det(A)"
   ],
   "metadata": {
    "collapsed": false
   }
  },
  {
   "cell_type": "code",
   "execution_count": 18,
   "outputs": [
    {
     "data": {
      "text/plain": "array([ 2., -1.,  1.])"
     },
     "execution_count": 18,
     "metadata": {},
     "output_type": "execute_result"
    }
   ],
   "source": [
    "A = np.array([[2,3,3], [-2,1,2], [2,0,-1]])\n",
    "np.linalg.eigvals(A)"
   ],
   "metadata": {
    "collapsed": false
   }
  },
  {
   "cell_type": "code",
   "execution_count": 23,
   "outputs": [
    {
     "data": {
      "text/plain": "array([[ -51., -215.,   65.],\n       [  13.,   55.,  -18.],\n       [   7.,   27.,   -2.]])"
     },
     "execution_count": 23,
     "metadata": {},
     "output_type": "execute_result"
    }
   ],
   "source": [
    "A = np.array([[1,-3,1], [-5,0,4], [-7,-5,1]])\n",
    "T = np.array([[1,3,2], [0,1,-2], [1,4,-1]])\n",
    "inv = np.dot(np.linalg.inv(T), A)\n",
    "np.dot(inv, T)"
   ],
   "metadata": {
    "collapsed": false
   }
  },
  {
   "cell_type": "code",
   "execution_count": 24,
   "outputs": [
    {
     "data": {
      "text/plain": "array([-1.,  2.])"
     },
     "execution_count": 24,
     "metadata": {},
     "output_type": "execute_result"
    }
   ],
   "source": [
    "#Week 4\n",
    "#4\n",
    "A = np.array([[-4,6], [-3,5]])\n",
    "np.linalg.eigvals(A)"
   ],
   "metadata": {
    "collapsed": false
   }
  },
  {
   "cell_type": "code",
   "execution_count": 28,
   "outputs": [
    {
     "data": {
      "text/plain": "19.999999999999996"
     },
     "execution_count": 28,
     "metadata": {},
     "output_type": "execute_result"
    }
   ],
   "source": [
    "#6\n",
    "A = np.array([[1,0,1], [-2,1,4], [6,-3,8]])\n",
    "np.linalg.eigvals(A)\n",
    "np.linalg.det(A)"
   ],
   "metadata": {
    "collapsed": false
   }
  },
  {
   "cell_type": "code",
   "execution_count": 30,
   "outputs": [
    {
     "data": {
      "text/plain": "array([2., 0., 2.])"
     },
     "execution_count": 30,
     "metadata": {},
     "output_type": "execute_result"
    }
   ],
   "source": [
    "#10\n",
    "A = np.array([[4,4,0], [-2,-2,0], [2,4,2]])\n",
    "np.linalg.eigvals(A)"
   ],
   "metadata": {
    "collapsed": false
   }
  },
  {
   "cell_type": "code",
   "execution_count": 34,
   "outputs": [
    {
     "data": {
      "text/plain": "array([[-2., -3.],\n       [-1., -1.]])"
     },
     "execution_count": 34,
     "metadata": {},
     "output_type": "execute_result"
    }
   ],
   "source": [
    "A = np.array([[0,2], [-3,5]])\n",
    "np.linalg.eigvals(A)\n",
    "T = np.array([[1,-3], [-1, 2]])\n",
    "np.linalg.inv(T)"
   ],
   "metadata": {
    "collapsed": false
   }
  },
  {
   "cell_type": "code",
   "execution_count": 35,
   "outputs": [
    {
     "data": {
      "text/plain": "array([-1.        ,  1.99999998,  2.00000002])"
     },
     "execution_count": 35,
     "metadata": {},
     "output_type": "execute_result"
    }
   ],
   "source": [
    "#7\n",
    "A = np.array([[2,1,0], [-1,0,1], [1,3,1]])\n",
    "np.linalg.eigvals(A)"
   ],
   "metadata": {
    "collapsed": false
   }
  },
  {
   "cell_type": "code",
   "execution_count": 52,
   "outputs": [
    {
     "data": {
      "text/plain": "-4.0"
     },
     "execution_count": 52,
     "metadata": {},
     "output_type": "execute_result"
    }
   ],
   "source": [
    "# experiments\n",
    "A = np.array([[1,2,3,5], [5,2,7,8], [9,1,11,12], [15,14,15,16]])\n",
    "A = A.transpose()\n",
    "B = np.array([-A[0] + 2 * A[1], 2 * A[0] - 3 * A[1] - A[2], A[0] + 2 * A[1] - A[2] + 2 * A[3], -A[0] + A[1] + A[2] + A[3]])\n",
    "B_2 = np.array([-A[0] + 2 * A[1], 2 * A[0] - 3 * A[1] - 3 * A[2], A[0] + 2 * A[1] - A[2] + 2 * A[3], -A[0] + A[1] + A[2] + A[3]])\n",
    "y = np.array([[3,-1], [5,0]])\n",
    "T = np.array([[1,1,-1,1], [2,3,1,2], [0,1,1,3], [0,0,2,-1]])\n",
    "np.linalg.det(T)"
   ],
   "metadata": {
    "collapsed": false
   }
  }
 ],
 "metadata": {
  "kernelspec": {
   "display_name": "Python 3",
   "language": "python",
   "name": "python3"
  },
  "language_info": {
   "codemirror_mode": {
    "name": "ipython",
    "version": 2
   },
   "file_extension": ".py",
   "mimetype": "text/x-python",
   "name": "python",
   "nbconvert_exporter": "python",
   "pygments_lexer": "ipython2",
   "version": "2.7.6"
  }
 },
 "nbformat": 4,
 "nbformat_minor": 0
}
