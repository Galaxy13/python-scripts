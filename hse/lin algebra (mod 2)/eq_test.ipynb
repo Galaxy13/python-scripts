{
 "cells": [
  {
   "cell_type": "code",
   "execution_count": 1,
   "metadata": {
    "collapsed": true
   },
   "outputs": [],
   "source": [
    "import numpy as np"
   ]
  },
  {
   "cell_type": "code",
   "execution_count": 5,
   "outputs": [
    {
     "data": {
      "text/plain": "array([[1.5],\n       [1. ]])"
     },
     "execution_count": 5,
     "metadata": {},
     "output_type": "execute_result"
    }
   ],
   "source": [
    "A = np.array([[4,2], [4, -1]])\n",
    "b = np.array([[8], [5]])\n",
    "np.dot(np.linalg.inv(A), b)"
   ],
   "metadata": {
    "collapsed": false
   }
  },
  {
   "cell_type": "code",
   "execution_count": 9,
   "outputs": [
    {
     "data": {
      "text/plain": "array([[-2.5],\n       [ 7. ],\n       [ 0.5]])"
     },
     "execution_count": 9,
     "metadata": {},
     "output_type": "execute_result"
    }
   ],
   "source": [
    "A = np.array([[4,2,2], [3,2,1], [-2,-1,-2]])\n",
    "np.dot(np.linalg.inv(A), np.array([[5], [7], [-3]]))"
   ],
   "metadata": {
    "collapsed": false
   }
  },
  {
   "cell_type": "code",
   "execution_count": 15,
   "outputs": [
    {
     "data": {
      "text/plain": "array([[1., 0.],\n       [1., 1.]])"
     },
     "execution_count": 15,
     "metadata": {},
     "output_type": "execute_result"
    }
   ],
   "source": [
    "T = np.array([[1,0], [-1,1]])\n",
    "A = np.array([[2,1], [2, -1]])\n",
    "np.linalg.inv(T)\n",
    "#"
   ],
   "metadata": {
    "collapsed": false
   }
  },
  {
   "cell_type": "code",
   "execution_count": 20,
   "outputs": [
    {
     "data": {
      "text/plain": "array([[-1, 16, 14,  6],\n       [-2, 32, 28, 12],\n       [-1, 16, 14,  6],\n       [-2, 32, 28, 12]])"
     },
     "execution_count": 20,
     "metadata": {},
     "output_type": "execute_result"
    }
   ],
   "source": [
    "A = np.array([[1,0,2], [2,-1,0], [0,1,0]])\n",
    "B = np.array([[0, 2, 1, 3], [-1, 0, 6, 4], [1, 0, 1, -7], [0, 7, 0, 1]])\n",
    "C = np.array([[1, 2, 1, 2]])\n",
    "D = np.array([[1, -1], [0, 1], [-1, 0]])\n",
    "np.dot(np.dot(np.transpose(C), C), B)"
   ],
   "metadata": {
    "collapsed": false
   }
  },
  {
   "cell_type": "markdown",
   "source": [],
   "metadata": {
    "collapsed": false
   }
  },
  {
   "cell_type": "code",
   "execution_count": 22,
   "outputs": [
    {
     "name": "stdout",
     "output_type": "stream",
     "text": [
      "Processing c:\\users\\home\\documents\\наде\\sympy-1.11.1-py3-none-any.whl\n",
      "Requirement already satisfied: mpmath>=0.19 in c:\\users\\home\\miniconda3\\envs\\py-scripts\\lib\\site-packages (from sympy==1.11.1) (1.2.1)\n",
      "sympy is already installed with the same version as the provided wheel. Use --force-reinstall to force an installation of the wheel.\n"
     ]
    }
   ],
   "source": [
    "!pip install C:\\Users\\Home\\Documents\\наде\\sympy-1.11.1-py3-none-any.whl"
   ],
   "metadata": {
    "collapsed": false
   }
  },
  {
   "cell_type": "code",
   "execution_count": 23,
   "outputs": [
    {
     "name": "stderr",
     "output_type": "stream",
     "text": [
      "Exception ignored in: <generator object iter_fields at 0x000001E0AD8031B0>\n",
      "Traceback (most recent call last):\n",
      "  File \"C:\\Users\\Home\\miniconda3\\envs\\py-scripts\\lib\\ast.py\", line 254, in iter_fields\n",
      "    yield field, getattr(node, field)\n",
      "KeyboardInterrupt: \n"
     ]
    },
    {
     "ename": "KeyboardInterrupt",
     "evalue": "",
     "output_type": "error",
     "traceback": [
      "\u001B[1;31m---------------------------------------------------------------------------\u001B[0m",
      "\u001B[1;31mKeyboardInterrupt\u001B[0m                         Traceback (most recent call last)",
      "Cell \u001B[1;32mIn [23], line 3\u001B[0m\n\u001B[0;32m      1\u001B[0m \u001B[38;5;28;01mfrom\u001B[39;00m \u001B[38;5;21;01msympy\u001B[39;00m \u001B[38;5;28;01mimport\u001B[39;00m Matrix\n\u001B[0;32m      2\u001B[0m A \u001B[38;5;241m=\u001B[39m np\u001B[38;5;241m.\u001B[39marray([[\u001B[38;5;241m0\u001B[39m, \u001B[38;5;241m1\u001B[39m, \u001B[38;5;241m0\u001B[39m, \u001B[38;5;241m1\u001B[39m], [\u001B[38;5;241m1\u001B[39m,\u001B[38;5;241m1\u001B[39m, \u001B[38;5;241m1\u001B[39m, \u001B[38;5;241m1\u001B[39m], [\u001B[38;5;241m2\u001B[39m, \u001B[38;5;241m3\u001B[39m, \u001B[38;5;241m4\u001B[39m, \u001B[38;5;241m5\u001B[39m], [\u001B[38;5;241m5\u001B[39m, \u001B[38;5;241m7\u001B[39m, \u001B[38;5;241m9\u001B[39m, \u001B[38;5;241m11\u001B[39m]])\n\u001B[1;32m----> 3\u001B[0m \u001B[43mMatrix\u001B[49m\u001B[43m(\u001B[49m\u001B[43mA\u001B[49m\u001B[43m)\u001B[49m\u001B[38;5;241;43m.\u001B[39;49m\u001B[43mjordan_form\u001B[49m\u001B[43m(\u001B[49m\u001B[43m)\u001B[49m\n",
      "File \u001B[1;32m~\\miniconda3\\envs\\py-scripts\\lib\\site-packages\\sympy\\matrices\\matrices.py:418\u001B[0m, in \u001B[0;36mMatrixEigen.jordan_form\u001B[1;34m(self, calc_transform, **kwargs)\u001B[0m\n\u001B[0;32m    417\u001B[0m \u001B[38;5;28;01mdef\u001B[39;00m \u001B[38;5;21mjordan_form\u001B[39m(\u001B[38;5;28mself\u001B[39m, calc_transform\u001B[38;5;241m=\u001B[39m\u001B[38;5;28;01mTrue\u001B[39;00m, \u001B[38;5;241m*\u001B[39m\u001B[38;5;241m*\u001B[39mkwargs):\n\u001B[1;32m--> 418\u001B[0m     \u001B[38;5;28;01mreturn\u001B[39;00m _jordan_form(\u001B[38;5;28mself\u001B[39m, calc_transform\u001B[38;5;241m=\u001B[39mcalc_transform, \u001B[38;5;241m*\u001B[39m\u001B[38;5;241m*\u001B[39mkwargs)\n",
      "File \u001B[1;32m~\\miniconda3\\envs\\py-scripts\\lib\\site-packages\\sympy\\matrices\\eigen.py:1218\u001B[0m, in \u001B[0;36m_jordan_form\u001B[1;34m(M, calc_transform, chop)\u001B[0m\n\u001B[0;32m   1215\u001B[0m \u001B[38;5;28;01mif\u001B[39;00m \u001B[38;5;129;01mnot\u001B[39;00m calc_transform:\n\u001B[0;32m   1216\u001B[0m     \u001B[38;5;28;01mreturn\u001B[39;00m restore_floats(jordan_mat)\n\u001B[1;32m-> 1218\u001B[0m jordan_basis \u001B[38;5;241m=\u001B[39m [eig_mat(eig, \u001B[38;5;241m1\u001B[39m)\u001B[38;5;241m.\u001B[39mnullspace()[\u001B[38;5;241m0\u001B[39m]\n\u001B[0;32m   1219\u001B[0m         \u001B[38;5;28;01mfor\u001B[39;00m eig \u001B[38;5;129;01min\u001B[39;00m blocks]\n\u001B[0;32m   1220\u001B[0m basis_mat    \u001B[38;5;241m=\u001B[39m mat\u001B[38;5;241m.\u001B[39mhstack(\u001B[38;5;241m*\u001B[39mjordan_basis)\n\u001B[0;32m   1222\u001B[0m \u001B[38;5;28;01mreturn\u001B[39;00m restore_floats(basis_mat, jordan_mat)\n",
      "File \u001B[1;32m~\\miniconda3\\envs\\py-scripts\\lib\\site-packages\\sympy\\matrices\\eigen.py:1218\u001B[0m, in \u001B[0;36m<listcomp>\u001B[1;34m(.0)\u001B[0m\n\u001B[0;32m   1215\u001B[0m \u001B[38;5;28;01mif\u001B[39;00m \u001B[38;5;129;01mnot\u001B[39;00m calc_transform:\n\u001B[0;32m   1216\u001B[0m     \u001B[38;5;28;01mreturn\u001B[39;00m restore_floats(jordan_mat)\n\u001B[1;32m-> 1218\u001B[0m jordan_basis \u001B[38;5;241m=\u001B[39m [\u001B[43meig_mat\u001B[49m\u001B[43m(\u001B[49m\u001B[43meig\u001B[49m\u001B[43m,\u001B[49m\u001B[43m \u001B[49m\u001B[38;5;241;43m1\u001B[39;49m\u001B[43m)\u001B[49m\u001B[38;5;241;43m.\u001B[39;49m\u001B[43mnullspace\u001B[49m\u001B[43m(\u001B[49m\u001B[43m)\u001B[49m[\u001B[38;5;241m0\u001B[39m]\n\u001B[0;32m   1219\u001B[0m         \u001B[38;5;28;01mfor\u001B[39;00m eig \u001B[38;5;129;01min\u001B[39;00m blocks]\n\u001B[0;32m   1220\u001B[0m basis_mat    \u001B[38;5;241m=\u001B[39m mat\u001B[38;5;241m.\u001B[39mhstack(\u001B[38;5;241m*\u001B[39mjordan_basis)\n\u001B[0;32m   1222\u001B[0m \u001B[38;5;28;01mreturn\u001B[39;00m restore_floats(basis_mat, jordan_mat)\n",
      "File \u001B[1;32m~\\miniconda3\\envs\\py-scripts\\lib\\site-packages\\sympy\\matrices\\matrices.py:353\u001B[0m, in \u001B[0;36mMatrixSubspaces.nullspace\u001B[1;34m(self, simplify, iszerofunc)\u001B[0m\n\u001B[0;32m    352\u001B[0m \u001B[38;5;28;01mdef\u001B[39;00m \u001B[38;5;21mnullspace\u001B[39m(\u001B[38;5;28mself\u001B[39m, simplify\u001B[38;5;241m=\u001B[39m\u001B[38;5;28;01mFalse\u001B[39;00m, iszerofunc\u001B[38;5;241m=\u001B[39m_iszero):\n\u001B[1;32m--> 353\u001B[0m     \u001B[38;5;28;01mreturn\u001B[39;00m \u001B[43m_nullspace\u001B[49m\u001B[43m(\u001B[49m\u001B[38;5;28;43mself\u001B[39;49m\u001B[43m,\u001B[49m\u001B[43m \u001B[49m\u001B[43msimplify\u001B[49m\u001B[38;5;241;43m=\u001B[39;49m\u001B[43msimplify\u001B[49m\u001B[43m,\u001B[49m\u001B[43m \u001B[49m\u001B[43miszerofunc\u001B[49m\u001B[38;5;241;43m=\u001B[39;49m\u001B[43miszerofunc\u001B[49m\u001B[43m)\u001B[49m\n",
      "File \u001B[1;32m~\\miniconda3\\envs\\py-scripts\\lib\\site-packages\\sympy\\matrices\\subspaces.py:64\u001B[0m, in \u001B[0;36m_nullspace\u001B[1;34m(M, simplify, iszerofunc)\u001B[0m\n\u001B[0;32m     38\u001B[0m \u001B[38;5;28;01mdef\u001B[39;00m \u001B[38;5;21m_nullspace\u001B[39m(M, simplify\u001B[38;5;241m=\u001B[39m\u001B[38;5;28;01mFalse\u001B[39;00m, iszerofunc\u001B[38;5;241m=\u001B[39m_iszero):\n\u001B[0;32m     39\u001B[0m     \u001B[38;5;124;03m\"\"\"Returns list of vectors (Matrix objects) that span nullspace of ``M``\u001B[39;00m\n\u001B[0;32m     40\u001B[0m \n\u001B[0;32m     41\u001B[0m \u001B[38;5;124;03m    Examples\u001B[39;00m\n\u001B[1;32m   (...)\u001B[0m\n\u001B[0;32m     61\u001B[0m \u001B[38;5;124;03m    rowspace\u001B[39;00m\n\u001B[0;32m     62\u001B[0m \u001B[38;5;124;03m    \"\"\"\u001B[39;00m\n\u001B[1;32m---> 64\u001B[0m     reduced, pivots \u001B[38;5;241m=\u001B[39m \u001B[43mM\u001B[49m\u001B[38;5;241;43m.\u001B[39;49m\u001B[43mrref\u001B[49m\u001B[43m(\u001B[49m\u001B[43miszerofunc\u001B[49m\u001B[38;5;241;43m=\u001B[39;49m\u001B[43miszerofunc\u001B[49m\u001B[43m,\u001B[49m\u001B[43m \u001B[49m\u001B[43msimplify\u001B[49m\u001B[38;5;241;43m=\u001B[39;49m\u001B[43msimplify\u001B[49m\u001B[43m)\u001B[49m\n\u001B[0;32m     66\u001B[0m     free_vars \u001B[38;5;241m=\u001B[39m [i \u001B[38;5;28;01mfor\u001B[39;00m i \u001B[38;5;129;01min\u001B[39;00m \u001B[38;5;28mrange\u001B[39m(M\u001B[38;5;241m.\u001B[39mcols) \u001B[38;5;28;01mif\u001B[39;00m i \u001B[38;5;129;01mnot\u001B[39;00m \u001B[38;5;129;01min\u001B[39;00m pivots]\n\u001B[0;32m     67\u001B[0m     basis     \u001B[38;5;241m=\u001B[39m []\n",
      "File \u001B[1;32m~\\miniconda3\\envs\\py-scripts\\lib\\site-packages\\sympy\\matrices\\matrices.py:174\u001B[0m, in \u001B[0;36mMatrixReductions.rref\u001B[1;34m(self, iszerofunc, simplify, pivots, normalize_last)\u001B[0m\n\u001B[0;32m    172\u001B[0m \u001B[38;5;28;01mdef\u001B[39;00m \u001B[38;5;21mrref\u001B[39m(\u001B[38;5;28mself\u001B[39m, iszerofunc\u001B[38;5;241m=\u001B[39m_iszero, simplify\u001B[38;5;241m=\u001B[39m\u001B[38;5;28;01mFalse\u001B[39;00m, pivots\u001B[38;5;241m=\u001B[39m\u001B[38;5;28;01mTrue\u001B[39;00m,\n\u001B[0;32m    173\u001B[0m         normalize_last\u001B[38;5;241m=\u001B[39m\u001B[38;5;28;01mTrue\u001B[39;00m):\n\u001B[1;32m--> 174\u001B[0m     \u001B[38;5;28;01mreturn\u001B[39;00m \u001B[43m_rref\u001B[49m\u001B[43m(\u001B[49m\u001B[38;5;28;43mself\u001B[39;49m\u001B[43m,\u001B[49m\u001B[43m \u001B[49m\u001B[43miszerofunc\u001B[49m\u001B[38;5;241;43m=\u001B[39;49m\u001B[43miszerofunc\u001B[49m\u001B[43m,\u001B[49m\u001B[43m \u001B[49m\u001B[43msimplify\u001B[49m\u001B[38;5;241;43m=\u001B[39;49m\u001B[43msimplify\u001B[49m\u001B[43m,\u001B[49m\n\u001B[0;32m    175\u001B[0m \u001B[43m        \u001B[49m\u001B[43mpivots\u001B[49m\u001B[38;5;241;43m=\u001B[39;49m\u001B[43mpivots\u001B[49m\u001B[43m,\u001B[49m\u001B[43m \u001B[49m\u001B[43mnormalize_last\u001B[49m\u001B[38;5;241;43m=\u001B[39;49m\u001B[43mnormalize_last\u001B[49m\u001B[43m)\u001B[49m\n",
      "File \u001B[1;32m~\\miniconda3\\envs\\py-scripts\\lib\\site-packages\\sympy\\matrices\\reductions.py:320\u001B[0m, in \u001B[0;36m_rref\u001B[1;34m(M, iszerofunc, simplify, pivots, normalize_last)\u001B[0m\n\u001B[0;32m    247\u001B[0m \u001B[38;5;124;03m\"\"\"Return reduced row-echelon form of matrix and indices of pivot vars.\u001B[39;00m\n\u001B[0;32m    248\u001B[0m \n\u001B[0;32m    249\u001B[0m \u001B[38;5;124;03mParameters\u001B[39;00m\n\u001B[1;32m   (...)\u001B[0m\n\u001B[0;32m    315\u001B[0m \u001B[38;5;124;03mof the matrix, set ``noramlize_last=False``\u001B[39;00m\n\u001B[0;32m    316\u001B[0m \u001B[38;5;124;03m\"\"\"\u001B[39;00m\n\u001B[0;32m    318\u001B[0m simpfunc \u001B[38;5;241m=\u001B[39m simplify \u001B[38;5;28;01mif\u001B[39;00m \u001B[38;5;28misinstance\u001B[39m(simplify, FunctionType) \u001B[38;5;28;01melse\u001B[39;00m _simplify\n\u001B[1;32m--> 320\u001B[0m mat, pivot_cols, _ \u001B[38;5;241m=\u001B[39m \u001B[43m_row_reduce\u001B[49m\u001B[43m(\u001B[49m\u001B[43mM\u001B[49m\u001B[43m,\u001B[49m\u001B[43m \u001B[49m\u001B[43miszerofunc\u001B[49m\u001B[43m,\u001B[49m\u001B[43m \u001B[49m\u001B[43msimpfunc\u001B[49m\u001B[43m,\u001B[49m\n\u001B[0;32m    321\u001B[0m \u001B[43m        \u001B[49m\u001B[43mnormalize_last\u001B[49m\u001B[43m,\u001B[49m\u001B[43m \u001B[49m\u001B[43mnormalize\u001B[49m\u001B[38;5;241;43m=\u001B[39;49m\u001B[38;5;28;43;01mTrue\u001B[39;49;00m\u001B[43m,\u001B[49m\u001B[43m \u001B[49m\u001B[43mzero_above\u001B[49m\u001B[38;5;241;43m=\u001B[39;49m\u001B[38;5;28;43;01mTrue\u001B[39;49;00m\u001B[43m)\u001B[49m\n\u001B[0;32m    323\u001B[0m \u001B[38;5;28;01mif\u001B[39;00m pivots:\n\u001B[0;32m    324\u001B[0m     mat \u001B[38;5;241m=\u001B[39m (mat, pivot_cols)\n",
      "File \u001B[1;32m~\\miniconda3\\envs\\py-scripts\\lib\\site-packages\\sympy\\matrices\\reductions.py:124\u001B[0m, in \u001B[0;36m_row_reduce\u001B[1;34m(M, iszerofunc, simpfunc, normalize_last, normalize, zero_above)\u001B[0m\n\u001B[0;32m    121\u001B[0m \u001B[38;5;28;01mdef\u001B[39;00m \u001B[38;5;21m_row_reduce\u001B[39m(M, iszerofunc, simpfunc, normalize_last\u001B[38;5;241m=\u001B[39m\u001B[38;5;28;01mTrue\u001B[39;00m,\n\u001B[0;32m    122\u001B[0m                 normalize\u001B[38;5;241m=\u001B[39m\u001B[38;5;28;01mTrue\u001B[39;00m, zero_above\u001B[38;5;241m=\u001B[39m\u001B[38;5;28;01mTrue\u001B[39;00m):\n\u001B[1;32m--> 124\u001B[0m     mat, pivot_cols, swaps \u001B[38;5;241m=\u001B[39m \u001B[43m_row_reduce_list\u001B[49m\u001B[43m(\u001B[49m\u001B[38;5;28;43mlist\u001B[39;49m\u001B[43m(\u001B[49m\u001B[43mM\u001B[49m\u001B[43m)\u001B[49m\u001B[43m,\u001B[49m\u001B[43m \u001B[49m\u001B[43mM\u001B[49m\u001B[38;5;241;43m.\u001B[39;49m\u001B[43mrows\u001B[49m\u001B[43m,\u001B[49m\u001B[43m \u001B[49m\u001B[43mM\u001B[49m\u001B[38;5;241;43m.\u001B[39;49m\u001B[43mcols\u001B[49m\u001B[43m,\u001B[49m\u001B[43m \u001B[49m\u001B[43mM\u001B[49m\u001B[38;5;241;43m.\u001B[39;49m\u001B[43mone\u001B[49m\u001B[43m,\u001B[49m\n\u001B[0;32m    125\u001B[0m \u001B[43m            \u001B[49m\u001B[43miszerofunc\u001B[49m\u001B[43m,\u001B[49m\u001B[43m \u001B[49m\u001B[43msimpfunc\u001B[49m\u001B[43m,\u001B[49m\u001B[43m \u001B[49m\u001B[43mnormalize_last\u001B[49m\u001B[38;5;241;43m=\u001B[39;49m\u001B[43mnormalize_last\u001B[49m\u001B[43m,\u001B[49m\n\u001B[0;32m    126\u001B[0m \u001B[43m            \u001B[49m\u001B[43mnormalize\u001B[49m\u001B[38;5;241;43m=\u001B[39;49m\u001B[43mnormalize\u001B[49m\u001B[43m,\u001B[49m\u001B[43m \u001B[49m\u001B[43mzero_above\u001B[49m\u001B[38;5;241;43m=\u001B[39;49m\u001B[43mzero_above\u001B[49m\u001B[43m)\u001B[49m\n\u001B[0;32m    128\u001B[0m     \u001B[38;5;28;01mreturn\u001B[39;00m M\u001B[38;5;241m.\u001B[39m_new(M\u001B[38;5;241m.\u001B[39mrows, M\u001B[38;5;241m.\u001B[39mcols, mat), pivot_cols, swaps\n",
      "File \u001B[1;32m~\\miniconda3\\envs\\py-scripts\\lib\\site-packages\\sympy\\matrices\\reductions.py:65\u001B[0m, in \u001B[0;36m_row_reduce_list\u001B[1;34m(mat, rows, cols, one, iszerofunc, simpfunc, normalize_last, normalize, zero_above)\u001B[0m\n\u001B[0;32m     62\u001B[0m \u001B[38;5;66;03m# use a fraction free method to zero above and below each pivot\u001B[39;00m\n\u001B[0;32m     63\u001B[0m \u001B[38;5;28;01mwhile\u001B[39;00m piv_col \u001B[38;5;241m<\u001B[39m cols \u001B[38;5;129;01mand\u001B[39;00m piv_row \u001B[38;5;241m<\u001B[39m rows:\n\u001B[0;32m     64\u001B[0m     pivot_offset, pivot_val, \\\n\u001B[1;32m---> 65\u001B[0m     assumed_nonzero, newly_determined \u001B[38;5;241m=\u001B[39m \u001B[43m_find_reasonable_pivot\u001B[49m\u001B[43m(\u001B[49m\n\u001B[0;32m     66\u001B[0m \u001B[43m            \u001B[49m\u001B[43mget_col\u001B[49m\u001B[43m(\u001B[49m\u001B[43mpiv_col\u001B[49m\u001B[43m)\u001B[49m\u001B[43m[\u001B[49m\u001B[43mpiv_row\u001B[49m\u001B[43m:\u001B[49m\u001B[43m]\u001B[49m\u001B[43m,\u001B[49m\u001B[43m \u001B[49m\u001B[43miszerofunc\u001B[49m\u001B[43m,\u001B[49m\u001B[43m \u001B[49m\u001B[43msimpfunc\u001B[49m\u001B[43m)\u001B[49m\n\u001B[0;32m     68\u001B[0m     \u001B[38;5;66;03m# _find_reasonable_pivot may have simplified some things\u001B[39;00m\n\u001B[0;32m     69\u001B[0m     \u001B[38;5;66;03m# in the process.  Let's not let them go to waste\u001B[39;00m\n\u001B[0;32m     70\u001B[0m     \u001B[38;5;28;01mfor\u001B[39;00m (offset, val) \u001B[38;5;129;01min\u001B[39;00m newly_determined:\n",
      "File \u001B[1;32m~\\miniconda3\\envs\\py-scripts\\lib\\site-packages\\sympy\\matrices\\determinant.py:102\u001B[0m, in \u001B[0;36m_find_reasonable_pivot\u001B[1;34m(col, iszerofunc, simpfunc)\u001B[0m\n\u001B[0;32m    100\u001B[0m \u001B[38;5;28;01mif\u001B[39;00m possible_zeros[i] \u001B[38;5;129;01mis\u001B[39;00m \u001B[38;5;129;01mnot\u001B[39;00m \u001B[38;5;28;01mNone\u001B[39;00m:\n\u001B[0;32m    101\u001B[0m     \u001B[38;5;28;01mcontinue\u001B[39;00m\n\u001B[1;32m--> 102\u001B[0m \u001B[38;5;28;01mif\u001B[39;00m \u001B[43mx\u001B[49m\u001B[38;5;241;43m.\u001B[39;49m\u001B[43mequals\u001B[49m\u001B[43m(\u001B[49m\u001B[43mS\u001B[49m\u001B[38;5;241;43m.\u001B[39;49m\u001B[43mZero\u001B[49m\u001B[43m)\u001B[49m:\n\u001B[0;32m    103\u001B[0m     \u001B[38;5;66;03m# ``.iszero`` may return False with\u001B[39;00m\n\u001B[0;32m    104\u001B[0m     \u001B[38;5;66;03m# an implicit assumption (e.g., ``x.equals(0)``\u001B[39;00m\n\u001B[0;32m    105\u001B[0m     \u001B[38;5;66;03m# when ``x`` is a symbol), so only treat it\u001B[39;00m\n\u001B[0;32m    106\u001B[0m     \u001B[38;5;66;03m# as proved when ``.equals(0)`` returns True\u001B[39;00m\n\u001B[0;32m    107\u001B[0m     possible_zeros[i] \u001B[38;5;241m=\u001B[39m \u001B[38;5;28;01mTrue\u001B[39;00m\n\u001B[0;32m    108\u001B[0m     newly_determined\u001B[38;5;241m.\u001B[39mappend((i, S\u001B[38;5;241m.\u001B[39mZero))\n",
      "File \u001B[1;32m~\\miniconda3\\envs\\py-scripts\\lib\\site-packages\\sympy\\core\\expr.py:753\u001B[0m, in \u001B[0;36mExpr.equals\u001B[1;34m(self, other, failing_expression)\u001B[0m\n\u001B[0;32m    751\u001B[0m factors \u001B[38;5;241m=\u001B[39m diff\u001B[38;5;241m.\u001B[39mas_coeff_mul()[\u001B[38;5;241m1\u001B[39m]\n\u001B[0;32m    752\u001B[0m \u001B[38;5;28;01mif\u001B[39;00m \u001B[38;5;28mlen\u001B[39m(factors) \u001B[38;5;241m>\u001B[39m \u001B[38;5;241m1\u001B[39m:  \u001B[38;5;66;03m# avoid infinity recursion\u001B[39;00m\n\u001B[1;32m--> 753\u001B[0m     fac_zero \u001B[38;5;241m=\u001B[39m [fac\u001B[38;5;241m.\u001B[39mequals(\u001B[38;5;241m0\u001B[39m) \u001B[38;5;28;01mfor\u001B[39;00m fac \u001B[38;5;129;01min\u001B[39;00m factors]\n\u001B[0;32m    754\u001B[0m     \u001B[38;5;28;01mif\u001B[39;00m \u001B[38;5;28;01mNone\u001B[39;00m \u001B[38;5;129;01mnot\u001B[39;00m \u001B[38;5;129;01min\u001B[39;00m fac_zero:  \u001B[38;5;66;03m# every part can be decided\u001B[39;00m\n\u001B[0;32m    755\u001B[0m         \u001B[38;5;28;01mreturn\u001B[39;00m \u001B[38;5;28many\u001B[39m(fac_zero)\n",
      "File \u001B[1;32m~\\miniconda3\\envs\\py-scripts\\lib\\site-packages\\sympy\\core\\expr.py:753\u001B[0m, in \u001B[0;36m<listcomp>\u001B[1;34m(.0)\u001B[0m\n\u001B[0;32m    751\u001B[0m factors \u001B[38;5;241m=\u001B[39m diff\u001B[38;5;241m.\u001B[39mas_coeff_mul()[\u001B[38;5;241m1\u001B[39m]\n\u001B[0;32m    752\u001B[0m \u001B[38;5;28;01mif\u001B[39;00m \u001B[38;5;28mlen\u001B[39m(factors) \u001B[38;5;241m>\u001B[39m \u001B[38;5;241m1\u001B[39m:  \u001B[38;5;66;03m# avoid infinity recursion\u001B[39;00m\n\u001B[1;32m--> 753\u001B[0m     fac_zero \u001B[38;5;241m=\u001B[39m [\u001B[43mfac\u001B[49m\u001B[38;5;241;43m.\u001B[39;49m\u001B[43mequals\u001B[49m\u001B[43m(\u001B[49m\u001B[38;5;241;43m0\u001B[39;49m\u001B[43m)\u001B[49m \u001B[38;5;28;01mfor\u001B[39;00m fac \u001B[38;5;129;01min\u001B[39;00m factors]\n\u001B[0;32m    754\u001B[0m     \u001B[38;5;28;01mif\u001B[39;00m \u001B[38;5;28;01mNone\u001B[39;00m \u001B[38;5;129;01mnot\u001B[39;00m \u001B[38;5;129;01min\u001B[39;00m fac_zero:  \u001B[38;5;66;03m# every part can be decided\u001B[39;00m\n\u001B[0;32m    755\u001B[0m         \u001B[38;5;28;01mreturn\u001B[39;00m \u001B[38;5;28many\u001B[39m(fac_zero)\n",
      "File \u001B[1;32m~\\miniconda3\\envs\\py-scripts\\lib\\site-packages\\sympy\\core\\expr.py:834\u001B[0m, in \u001B[0;36mExpr.equals\u001B[1;34m(self, other, failing_expression)\u001B[0m\n\u001B[0;32m    832\u001B[0m \u001B[38;5;28;01mif\u001B[39;00m \u001B[38;5;28;01mTrue\u001B[39;00m:  \u001B[38;5;66;03m# change True to condition that assures non-hang\u001B[39;00m\n\u001B[0;32m    833\u001B[0m     \u001B[38;5;28;01mtry\u001B[39;00m:\n\u001B[1;32m--> 834\u001B[0m         mp \u001B[38;5;241m=\u001B[39m \u001B[43mminimal_polynomial\u001B[49m\u001B[43m(\u001B[49m\u001B[43mdiff\u001B[49m\u001B[43m)\u001B[49m\n\u001B[0;32m    835\u001B[0m         \u001B[38;5;28;01mif\u001B[39;00m mp\u001B[38;5;241m.\u001B[39mis_Symbol:\n\u001B[0;32m    836\u001B[0m             \u001B[38;5;28;01mreturn\u001B[39;00m \u001B[38;5;28;01mTrue\u001B[39;00m\n",
      "File \u001B[1;32m~\\miniconda3\\envs\\py-scripts\\lib\\site-packages\\sympy\\polys\\numberfields\\minpoly.py:704\u001B[0m, in \u001B[0;36mminimal_polynomial\u001B[1;34m(ex, x, compose, polys, domain)\u001B[0m\n\u001B[0;32m    700\u001B[0m     \u001B[38;5;28;01mraise\u001B[39;00m GeneratorsError(\u001B[38;5;124m\"\u001B[39m\u001B[38;5;124mthe variable \u001B[39m\u001B[38;5;132;01m%s\u001B[39;00m\u001B[38;5;124m is an element of the ground \u001B[39m\u001B[38;5;124m\"\u001B[39m\n\u001B[0;32m    701\u001B[0m                           \u001B[38;5;124m\"\u001B[39m\u001B[38;5;124mdomain \u001B[39m\u001B[38;5;132;01m%s\u001B[39;00m\u001B[38;5;124m\"\u001B[39m \u001B[38;5;241m%\u001B[39m (x, domain))\n\u001B[0;32m    703\u001B[0m \u001B[38;5;28;01mif\u001B[39;00m compose:\n\u001B[1;32m--> 704\u001B[0m     result \u001B[38;5;241m=\u001B[39m \u001B[43m_minpoly_compose\u001B[49m\u001B[43m(\u001B[49m\u001B[43mex\u001B[49m\u001B[43m,\u001B[49m\u001B[43m \u001B[49m\u001B[43mx\u001B[49m\u001B[43m,\u001B[49m\u001B[43m \u001B[49m\u001B[43mdomain\u001B[49m\u001B[43m)\u001B[49m\n\u001B[0;32m    705\u001B[0m     result \u001B[38;5;241m=\u001B[39m result\u001B[38;5;241m.\u001B[39mprimitive()[\u001B[38;5;241m1\u001B[39m]\n\u001B[0;32m    706\u001B[0m     c \u001B[38;5;241m=\u001B[39m result\u001B[38;5;241m.\u001B[39mcoeff(x\u001B[38;5;241m*\u001B[39m\u001B[38;5;241m*\u001B[39mdegree(result, x))\n",
      "File \u001B[1;32m~\\miniconda3\\envs\\py-scripts\\lib\\site-packages\\sympy\\polys\\numberfields\\minpoly.py:584\u001B[0m, in \u001B[0;36m_minpoly_compose\u001B[1;34m(ex, x, dom)\u001B[0m\n\u001B[0;32m    581\u001B[0m             ex \u001B[38;5;241m=\u001B[39m ex1\n\u001B[0;32m    583\u001B[0m \u001B[38;5;28;01mif\u001B[39;00m ex\u001B[38;5;241m.\u001B[39mis_Add:\n\u001B[1;32m--> 584\u001B[0m     res \u001B[38;5;241m=\u001B[39m \u001B[43m_minpoly_add\u001B[49m\u001B[43m(\u001B[49m\u001B[43mx\u001B[49m\u001B[43m,\u001B[49m\u001B[43m \u001B[49m\u001B[43mdom\u001B[49m\u001B[43m,\u001B[49m\u001B[43m \u001B[49m\u001B[38;5;241;43m*\u001B[39;49m\u001B[43mex\u001B[49m\u001B[38;5;241;43m.\u001B[39;49m\u001B[43margs\u001B[49m\u001B[43m)\u001B[49m\n\u001B[0;32m    585\u001B[0m \u001B[38;5;28;01melif\u001B[39;00m ex\u001B[38;5;241m.\u001B[39mis_Mul:\n\u001B[0;32m    586\u001B[0m     f \u001B[38;5;241m=\u001B[39m Factors(ex)\u001B[38;5;241m.\u001B[39mfactors\n",
      "File \u001B[1;32m~\\miniconda3\\envs\\py-scripts\\lib\\site-packages\\sympy\\polys\\numberfields\\minpoly.py:376\u001B[0m, in \u001B[0;36m_minpoly_add\u001B[1;34m(x, dom, *a)\u001B[0m\n\u001B[0;32m    374\u001B[0m p \u001B[38;5;241m=\u001B[39m a[\u001B[38;5;241m0\u001B[39m] \u001B[38;5;241m+\u001B[39m a[\u001B[38;5;241m1\u001B[39m]\n\u001B[0;32m    375\u001B[0m \u001B[38;5;28;01mfor\u001B[39;00m px \u001B[38;5;129;01min\u001B[39;00m a[\u001B[38;5;241m2\u001B[39m:]:\n\u001B[1;32m--> 376\u001B[0m     mp \u001B[38;5;241m=\u001B[39m \u001B[43m_minpoly_op_algebraic_element\u001B[49m\u001B[43m(\u001B[49m\u001B[43mAdd\u001B[49m\u001B[43m,\u001B[49m\u001B[43m \u001B[49m\u001B[43mp\u001B[49m\u001B[43m,\u001B[49m\u001B[43m \u001B[49m\u001B[43mpx\u001B[49m\u001B[43m,\u001B[49m\u001B[43m \u001B[49m\u001B[43mx\u001B[49m\u001B[43m,\u001B[49m\u001B[43m \u001B[49m\u001B[43mdom\u001B[49m\u001B[43m,\u001B[49m\u001B[43m \u001B[49m\u001B[43mmp1\u001B[49m\u001B[38;5;241;43m=\u001B[39;49m\u001B[43mmp\u001B[49m\u001B[43m)\u001B[49m\n\u001B[0;32m    377\u001B[0m     p \u001B[38;5;241m=\u001B[39m p \u001B[38;5;241m+\u001B[39m px\n\u001B[0;32m    378\u001B[0m \u001B[38;5;28;01mreturn\u001B[39;00m mp\n",
      "File \u001B[1;32m~\\miniconda3\\envs\\py-scripts\\lib\\site-packages\\sympy\\polys\\numberfields\\minpoly.py:289\u001B[0m, in \u001B[0;36m_minpoly_op_algebraic_element\u001B[1;34m(op, ex1, ex2, x, dom, mp1, mp2)\u001B[0m\n\u001B[0;32m    286\u001B[0m     \u001B[38;5;28;01mreturn\u001B[39;00m r\n\u001B[0;32m    288\u001B[0m r \u001B[38;5;241m=\u001B[39m Poly(r, x, domain\u001B[38;5;241m=\u001B[39mdom)\n\u001B[1;32m--> 289\u001B[0m _, factors \u001B[38;5;241m=\u001B[39m \u001B[43mr\u001B[49m\u001B[38;5;241;43m.\u001B[39;49m\u001B[43mfactor_list\u001B[49m\u001B[43m(\u001B[49m\u001B[43m)\u001B[49m\n\u001B[0;32m    290\u001B[0m res \u001B[38;5;241m=\u001B[39m _choose_factor(factors, x, op(ex1, ex2), dom)\n\u001B[0;32m    291\u001B[0m \u001B[38;5;28;01mreturn\u001B[39;00m res\u001B[38;5;241m.\u001B[39mas_expr()\n",
      "File \u001B[1;32m~\\miniconda3\\envs\\py-scripts\\lib\\site-packages\\sympy\\polys\\polytools.py:3350\u001B[0m, in \u001B[0;36mPoly.factor_list\u001B[1;34m(f)\u001B[0m\n\u001B[0;32m   3348\u001B[0m \u001B[38;5;28;01mif\u001B[39;00m \u001B[38;5;28mhasattr\u001B[39m(f\u001B[38;5;241m.\u001B[39mrep, \u001B[38;5;124m'\u001B[39m\u001B[38;5;124mfactor_list\u001B[39m\u001B[38;5;124m'\u001B[39m):\n\u001B[0;32m   3349\u001B[0m     \u001B[38;5;28;01mtry\u001B[39;00m:\n\u001B[1;32m-> 3350\u001B[0m         coeff, factors \u001B[38;5;241m=\u001B[39m \u001B[43mf\u001B[49m\u001B[38;5;241;43m.\u001B[39;49m\u001B[43mrep\u001B[49m\u001B[38;5;241;43m.\u001B[39;49m\u001B[43mfactor_list\u001B[49m\u001B[43m(\u001B[49m\u001B[43m)\u001B[49m\n\u001B[0;32m   3351\u001B[0m     \u001B[38;5;28;01mexcept\u001B[39;00m DomainError:\n\u001B[0;32m   3352\u001B[0m         \u001B[38;5;28;01mreturn\u001B[39;00m S\u001B[38;5;241m.\u001B[39mOne, [(f, \u001B[38;5;241m1\u001B[39m)]\n",
      "File \u001B[1;32m~\\miniconda3\\envs\\py-scripts\\lib\\site-packages\\sympy\\polys\\polyclasses.py:823\u001B[0m, in \u001B[0;36mDMP.factor_list\u001B[1;34m(f)\u001B[0m\n\u001B[0;32m    821\u001B[0m \u001B[38;5;28;01mdef\u001B[39;00m \u001B[38;5;21mfactor_list\u001B[39m(f):\n\u001B[0;32m    822\u001B[0m     \u001B[38;5;124;03m\"\"\"Returns a list of irreducible factors of ``f``. \"\"\"\u001B[39;00m\n\u001B[1;32m--> 823\u001B[0m     coeff, factors \u001B[38;5;241m=\u001B[39m \u001B[43mdmp_factor_list\u001B[49m\u001B[43m(\u001B[49m\u001B[43mf\u001B[49m\u001B[38;5;241;43m.\u001B[39;49m\u001B[43mrep\u001B[49m\u001B[43m,\u001B[49m\u001B[43m \u001B[49m\u001B[43mf\u001B[49m\u001B[38;5;241;43m.\u001B[39;49m\u001B[43mlev\u001B[49m\u001B[43m,\u001B[49m\u001B[43m \u001B[49m\u001B[43mf\u001B[49m\u001B[38;5;241;43m.\u001B[39;49m\u001B[43mdom\u001B[49m\u001B[43m)\u001B[49m\n\u001B[0;32m    824\u001B[0m     \u001B[38;5;28;01mreturn\u001B[39;00m coeff, [ (f\u001B[38;5;241m.\u001B[39mper(g), k) \u001B[38;5;28;01mfor\u001B[39;00m g, k \u001B[38;5;129;01min\u001B[39;00m factors ]\n",
      "File \u001B[1;32m~\\miniconda3\\envs\\py-scripts\\lib\\site-packages\\sympy\\polys\\factortools.py:1393\u001B[0m, in \u001B[0;36mdmp_factor_list\u001B[1;34m(f, u, K0)\u001B[0m\n\u001B[0;32m   1391\u001B[0m \u001B[38;5;124;03m\"\"\"Factor multivariate polynomials into irreducibles in `K[X]`. \"\"\"\u001B[39;00m\n\u001B[0;32m   1392\u001B[0m \u001B[38;5;28;01mif\u001B[39;00m \u001B[38;5;129;01mnot\u001B[39;00m u:\n\u001B[1;32m-> 1393\u001B[0m     \u001B[38;5;28;01mreturn\u001B[39;00m \u001B[43mdup_factor_list\u001B[49m\u001B[43m(\u001B[49m\u001B[43mf\u001B[49m\u001B[43m,\u001B[49m\u001B[43m \u001B[49m\u001B[43mK0\u001B[49m\u001B[43m)\u001B[49m\n\u001B[0;32m   1395\u001B[0m J, f \u001B[38;5;241m=\u001B[39m dmp_terms_gcd(f, u, K0)\n\u001B[0;32m   1396\u001B[0m cont, f \u001B[38;5;241m=\u001B[39m dmp_ground_primitive(f, u, K0)\n",
      "File \u001B[1;32m~\\miniconda3\\envs\\py-scripts\\lib\\site-packages\\sympy\\polys\\factortools.py:1342\u001B[0m, in \u001B[0;36mdup_factor_list\u001B[1;34m(f, K0)\u001B[0m\n\u001B[0;32m   1339\u001B[0m     K \u001B[38;5;241m=\u001B[39m K0\n\u001B[0;32m   1341\u001B[0m \u001B[38;5;28;01mif\u001B[39;00m K\u001B[38;5;241m.\u001B[39mis_ZZ:\n\u001B[1;32m-> 1342\u001B[0m     coeff, factors \u001B[38;5;241m=\u001B[39m \u001B[43mdup_zz_factor\u001B[49m\u001B[43m(\u001B[49m\u001B[43mf\u001B[49m\u001B[43m,\u001B[49m\u001B[43m \u001B[49m\u001B[43mK\u001B[49m\u001B[43m)\u001B[49m\n\u001B[0;32m   1343\u001B[0m \u001B[38;5;28;01melif\u001B[39;00m K\u001B[38;5;241m.\u001B[39mis_Poly:\n\u001B[0;32m   1344\u001B[0m     f, u \u001B[38;5;241m=\u001B[39m dmp_inject(f, \u001B[38;5;241m0\u001B[39m, K)\n",
      "File \u001B[1;32m~\\miniconda3\\envs\\py-scripts\\lib\\site-packages\\sympy\\polys\\factortools.py:688\u001B[0m, in \u001B[0;36mdup_zz_factor\u001B[1;34m(f, K)\u001B[0m\n\u001B[0;32m    685\u001B[0m     H \u001B[38;5;241m=\u001B[39m dup_zz_cyclotomic_factor(g, K)\n\u001B[0;32m    687\u001B[0m \u001B[38;5;28;01mif\u001B[39;00m H \u001B[38;5;129;01mis\u001B[39;00m \u001B[38;5;28;01mNone\u001B[39;00m:\n\u001B[1;32m--> 688\u001B[0m     H \u001B[38;5;241m=\u001B[39m \u001B[43mdup_zz_zassenhaus\u001B[49m\u001B[43m(\u001B[49m\u001B[43mg\u001B[49m\u001B[43m,\u001B[49m\u001B[43m \u001B[49m\u001B[43mK\u001B[49m\u001B[43m)\u001B[49m\n\u001B[0;32m    690\u001B[0m factors \u001B[38;5;241m=\u001B[39m dup_trial_division(f, H, K)\n\u001B[0;32m    691\u001B[0m \u001B[38;5;28;01mreturn\u001B[39;00m cont, factors\n",
      "File \u001B[1;32m~\\miniconda3\\envs\\py-scripts\\lib\\site-packages\\sympy\\polys\\factortools.py:354\u001B[0m, in \u001B[0;36mdup_zz_zassenhaus\u001B[1;34m(f, K)\u001B[0m\n\u001B[0;32m    350\u001B[0m l \u001B[38;5;241m=\u001B[39m \u001B[38;5;28mint\u001B[39m(_ceil(_log(\u001B[38;5;241m2\u001B[39m\u001B[38;5;241m*\u001B[39mB \u001B[38;5;241m+\u001B[39m \u001B[38;5;241m1\u001B[39m, p)))\n\u001B[0;32m    352\u001B[0m modular \u001B[38;5;241m=\u001B[39m [gf_to_int_poly(ff, p) \u001B[38;5;28;01mfor\u001B[39;00m ff \u001B[38;5;129;01min\u001B[39;00m fsqf]\n\u001B[1;32m--> 354\u001B[0m g \u001B[38;5;241m=\u001B[39m \u001B[43mdup_zz_hensel_lift\u001B[49m\u001B[43m(\u001B[49m\u001B[43mp\u001B[49m\u001B[43m,\u001B[49m\u001B[43m \u001B[49m\u001B[43mf\u001B[49m\u001B[43m,\u001B[49m\u001B[43m \u001B[49m\u001B[43mmodular\u001B[49m\u001B[43m,\u001B[49m\u001B[43m \u001B[49m\u001B[43ml\u001B[49m\u001B[43m,\u001B[49m\u001B[43m \u001B[49m\u001B[43mK\u001B[49m\u001B[43m)\u001B[49m\n\u001B[0;32m    356\u001B[0m sorted_T \u001B[38;5;241m=\u001B[39m \u001B[38;5;28mrange\u001B[39m(\u001B[38;5;28mlen\u001B[39m(g))\n\u001B[0;32m    357\u001B[0m T \u001B[38;5;241m=\u001B[39m \u001B[38;5;28mset\u001B[39m(sorted_T)\n",
      "File \u001B[1;32m~\\miniconda3\\envs\\py-scripts\\lib\\site-packages\\sympy\\polys\\factortools.py:302\u001B[0m, in \u001B[0;36mdup_zz_hensel_lift\u001B[1;34m(p, f, f_list, l, K)\u001B[0m\n\u001B[0;32m    299\u001B[0m t \u001B[38;5;241m=\u001B[39m gf_to_int_poly(t, p)\n\u001B[0;32m    301\u001B[0m \u001B[38;5;28;01mfor\u001B[39;00m _ \u001B[38;5;129;01min\u001B[39;00m \u001B[38;5;28mrange\u001B[39m(\u001B[38;5;241m1\u001B[39m, d \u001B[38;5;241m+\u001B[39m \u001B[38;5;241m1\u001B[39m):\n\u001B[1;32m--> 302\u001B[0m     (g, h, s, t), m \u001B[38;5;241m=\u001B[39m \u001B[43mdup_zz_hensel_step\u001B[49m\u001B[43m(\u001B[49m\u001B[43mm\u001B[49m\u001B[43m,\u001B[49m\u001B[43m \u001B[49m\u001B[43mf\u001B[49m\u001B[43m,\u001B[49m\u001B[43m \u001B[49m\u001B[43mg\u001B[49m\u001B[43m,\u001B[49m\u001B[43m \u001B[49m\u001B[43mh\u001B[49m\u001B[43m,\u001B[49m\u001B[43m \u001B[49m\u001B[43ms\u001B[49m\u001B[43m,\u001B[49m\u001B[43m \u001B[49m\u001B[43mt\u001B[49m\u001B[43m,\u001B[49m\u001B[43m \u001B[49m\u001B[43mK\u001B[49m\u001B[43m)\u001B[49m, m\u001B[38;5;241m*\u001B[39m\u001B[38;5;241m*\u001B[39m\u001B[38;5;241m2\u001B[39m\n\u001B[0;32m    304\u001B[0m \u001B[38;5;28;01mreturn\u001B[39;00m dup_zz_hensel_lift(p, g, f_list[:k], l, K) \\\n\u001B[0;32m    305\u001B[0m     \u001B[38;5;241m+\u001B[39m dup_zz_hensel_lift(p, h, f_list[k:], l, K)\n",
      "File \u001B[1;32m~\\miniconda3\\envs\\py-scripts\\lib\\site-packages\\sympy\\polys\\factortools.py:226\u001B[0m, in \u001B[0;36mdup_zz_hensel_step\u001B[1;34m(m, f, g, h, s, t, K)\u001B[0m\n\u001B[0;32m    223\u001B[0m e \u001B[38;5;241m=\u001B[39m dup_sub_mul(f, g, h, K)\n\u001B[0;32m    224\u001B[0m e \u001B[38;5;241m=\u001B[39m dup_trunc(e, M, K)\n\u001B[1;32m--> 226\u001B[0m q, r \u001B[38;5;241m=\u001B[39m \u001B[43mdup_div\u001B[49m\u001B[43m(\u001B[49m\u001B[43mdup_mul\u001B[49m\u001B[43m(\u001B[49m\u001B[43ms\u001B[49m\u001B[43m,\u001B[49m\u001B[43m \u001B[49m\u001B[43me\u001B[49m\u001B[43m,\u001B[49m\u001B[43m \u001B[49m\u001B[43mK\u001B[49m\u001B[43m)\u001B[49m\u001B[43m,\u001B[49m\u001B[43m \u001B[49m\u001B[43mh\u001B[49m\u001B[43m,\u001B[49m\u001B[43m \u001B[49m\u001B[43mK\u001B[49m\u001B[43m)\u001B[49m\n\u001B[0;32m    228\u001B[0m q \u001B[38;5;241m=\u001B[39m dup_trunc(q, M, K)\n\u001B[0;32m    229\u001B[0m r \u001B[38;5;241m=\u001B[39m dup_trunc(r, M, K)\n",
      "File \u001B[1;32m~\\miniconda3\\envs\\py-scripts\\lib\\site-packages\\sympy\\polys\\densearith.py:1536\u001B[0m, in \u001B[0;36mdup_div\u001B[1;34m(f, g, K)\u001B[0m\n\u001B[0;32m   1534\u001B[0m     \u001B[38;5;28;01mreturn\u001B[39;00m dup_ff_div(f, g, K)\n\u001B[0;32m   1535\u001B[0m \u001B[38;5;28;01melse\u001B[39;00m:\n\u001B[1;32m-> 1536\u001B[0m     \u001B[38;5;28;01mreturn\u001B[39;00m \u001B[43mdup_rr_div\u001B[49m\u001B[43m(\u001B[49m\u001B[43mf\u001B[49m\u001B[43m,\u001B[49m\u001B[43m \u001B[49m\u001B[43mg\u001B[49m\u001B[43m,\u001B[49m\u001B[43m \u001B[49m\u001B[43mK\u001B[49m\u001B[43m)\u001B[49m\n",
      "File \u001B[1;32m~\\miniconda3\\envs\\py-scripts\\lib\\site-packages\\sympy\\polys\\densearith.py:1344\u001B[0m, in \u001B[0;36mdup_rr_div\u001B[1;34m(f, g, K)\u001B[0m\n\u001B[0;32m   1341\u001B[0m j \u001B[38;5;241m=\u001B[39m dr \u001B[38;5;241m-\u001B[39m dg\n\u001B[0;32m   1343\u001B[0m q \u001B[38;5;241m=\u001B[39m dup_add_term(q, c, j, K)\n\u001B[1;32m-> 1344\u001B[0m h \u001B[38;5;241m=\u001B[39m \u001B[43mdup_mul_term\u001B[49m\u001B[43m(\u001B[49m\u001B[43mg\u001B[49m\u001B[43m,\u001B[49m\u001B[43m \u001B[49m\u001B[43mc\u001B[49m\u001B[43m,\u001B[49m\u001B[43m \u001B[49m\u001B[43mj\u001B[49m\u001B[43m,\u001B[49m\u001B[43m \u001B[49m\u001B[43mK\u001B[49m\u001B[43m)\u001B[49m\n\u001B[0;32m   1345\u001B[0m r \u001B[38;5;241m=\u001B[39m dup_sub(r, h, K)\n\u001B[0;32m   1347\u001B[0m _dr, dr \u001B[38;5;241m=\u001B[39m dr, dup_degree(r)\n",
      "File \u001B[1;32m~\\miniconda3\\envs\\py-scripts\\lib\\site-packages\\sympy\\polys\\densearith.py:157\u001B[0m, in \u001B[0;36mdup_mul_term\u001B[1;34m(f, c, i, K)\u001B[0m\n\u001B[0;32m    155\u001B[0m     \u001B[38;5;28;01mreturn\u001B[39;00m []\n\u001B[0;32m    156\u001B[0m \u001B[38;5;28;01melse\u001B[39;00m:\n\u001B[1;32m--> 157\u001B[0m     \u001B[38;5;28;01mreturn\u001B[39;00m [ cf \u001B[38;5;241m*\u001B[39m c \u001B[38;5;28;01mfor\u001B[39;00m cf \u001B[38;5;129;01min\u001B[39;00m f ] \u001B[38;5;241m+\u001B[39m [K\u001B[38;5;241m.\u001B[39mzero]\u001B[38;5;241m*\u001B[39mi\n",
      "File \u001B[1;32m~\\miniconda3\\envs\\py-scripts\\lib\\site-packages\\sympy\\polys\\densearith.py:157\u001B[0m, in \u001B[0;36m<listcomp>\u001B[1;34m(.0)\u001B[0m\n\u001B[0;32m    155\u001B[0m     \u001B[38;5;28;01mreturn\u001B[39;00m []\n\u001B[0;32m    156\u001B[0m \u001B[38;5;28;01melse\u001B[39;00m:\n\u001B[1;32m--> 157\u001B[0m     \u001B[38;5;28;01mreturn\u001B[39;00m [ \u001B[43mcf\u001B[49m\u001B[43m \u001B[49m\u001B[38;5;241;43m*\u001B[39;49m\u001B[43m \u001B[49m\u001B[43mc\u001B[49m \u001B[38;5;28;01mfor\u001B[39;00m cf \u001B[38;5;129;01min\u001B[39;00m f ] \u001B[38;5;241m+\u001B[39m [K\u001B[38;5;241m.\u001B[39mzero]\u001B[38;5;241m*\u001B[39mi\n",
      "\u001B[1;31mKeyboardInterrupt\u001B[0m: "
     ]
    }
   ],
   "source": [
    "from sympy import Matrix\n",
    "A = np.array([[0, 1, 0, 1], [1,1, 1, 1], [2, 3, 4, 5], [5, 7, 9, 11]])\n",
    "Matrix(A).jordan_form()"
   ],
   "metadata": {
    "collapsed": false
   }
  },
  {
   "cell_type": "code",
   "execution_count": 53,
   "outputs": [
    {
     "data": {
      "text/plain": "array([[  6,  30,  15,  -6],\n       [ 12,  60,  30, -12],\n       [ 18,  90,  45, -18],\n       [ -6, -30, -15,   6]])"
     },
     "execution_count": 53,
     "metadata": {},
     "output_type": "execute_result"
    }
   ],
   "source": [
    "B = np.array([[1,3,1,0], [1, 0, -1, 2], [0, 0, 1,2]])\n",
    "C = np.array([[1, 2, 3, -1]])\n",
    "# inv = np.linalg.inv(A)\n",
    "# inv\n",
    "np.dot(np.dot(np.dot(C.transpose(), C), B.transpose()), B)"
   ],
   "metadata": {
    "collapsed": false
   }
  },
  {
   "cell_type": "code",
   "execution_count": 37,
   "outputs": [
    {
     "data": {
      "text/plain": "-42"
     },
     "execution_count": 37,
     "metadata": {},
     "output_type": "execute_result"
    }
   ],
   "source": [
    "A = np.array([[0, 2, -3], [2, 1, 0], [1, 1, 1]])\n",
    "B = np.array([[4, 1, -2], [2, 0, 0], [-4, 0, -1]])\n",
    "C = np.array([[3, 1, -2], [1, 1, 4]])\n",
    "D = np.array([[2, -1], [0, -5], [-1, 0]])\n",
    "np.sum(np.dot(np.dot(C, A+B), D))"
   ],
   "metadata": {
    "collapsed": false
   }
  },
  {
   "cell_type": "code",
   "execution_count": 49,
   "outputs": [
    {
     "data": {
      "text/plain": "array([], dtype=float64)"
     },
     "execution_count": 49,
     "metadata": {},
     "output_type": "execute_result"
    }
   ],
   "source": [
    "np.array([])"
   ],
   "metadata": {
    "collapsed": false
   }
  },
  {
   "cell_type": "code",
   "execution_count": 58,
   "outputs": [
    {
     "data": {
      "text/plain": "array([[ 1.        ,  0.        ,  0.        ],\n       [-0.16666667,  1.        ,  0.        ],\n       [ 0.5       , -0.27272727,  1.        ]])"
     },
     "execution_count": 58,
     "metadata": {},
     "output_type": "execute_result"
    }
   ],
   "source": [
    "from scipy.linalg import lu\n",
    "P, L, U = lu(np.array([[-3, 4, 0], [1, -3, 2], [-6, 7, 1]]))\n",
    "L"
   ],
   "metadata": {
    "collapsed": false
   }
  },
  {
   "cell_type": "code",
   "execution_count": 9,
   "outputs": [
    {
     "data": {
      "text/plain": "array([[3.],\n       [4.]])"
     },
     "execution_count": 9,
     "metadata": {},
     "output_type": "execute_result"
    }
   ],
   "source": [
    "import numpy as np\n",
    "A = np.array([[0, 2], [-1, 1]])\n",
    "X = [[3], [4]]\n",
    "np.dot(np.dot(np.dot(A, np.linalg.inv(np.dot(A.transpose(), A))), A.transpose()), X)"
   ],
   "metadata": {
    "collapsed": false
   }
  },
  {
   "cell_type": "code",
   "execution_count": 14,
   "outputs": [
    {
     "data": {
      "text/plain": "array([23. , -4.6, -9.6])"
     },
     "execution_count": 14,
     "metadata": {},
     "output_type": "execute_result"
    }
   ],
   "source": [
    "A = np.array([[1, 2, 1], [1, 0, 3], [2, 0, 4], [1, -1, 2]])\n",
    "b = np.array([8, -2, 0, 16])\n",
    "first = np.linalg.inv(np.dot(A.transpose(), A))\n",
    "second = np.dot(first, A.transpose())\n",
    "third = np.dot(second, b)\n",
    "third"
   ],
   "metadata": {
    "collapsed": false
   }
  },
  {
   "cell_type": "code",
   "execution_count": 19,
   "outputs": [
    {
     "name": "stdout",
     "output_type": "stream",
     "text": [
      "[[1. 0. 0. 0.]\n",
      " [0. 0. 0. 1.]\n",
      " [0. 0. 1. 0.]\n",
      " [0. 1. 0. 0.]]\n",
      "[[ 1.          0.          0.        ]\n",
      " [ 0.14285714  1.          0.        ]\n",
      " [ 0.42857143  0.375       1.        ]\n",
      " [ 0.71428571  0.625      -1.        ]]\n",
      "[[7.         1.         2.        ]\n",
      " [0.         6.85714286 1.71428571]\n",
      " [0.         0.         4.5       ]]\n",
      "[[ 1.          0.          0.        ]\n",
      " [ 0.71428571  0.625      -1.        ]\n",
      " [ 0.42857143  0.375       1.        ]\n",
      " [ 0.14285714  1.          0.        ]]\n"
     ]
    }
   ],
   "source": [
    "from scipy.linalg import lu\n",
    "P, L, U = lu(np.array([[7, 1, 2], [5, 5, -2], [3, 3, 6], [1, 7, 2]]))\n",
    "print(P)\n",
    "print(L)\n",
    "print(U)\n",
    "print(np.dot(P, L))"
   ],
   "metadata": {
    "collapsed": false
   }
  },
  {
   "cell_type": "code",
   "execution_count": 3,
   "outputs": [
    {
     "data": {
      "text/plain": "array([[ 0.8, -3.6],\n       [-1.6,  2.2]])"
     },
     "execution_count": 3,
     "metadata": {},
     "output_type": "execute_result"
    }
   ],
   "source": [
    "E_1 = np.array([[-2, 1], [1, -1]])\n",
    "E_2  = np.array([[-1, 2], [2, 1]])\n",
    "T = np.dot(np.linalg.inv(E_1), E_2)\n",
    "A = np.array([[5, -3], [2, -2]])\n",
    "inv = np.dot(np.linalg.inv(T), A)\n",
    "np.dot(inv, T)"
   ],
   "metadata": {
    "collapsed": false
   }
  },
  {
   "cell_type": "code",
   "execution_count": 9,
   "outputs": [
    {
     "data": {
      "text/plain": "(array([ 1.82842712, -3.82842712]),\n array([[0.86285621, 0.28108464],\n        [0.50544947, 0.95968298]]))"
     },
     "execution_count": 9,
     "metadata": {},
     "output_type": "execute_result"
    }
   ],
   "source": [
    "A = np.array([[3, -2], [4, -5]])\n",
    "T = np.array([[1,4], [2, 1]])\n",
    "inv = np.dot(np.linalg.inv(T), A)\n",
    "np.dot(inv, T)\n",
    "np.linalg.eig(A)"
   ],
   "metadata": {
    "collapsed": false
   }
  },
  {
   "cell_type": "code",
   "execution_count": null,
   "outputs": [],
   "source": [],
   "metadata": {
    "collapsed": false
   }
  }
 ],
 "metadata": {
  "kernelspec": {
   "display_name": "Python 3",
   "language": "python",
   "name": "python3"
  },
  "language_info": {
   "codemirror_mode": {
    "name": "ipython",
    "version": 2
   },
   "file_extension": ".py",
   "mimetype": "text/x-python",
   "name": "python",
   "nbconvert_exporter": "python",
   "pygments_lexer": "ipython2",
   "version": "2.7.6"
  }
 },
 "nbformat": 4,
 "nbformat_minor": 0
}
