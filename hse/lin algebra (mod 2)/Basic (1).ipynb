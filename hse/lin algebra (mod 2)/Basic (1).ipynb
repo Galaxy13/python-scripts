{
 "cells": [
  {
   "cell_type": "markdown",
   "id": "64a2faca",
   "metadata": {
    "deletable": false,
    "editable": false,
    "nbgrader": {
     "cell_type": "markdown",
     "checksum": "e6ebbe1a1fbb1d397e39c05e43500b85",
     "grade": false,
     "grade_id": "cell-1352b9dcaa05f446",
     "locked": true,
     "schema_version": 3,
     "solution": false,
     "task": false
    }
   },
   "source": [
    "# Welcome to this programming assignment\n",
    "During week 1 we covered some basic numpy methods to perform basic calculations in Python. In this notebook you will be asked to complete some problems dealing with matrix and vector operations. There will be comments along the way to help you successfully complete this assignment. Good luck!\n",
    "\n",
    "Check the [documentation](https://numpy.org/doc/1.17/reference/index.html) to find out more information about the library and methods it provides."
   ]
  },
  {
   "cell_type": "code",
   "execution_count": 1,
   "id": "c4a43fb4",
   "metadata": {
    "deletable": false,
    "editable": false,
    "nbgrader": {
     "cell_type": "code",
     "checksum": "c66ddb81402b9edd9c4cd256ec834ca6",
     "grade": false,
     "grade_id": "cell-836e88b5c42dbd54",
     "locked": true,
     "schema_version": 3,
     "solution": false,
     "task": false
    }
   },
   "outputs": [
    {
     "name": "stdout",
     "output_type": "stream",
     "text": [
      "Requirement already satisfied: numpy in c:\\users\\home\\miniconda3\\envs\\py-scripts\\lib\\site-packages (1.23.4)\n"
     ]
    }
   ],
   "source": [
    "!pip install numpy\n",
    "import numpy as np\n",
    "import numpy.linalg as LA"
   ]
  },
  {
   "cell_type": "markdown",
   "id": "390e265e",
   "metadata": {
    "deletable": false,
    "editable": false,
    "nbgrader": {
     "cell_type": "markdown",
     "checksum": "22d8b98ccdf6809e24417da96133c20f",
     "grade": false,
     "grade_id": "cell-bcdb04d4d08433a9",
     "locked": true,
     "schema_version": 3,
     "solution": false,
     "task": false
    }
   },
   "source": [
    "## Task 1\n",
    "Find the sum of all elements in an array - **ans1**. See [here](https://docs.scipy.org/doc/numpy/reference/generated/numpy.sum.html) for reference."
   ]
  },
  {
   "cell_type": "code",
   "execution_count": 2,
   "id": "19ddb543",
   "metadata": {
    "deletable": false,
    "editable": false,
    "nbgrader": {
     "cell_type": "code",
     "checksum": "a44ef1abc233b8952f84477ac6794b2f",
     "grade": false,
     "grade_id": "cell-6c4884ee00aa8ba7",
     "locked": true,
     "schema_version": 3,
     "solution": false,
     "task": false
    }
   },
   "outputs": [
    {
     "data": {
      "text/plain": "array([[ 1, 13,  4,  5, -6],\n       [-9,  4, 12,  0,  2],\n       [45,  4,  3,  2,  1],\n       [ 3, -9, 15,  6, 22],\n       [ 3,  5,  0, -7, 12]])"
     },
     "execution_count": 2,
     "metadata": {},
     "output_type": "execute_result"
    }
   ],
   "source": [
    "A = np.array([[1,13,4,5, -6],[-9,4,12,0,2],[45,4,3,2,1], [3,-9,15,6,22],[3,5,0,-7,12]])\n",
    "A"
   ]
  },
  {
   "cell_type": "code",
   "execution_count": 3,
   "id": "f3d00de2",
   "metadata": {
    "deletable": false,
    "nbgrader": {
     "cell_type": "code",
     "checksum": "c682018035308b63494b9ae825861a66",
     "grade": false,
     "grade_id": "cell-94f354b0c53df866",
     "locked": false,
     "schema_version": 3,
     "solution": true,
     "task": false
    }
   },
   "outputs": [],
   "source": [
    "ans1 = np.sum(A)"
   ]
  },
  {
   "cell_type": "code",
   "execution_count": 4,
   "id": "90201bc5",
   "metadata": {
    "deletable": false,
    "editable": false,
    "nbgrader": {
     "cell_type": "code",
     "checksum": "dc6ec5ee46a195164ab9b7d5047dfe98",
     "grade": true,
     "grade_id": "cell-293d329c86d14275",
     "locked": true,
     "points": 1,
     "schema_version": 3,
     "solution": false,
     "task": false
    }
   },
   "outputs": [],
   "source": [
    "## GRADED PART, DO NOT CHANGE!\n",
    "assert ans1 == 131"
   ]
  },
  {
   "cell_type": "markdown",
   "id": "c4d2605c",
   "metadata": {
    "deletable": false,
    "editable": false,
    "nbgrader": {
     "cell_type": "markdown",
     "checksum": "0b9d690c883620d66ab57c8a150ecd16",
     "grade": false,
     "grade_id": "cell-c4fb82bffb96cb01",
     "locked": true,
     "schema_version": 3,
     "solution": false,
     "task": false
    }
   },
   "source": [
    "## Task 2\n",
    "Calculate the difference between matrices m1 and m2 - **ans2**."
   ]
  },
  {
   "cell_type": "code",
   "execution_count": 6,
   "id": "150360b2",
   "metadata": {
    "deletable": false,
    "editable": false,
    "nbgrader": {
     "cell_type": "code",
     "checksum": "f0ac36b64affd8a0399868dccc9707a8",
     "grade": false,
     "grade_id": "cell-3ca3c17b02ad5773",
     "locked": true,
     "schema_version": 3,
     "solution": false,
     "task": false
    }
   },
   "outputs": [],
   "source": [
    "m1 = np.array([[-7, -6,  3, -5],\n",
    "       [ 7,  0,  4,  0],\n",
    "       [ 6, -1,  1,  1]])\n",
    "m2 = np.array([[  6,  -7,  -3,  -9],\n",
    "       [ -8,   1,  -4,   2],\n",
    "       [-10,   1,  -7,   9]])"
   ]
  },
  {
   "cell_type": "code",
   "execution_count": 7,
   "id": "2d12ac2a",
   "metadata": {
    "deletable": false,
    "nbgrader": {
     "cell_type": "code",
     "checksum": "3a151f8d2b153488f0bef2c9d20bed1f",
     "grade": false,
     "grade_id": "cell-3989f5b147e94477",
     "locked": false,
     "schema_version": 3,
     "solution": true,
     "task": false
    }
   },
   "outputs": [],
   "source": [
    "ans2 = m1 - m2"
   ]
  },
  {
   "cell_type": "code",
   "execution_count": 8,
   "id": "6f256c77",
   "metadata": {
    "deletable": false,
    "editable": false,
    "nbgrader": {
     "cell_type": "code",
     "checksum": "c4b57aabf5204c25c39440b4bbc5baa0",
     "grade": true,
     "grade_id": "cell-a48c22ff6245a272",
     "locked": true,
     "points": 1,
     "schema_version": 3,
     "solution": false,
     "task": false
    }
   },
   "outputs": [],
   "source": [
    "## GRADED PART, DO NOT CHANGE!\n",
    "ans2 = ans2.flatten()\n",
    "ans2 = np.sum(ans2)\n",
    "assert ans2 == 32"
   ]
  },
  {
   "cell_type": "markdown",
   "id": "e1fac9f5",
   "metadata": {
    "deletable": false,
    "editable": false,
    "nbgrader": {
     "cell_type": "markdown",
     "checksum": "3208df53516767a06cbe44e117dee302",
     "grade": false,
     "grade_id": "cell-75366046476d6704",
     "locked": true,
     "schema_version": 3,
     "solution": false,
     "task": false
    }
   },
   "source": [
    "## Task 3\n",
    "Find the sum of all matrix elements whose absolute value is greater than 5 - **ans3**. You can use a $\\textit{for}$ loop, but try using numpy methods (i.e. [this](https://docs.scipy.org/doc/numpy/reference/generated/numpy.where.html)), since the numpy library is very fast and effective in manipulating data."
   ]
  },
  {
   "cell_type": "code",
   "execution_count": 10,
   "id": "36c391d4",
   "metadata": {
    "deletable": false,
    "editable": false,
    "nbgrader": {
     "cell_type": "code",
     "checksum": "452a2b62730e1bfd52afe5cb458a7c10",
     "grade": false,
     "grade_id": "cell-e2792af449776c32",
     "locked": true,
     "schema_version": 3,
     "solution": false,
     "task": false
    }
   },
   "outputs": [],
   "source": [
    "b = np.array([[ -6,  -7,  -5,   0],\n",
    "       [-15,   2, -13,  -5],\n",
    "       [  8,   4,  10,   8],\n",
    "       [ -1,  -9,   7,  -4]])"
   ]
  },
  {
   "cell_type": "code",
   "execution_count": 13,
   "id": "51efa66b",
   "metadata": {
    "deletable": false,
    "nbgrader": {
     "cell_type": "code",
     "checksum": "83ab51453e81fd0cc36469d001d2cdea",
     "grade": false,
     "grade_id": "cell-41eb95f9a6606e5f",
     "locked": false,
     "schema_version": 3,
     "solution": true,
     "task": false
    }
   },
   "outputs": [],
   "source": [
    "ans3 = np.sum(b, where=np.abs(b)>5)"
   ]
  },
  {
   "cell_type": "code",
   "execution_count": 14,
   "id": "a5fb9db7",
   "metadata": {
    "deletable": false,
    "editable": false,
    "nbgrader": {
     "cell_type": "code",
     "checksum": "618fbe2ddab4c0d1b21e1109ce5938f5",
     "grade": true,
     "grade_id": "cell-d2759db18abc6992",
     "locked": true,
     "points": 1,
     "schema_version": 3,
     "solution": false,
     "task": false
    }
   },
   "outputs": [],
   "source": [
    "assert ans3 == -17"
   ]
  },
  {
   "cell_type": "markdown",
   "id": "7b42741a",
   "metadata": {
    "deletable": false,
    "editable": false,
    "nbgrader": {
     "cell_type": "markdown",
     "checksum": "d2e348cff672fc2f587dff7d7de1a79f",
     "grade": false,
     "grade_id": "cell-e2f6c3d5282e2fba",
     "locked": true,
     "schema_version": 3,
     "solution": false,
     "task": false
    }
   },
   "source": [
    "## Task 4\n",
    "Find the product of two matrices - **ans4**. Remember that it is better to use $\\textit{matmul, or @,}$ for $\\textbf{larger dimension}$ matrices."
   ]
  },
  {
   "cell_type": "code",
   "execution_count": 15,
   "id": "a61c1381",
   "metadata": {
    "deletable": false,
    "editable": false,
    "nbgrader": {
     "cell_type": "code",
     "checksum": "b9bfae716b012fe025bedaeb1145508e",
     "grade": false,
     "grade_id": "cell-df32c60348816a9c",
     "locked": true,
     "schema_version": 3,
     "solution": false,
     "task": false
    }
   },
   "outputs": [],
   "source": [
    "n = np.array([[ -4,  -1,   3,  -7,   6,  -9,   5,  -9,  -7,   0],\n",
    "       [-12,   3, -12,  -7,   2,  -4,   8,  13,   9,   3],\n",
    "       [ -2,  -1, -15, -10,   7,   5,   7, -13,  -9,   6],\n",
    "       [  7,  11,  -5,  -6,  -9,  -1,   3,  10, -15,  -6],\n",
    "       [ -3,  -4,   4, -13,   4, -13,  10,  -6,  -8,  13],\n",
    "       [  7, -13,  -4,   3,   4,  13, -13,   4,  -9, -10],\n",
    "       [ -5,  13,  -9, -15,  11,   2,   7, -14, -14,   2],\n",
    "       [ -4,  -6,  12,  10,  13,  -3,  12, -15,   5,  -2],\n",
    "       [ -1,   8,   3,   7,  11,  -3,   6,  12,  12, -13],\n",
    "       [ 12,  11,  12,  11,   1, -14,   2,   6,  -9,  -3]])\n",
    "z = np.array([[-15,   5, -15,  10,  -3,  12,  -6, -15,   6,   3],\n",
    "       [ 12,  -4,   6, -11,   5,   3,   3,  12, -15,  -6],\n",
    "       [-11, -11, -10,   9,  -8, -14, -14,   7,  -2,  11],\n",
    "       [  5,  -4,  11,   0,   8,  -9, -15, -11,   7, -10],\n",
    "       [ -6,  -9,  -3, -13, -11,  -9,   7,  -7,   9,   4],\n",
    "       [ 10,  12,   4,  -7,   1,   0,  -1,  11,  -4,  11],\n",
    "       [-14,   2,  -8,  11,  -9,   5, -14,  10,  -6,  -9],\n",
    "       [ -5,  10, -10,  -1,  -9, -12,  12,  14,   4,   2],\n",
    "       [ -1, -13,  10,  11,  12, -14,   9,  12,  12,  -5],\n",
    "       [  2,   6, -13,  -5,  -2,  -2,   0,  14,   7,  14]])"
   ]
  },
  {
   "cell_type": "code",
   "execution_count": 16,
   "id": "eeeed7a8",
   "metadata": {
    "deletable": false,
    "nbgrader": {
     "cell_type": "code",
     "checksum": "1aa130f13c74d2e72428888a12523962",
     "grade": false,
     "grade_id": "cell-cb84fbb30694589c",
     "locked": false,
     "schema_version": 3,
     "solution": true,
     "task": false
    }
   },
   "outputs": [],
   "source": [
    "ans4 = np.matmul(n,z)"
   ]
  },
  {
   "cell_type": "code",
   "execution_count": 18,
   "id": "b3139853",
   "metadata": {
    "deletable": false,
    "editable": false,
    "nbgrader": {
     "cell_type": "code",
     "checksum": "19a4ef576cc7ab7dfbab71f2fe134423",
     "grade": true,
     "grade_id": "cell-26d17ea398c5775a",
     "locked": true,
     "points": 1,
     "schema_version": 3,
     "solution": false,
     "task": false
    }
   },
   "outputs": [],
   "source": [
    "## GRADED PART, DO NOT CHANGE!\n",
    "ans4 = ans4.flatten()\n",
    "ans4 = np.sum(ans4)\n",
    "assert ans4 == -5004"
   ]
  },
  {
   "cell_type": "markdown",
   "id": "aeb8fc59",
   "metadata": {
    "deletable": false,
    "editable": false,
    "nbgrader": {
     "cell_type": "markdown",
     "checksum": "614185ed1871f701155dbf3d563dd02a",
     "grade": false,
     "grade_id": "cell-8745268a94668ca8",
     "locked": true,
     "schema_version": 3,
     "solution": false,
     "task": false
    }
   },
   "source": [
    "## Task 5\n",
    "Create an identity matrix of the necessary size and subtract it from A.  Save the result to a variable **ans5**"
   ]
  },
  {
   "cell_type": "code",
   "execution_count": 21,
   "id": "9c6a5c3e",
   "metadata": {
    "deletable": false,
    "editable": false,
    "nbgrader": {
     "cell_type": "code",
     "checksum": "d98d4014c8446b7ac464ed24aaefcb4f",
     "grade": false,
     "grade_id": "cell-843f27f1de73c461",
     "locked": true,
     "schema_version": 3,
     "solution": false,
     "task": false
    }
   },
   "outputs": [
    {
     "data": {
      "text/plain": "array([[  7,   8, -15,   8,  11,   7],\n       [ -5,  -9,  13,  -3, -15, -11],\n       [ -3,   0,  10,  -5,   3,  -8],\n       [ 10,   1,   7, -11,  10,  -3],\n       [ 11,   9,  -6, -14,  10, -11],\n       [  6,  -4,  -4,  -9,  -6,  -7]])"
     },
     "execution_count": 21,
     "metadata": {},
     "output_type": "execute_result"
    }
   ],
   "source": [
    "A = np.array([[  7,   8, -15,   8,  11,   7],\n",
    "       [ -5,  -9,  13,  -3, -15, -11],\n",
    "       [ -3,   0,  10,  -5,   3,  -8],\n",
    "       [ 10,   1,   7, -11,  10,  -3],\n",
    "       [ 11,   9,  -6, -14,  10, -11],\n",
    "       [  6,  -4,  -4,  -9,  -6,  -7]])\n",
    "A"
   ]
  },
  {
   "cell_type": "code",
   "execution_count": 28,
   "id": "a95def7b",
   "metadata": {
    "deletable": false,
    "nbgrader": {
     "cell_type": "code",
     "checksum": "4d772032c04631a1d34796c8c04adcfb",
     "grade": false,
     "grade_id": "cell-f83875bf4ad464c3",
     "locked": false,
     "schema_version": 3,
     "solution": true,
     "task": false
    }
   },
   "outputs": [],
   "source": [
    "ident_A = np.identity(A.shape[0])\n",
    "ans5 = A - ident_A"
   ]
  },
  {
   "cell_type": "code",
   "execution_count": 29,
   "id": "0b132b80",
   "metadata": {
    "deletable": false,
    "editable": false,
    "nbgrader": {
     "cell_type": "code",
     "checksum": "39e91eaab01995bca94d60acde6441cb",
     "grade": true,
     "grade_id": "cell-db5252681a67d532",
     "locked": true,
     "points": 1,
     "schema_version": 3,
     "solution": false,
     "task": false
    }
   },
   "outputs": [],
   "source": [
    "## GRADED PART, DO NOT CHANGE!\n",
    "ans5 = ans5.flatten()\n",
    "ans5 = np.sum(ans5)\n",
    "assert ans5 == -24"
   ]
  },
  {
   "cell_type": "markdown",
   "id": "7753c8f9",
   "metadata": {
    "deletable": false,
    "editable": false,
    "nbgrader": {
     "cell_type": "markdown",
     "checksum": "2b128be85289973ea561af3a456cbad7",
     "grade": false,
     "grade_id": "cell-cd80d9df8c0123d2",
     "locked": true,
     "schema_version": 3,
     "solution": false,
     "task": false
    }
   },
   "source": [
    "## Task 6\n",
    "Find the solution to system Ax = b, use matrix inverse. Save the result to a variable **x**"
   ]
  },
  {
   "cell_type": "code",
   "execution_count": 30,
   "id": "6c9cc258",
   "metadata": {
    "deletable": false,
    "editable": false,
    "nbgrader": {
     "cell_type": "code",
     "checksum": "764d135eea690b97882d098637582941",
     "grade": false,
     "grade_id": "cell-aa20c1474a11aacb",
     "locked": true,
     "schema_version": 3,
     "solution": false,
     "task": false
    }
   },
   "outputs": [],
   "source": [
    "A = np.array([[ 0, -2,  0, -2],\n",
    "       [-2,  0, -4,  4],\n",
    "       [-1, -5, -2,  2],\n",
    "       [ 3, 1, 2,  1]])"
   ]
  },
  {
   "cell_type": "code",
   "execution_count": 31,
   "id": "e4729e65",
   "metadata": {
    "deletable": false,
    "editable": false,
    "nbgrader": {
     "cell_type": "code",
     "checksum": "ffca380ec5efd440efad0bdad987a410",
     "grade": false,
     "grade_id": "cell-12d186221f63a187",
     "locked": true,
     "schema_version": 3,
     "solution": false,
     "task": false
    }
   },
   "outputs": [],
   "source": [
    "b = np.array([-4,  1,  4,  2])"
   ]
  },
  {
   "cell_type": "code",
   "execution_count": 33,
   "id": "15bad69c",
   "metadata": {
    "deletable": false,
    "nbgrader": {
     "cell_type": "code",
     "checksum": "912c07e746acd7384fa3c62cb8db76a7",
     "grade": false,
     "grade_id": "cell-d3207e36153af09a",
     "locked": false,
     "schema_version": 3,
     "solution": true,
     "task": false
    }
   },
   "outputs": [],
   "source": [
    "x = LA.inv(A) * b"
   ]
  },
  {
   "cell_type": "code",
   "execution_count": 34,
   "id": "21324124",
   "metadata": {
    "deletable": false,
    "editable": false,
    "nbgrader": {
     "cell_type": "code",
     "checksum": "1d2ea2b71dd77ef154f8a3076e800782",
     "grade": true,
     "grade_id": "cell-087b4a594615c112",
     "locked": true,
     "points": 1,
     "schema_version": 3,
     "solution": false,
     "task": false
    }
   },
   "outputs": [],
   "source": [
    "x = np.round(np.sum(x),3)\n",
    "assert x == 3.225"
   ]
  },
  {
   "cell_type": "markdown",
   "id": "be78de4a",
   "metadata": {
    "deletable": false,
    "editable": false,
    "nbgrader": {
     "cell_type": "markdown",
     "checksum": "76e75b6b1d14b5b2a948b4eab265ad36",
     "grade": false,
     "grade_id": "cell-457f0922191f67a8",
     "locked": true,
     "schema_version": 3,
     "solution": false,
     "task": false
    }
   },
   "source": [
    "## Task 7\n",
    "Find the PLU decomposition and assert that by multiplying the matrices in the decomposition you get the original matrix back. Submit the matrix U as the answer."
   ]
  },
  {
   "cell_type": "code",
   "execution_count": 37,
   "id": "e545981c",
   "metadata": {
    "deletable": false,
    "editable": false,
    "nbgrader": {
     "cell_type": "code",
     "checksum": "3d7e0fd1b2eedfd1a49c987d803041a6",
     "grade": false,
     "grade_id": "cell-5718ab577b8cd73a",
     "locked": true,
     "schema_version": 3,
     "solution": false,
     "task": false
    }
   },
   "outputs": [],
   "source": [
    "from scipy.linalg import lu"
   ]
  },
  {
   "cell_type": "code",
   "execution_count": 35,
   "id": "02dce21b",
   "metadata": {
    "deletable": false,
    "editable": false,
    "nbgrader": {
     "cell_type": "code",
     "checksum": "cb796fe06ebe1cac9a1df02fd3377d19",
     "grade": false,
     "grade_id": "cell-853ff7f46d418eab",
     "locked": true,
     "schema_version": 3,
     "solution": false,
     "task": false
    }
   },
   "outputs": [
    {
     "data": {
      "text/plain": "array([[ 12, -13,   2,   2, -11],\n       [  1,   4,  11,  11,  -5],\n       [ 13,  -5,   9,  12,  -2],\n       [  5, -13,  12,   3,   5],\n       [ -9,  11,  -1,  -6,  -5]])"
     },
     "execution_count": 35,
     "metadata": {},
     "output_type": "execute_result"
    }
   ],
   "source": [
    "m = np.array([[ 12, -13,   2,   2, -11],\n",
    "       [  1,   4,  11,  11,  -5],\n",
    "       [ 13,  -5,   9,  12,  -2],\n",
    "       [  5, -13,  12,   3,   5],\n",
    "       [ -9,  11,  -1,  -6,  -5]])\n",
    "m"
   ]
  },
  {
   "cell_type": "code",
   "execution_count": 39,
   "id": "2baaaa54",
   "metadata": {
    "deletable": false,
    "nbgrader": {
     "cell_type": "code",
     "checksum": "b16c2a709058c70a911e882f7fa0b46d",
     "grade": false,
     "grade_id": "cell-00a31881b2ccb672",
     "locked": false,
     "schema_version": 3,
     "solution": true,
     "task": false
    }
   },
   "outputs": [],
   "source": [
    "P, L, U = lu(m)\n",
    "assert np.allclose(np.dot(np.dot(P, L), U), m)"
   ]
  },
  {
   "cell_type": "code",
   "execution_count": 40,
   "id": "27199b35",
   "metadata": {
    "deletable": false,
    "editable": false,
    "nbgrader": {
     "cell_type": "code",
     "checksum": "ba29d78c35ae51a692f7d0bcee72b29c",
     "grade": true,
     "grade_id": "cell-cee5258f3970597b",
     "locked": true,
     "points": 1,
     "schema_version": 3,
     "solution": false,
     "task": false
    }
   },
   "outputs": [],
   "source": [
    "## GRADED PART, DO NOT CHANGE!\n",
    "U = U.flatten()\n",
    "U = np.sum(U)\n",
    "U = round(U)\n",
    "assert U == 26"
   ]
  },
  {
   "cell_type": "code",
   "execution_count": null,
   "id": "9909fec6",
   "metadata": {},
   "outputs": [],
   "source": []
  }
 ],
 "metadata": {
  "kernelspec": {
   "display_name": "Python 3 (ipykernel)",
   "language": "python",
   "name": "python3"
  },
  "language_info": {
   "codemirror_mode": {
    "name": "ipython",
    "version": 3
   },
   "file_extension": ".py",
   "mimetype": "text/x-python",
   "name": "python",
   "nbconvert_exporter": "python",
   "pygments_lexer": "ipython3",
   "version": "3.8.10"
  }
 },
 "nbformat": 4,
 "nbformat_minor": 5
}
