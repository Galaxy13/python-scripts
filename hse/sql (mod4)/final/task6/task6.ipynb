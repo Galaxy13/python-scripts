{
 "cells": [
  {
   "cell_type": "code",
   "execution_count": 1,
   "metadata": {
    "collapsed": true,
    "ExecuteTime": {
     "end_time": "2023-08-04T10:23:29.647550900Z",
     "start_time": "2023-08-04T10:23:29.202546200Z"
    }
   },
   "outputs": [],
   "source": [
    "import psycopg"
   ]
  },
  {
   "cell_type": "code",
   "execution_count": 7,
   "outputs": [],
   "source": [
    "def start_planning(year, quarter, user, pwd):\n",
    "    arg = f'dbname=adventureworkslt user={user} password={pwd} host=localhost'\n",
    "    quarter_id = '.'.join(list(map(str, [year, quarter])))\n",
    "    con = psycopg.connect(arg)\n",
    "    ### droping data from \"plan_data\"\n",
    "    with con.cursor() as cur:\n",
    "        ### droping data from \"plan_data\"\n",
    "        cur.execute(f'''delete from plan_data\n",
    "                        where quarterid = cast({quarter_id} as text)''')\n",
    "        ### droping data from \"plan_status\"\n",
    "        cur.execute(f'''delete from plan_status\n",
    "                        where quarterid = cast({quarter_id} as text)''')\n",
    "        ### inserting data into \"plan_data\"\n",
    "        cur.execute(f'''insert into plan_data (versionid, country, quarterid, pcid, salesamt) select 'N' as versionid, countrycode, {year}.{quarter}, categoryid as pcid, salesamt from (WITH subquery1 AS (select cid, salesamt as sales1, quarter_yr, categoryid from company_sales\n",
    "where year={year-1} and ccls in ('A', 'B') and quarter_yr={quarter}),\n",
    "subquery2 AS (select cid, salesamt as sales2, quarter_yr, categoryid from company_sales\n",
    "where year={year-2} and ccls in ('A', 'B') and quarter_yr={quarter})\n",
    "SELECT\n",
    "    COALESCE(sq1.cid, sq2.cid) AS cid,\n",
    "    COALESCE(sq1.quarter_yr, sq2.quarter_yr) AS quarterid,\n",
    "    COALESCE(sq1.categoryid, sq2.categoryid) AS categoryid,\n",
    "    case when sq1.sales1 = 0 and sq2.sales2 = 0 then 0\n",
    "        else (COALESCE(sq1.sales1, 0) + COALESCE(sq2.sales2, 0)) / 2 end as salesamt\n",
    "FROM subquery1 sq1\n",
    "FULL outer JOIN subquery2 sq2\n",
    "    ON sq1.cid = sq2.cid\n",
    "    AND sq1.quarter_yr = sq2.quarter_yr\n",
    "    AND sq1.categoryid = sq2.categoryid) as sq3\n",
    "join company c on c.id=sq3.cid''')\n",
    "        ### create copy P\n",
    "        con.execute()\n",
    "        ### filling plan_status\n",
    "        con.execute('''insert into plan_status ()''')\n",
    "\n",
    "\n",
    "\n",
    "\n",
    "\n",
    "start_planning(2023, 1, 'postgres', 'djigurdgen43')"
   ],
   "metadata": {
    "collapsed": false,
    "ExecuteTime": {
     "end_time": "2023-08-04T10:33:41.033079500Z",
     "start_time": "2023-08-04T10:33:40.950205600Z"
    }
   }
  }
 ],
 "metadata": {
  "kernelspec": {
   "display_name": "Python 3",
   "language": "python",
   "name": "python3"
  },
  "language_info": {
   "codemirror_mode": {
    "name": "ipython",
    "version": 2
   },
   "file_extension": ".py",
   "mimetype": "text/x-python",
   "name": "python",
   "nbconvert_exporter": "python",
   "pygments_lexer": "ipython2",
   "version": "2.7.6"
  }
 },
 "nbformat": 4,
 "nbformat_minor": 0
}
