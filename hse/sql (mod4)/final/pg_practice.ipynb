{
 "cells": [
  {
   "cell_type": "code",
   "execution_count": 1,
   "metadata": {
    "collapsed": true,
    "ExecuteTime": {
     "end_time": "2023-07-25T08:51:31.190196700Z",
     "start_time": "2023-07-25T08:51:30.999855700Z"
    }
   },
   "outputs": [],
   "source": [
    "import psycopg as pg"
   ]
  },
  {
   "cell_type": "code",
   "execution_count": 4,
   "outputs": [],
   "source": [
    "con = pg.connect('dbname=cars user=postgres password=djigurdgen43 host=localhost')"
   ],
   "metadata": {
    "collapsed": false,
    "ExecuteTime": {
     "end_time": "2023-07-25T08:57:32.490537300Z",
     "start_time": "2023-07-25T08:57:32.384029700Z"
    }
   }
  },
  {
   "cell_type": "code",
   "execution_count": 12,
   "outputs": [
    {
     "name": "stdout",
     "output_type": "stream",
     "text": [
      "1 nissan 2017\n",
      "2 peugeot 2017\n",
      "3 peugeot 2017\n",
      "4 renault 2018\n",
      "5 renault 2019\n",
      "6 peugeot 2019\n",
      "7 nissan 2019\n",
      "(1, 'Jared', 'm')\n",
      "(2, 'Mary', 'f')\n",
      "(3, 'Linda', 'f')\n",
      "(4, 'Carol', 'f')\n",
      "(5, 'Fred', 'm')\n"
     ]
    }
   ],
   "source": [
    "with con.cursor() as cur:\n",
    "    cur.execute('select cid, make, year from car')\n",
    "    for record in cur:\n",
    "        print(record[0], record[1], record[2])\n",
    "    cur.execute('select * from driver')\n",
    "    for record in cur:\n",
    "        print(record)"
   ],
   "metadata": {
    "collapsed": false,
    "ExecuteTime": {
     "end_time": "2023-07-25T11:30:40.560614Z",
     "start_time": "2023-07-25T11:30:40.539539600Z"
    }
   }
  }
 ],
 "metadata": {
  "kernelspec": {
   "display_name": "Python 3",
   "language": "python",
   "name": "python3"
  },
  "language_info": {
   "codemirror_mode": {
    "name": "ipython",
    "version": 2
   },
   "file_extension": ".py",
   "mimetype": "text/x-python",
   "name": "python",
   "nbconvert_exporter": "python",
   "pygments_lexer": "ipython2",
   "version": "2.7.6"
  }
 },
 "nbformat": 4,
 "nbformat_minor": 0
}
