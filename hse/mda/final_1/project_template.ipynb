{
 "cells": [
  {
   "cell_type": "code",
   "execution_count": 1,
   "metadata": {
    "ExecuteTime": {
     "end_time": "2023-10-20T08:50:03.424563900Z",
     "start_time": "2023-10-20T08:49:57.221684800Z"
    }
   },
   "outputs": [],
   "source": [
    "import numpy as np\n",
    "import pandas as pd"
   ]
  },
  {
   "cell_type": "markdown",
   "metadata": {},
   "source": [
    "This is a template for your final project. "
   ]
  },
  {
   "cell_type": "code",
   "execution_count": 11,
   "metadata": {
    "ExecuteTime": {
     "end_time": "2023-10-20T11:07:31.353583500Z",
     "start_time": "2023-10-20T11:07:30.378418300Z"
    }
   },
   "outputs": [
    {
     "data": {
      "text/plain": "  imdb_title_id                        title               original_title  \\\n0     tt0000574  The Story of the Kelly Gang  The Story of the Kelly Gang   \n1     tt0001892               Den sorte drøm               Den sorte drøm   \n2     tt0002101                    Cleopatra                    Cleopatra   \n\n   year date_published                    genre  duration           country  \\\n0  1906     1906-12-26  Biography, Crime, Drama        70         Australia   \n1  1911     1911-08-19                    Drama        53  Germany, Denmark   \n2  1912     1912-11-13           Drama, History       100               USA   \n\n  language            director  ...  \\\n0      NaN        Charles Tait  ...   \n1      NaN           Urban Gad  ...   \n2  English  Charles L. Gaskill  ...   \n\n                                              actors  \\\n0  Elizabeth Tait, John Tait, Norman Campbell, Be...   \n1  Asta Nielsen, Valdemar Psilander, Gunnar Helse...   \n2  Helen Gardner, Pearl Sindelar, Miss Fielding, ...   \n\n                                         description avg_vote votes   budget  \\\n0  True story of notorious Australian outlaw Ned ...      6.1   537   $ 2250   \n1  Two men of high rank are both wooing the beaut...      5.9   171      NaN   \n2  The fabled queen of Egypt's affair with Roman ...      5.2   420  $ 45000   \n\n   usa_gross_income worlwide_gross_income metascore reviews_from_users  \\\n0               NaN                   NaN       NaN                7.0   \n1               NaN                   NaN       NaN                4.0   \n2               NaN                   NaN       NaN               24.0   \n\n   reviews_from_critics  \n0                   7.0  \n1                   2.0  \n2                   3.0  \n\n[3 rows x 22 columns]",
      "text/html": "<div>\n<style scoped>\n    .dataframe tbody tr th:only-of-type {\n        vertical-align: middle;\n    }\n\n    .dataframe tbody tr th {\n        vertical-align: top;\n    }\n\n    .dataframe thead th {\n        text-align: right;\n    }\n</style>\n<table border=\"1\" class=\"dataframe\">\n  <thead>\n    <tr style=\"text-align: right;\">\n      <th></th>\n      <th>imdb_title_id</th>\n      <th>title</th>\n      <th>original_title</th>\n      <th>year</th>\n      <th>date_published</th>\n      <th>genre</th>\n      <th>duration</th>\n      <th>country</th>\n      <th>language</th>\n      <th>director</th>\n      <th>...</th>\n      <th>actors</th>\n      <th>description</th>\n      <th>avg_vote</th>\n      <th>votes</th>\n      <th>budget</th>\n      <th>usa_gross_income</th>\n      <th>worlwide_gross_income</th>\n      <th>metascore</th>\n      <th>reviews_from_users</th>\n      <th>reviews_from_critics</th>\n    </tr>\n  </thead>\n  <tbody>\n    <tr>\n      <th>0</th>\n      <td>tt0000574</td>\n      <td>The Story of the Kelly Gang</td>\n      <td>The Story of the Kelly Gang</td>\n      <td>1906</td>\n      <td>1906-12-26</td>\n      <td>Biography, Crime, Drama</td>\n      <td>70</td>\n      <td>Australia</td>\n      <td>NaN</td>\n      <td>Charles Tait</td>\n      <td>...</td>\n      <td>Elizabeth Tait, John Tait, Norman Campbell, Be...</td>\n      <td>True story of notorious Australian outlaw Ned ...</td>\n      <td>6.1</td>\n      <td>537</td>\n      <td>$ 2250</td>\n      <td>NaN</td>\n      <td>NaN</td>\n      <td>NaN</td>\n      <td>7.0</td>\n      <td>7.0</td>\n    </tr>\n    <tr>\n      <th>1</th>\n      <td>tt0001892</td>\n      <td>Den sorte drøm</td>\n      <td>Den sorte drøm</td>\n      <td>1911</td>\n      <td>1911-08-19</td>\n      <td>Drama</td>\n      <td>53</td>\n      <td>Germany, Denmark</td>\n      <td>NaN</td>\n      <td>Urban Gad</td>\n      <td>...</td>\n      <td>Asta Nielsen, Valdemar Psilander, Gunnar Helse...</td>\n      <td>Two men of high rank are both wooing the beaut...</td>\n      <td>5.9</td>\n      <td>171</td>\n      <td>NaN</td>\n      <td>NaN</td>\n      <td>NaN</td>\n      <td>NaN</td>\n      <td>4.0</td>\n      <td>2.0</td>\n    </tr>\n    <tr>\n      <th>2</th>\n      <td>tt0002101</td>\n      <td>Cleopatra</td>\n      <td>Cleopatra</td>\n      <td>1912</td>\n      <td>1912-11-13</td>\n      <td>Drama, History</td>\n      <td>100</td>\n      <td>USA</td>\n      <td>English</td>\n      <td>Charles L. Gaskill</td>\n      <td>...</td>\n      <td>Helen Gardner, Pearl Sindelar, Miss Fielding, ...</td>\n      <td>The fabled queen of Egypt's affair with Roman ...</td>\n      <td>5.2</td>\n      <td>420</td>\n      <td>$ 45000</td>\n      <td>NaN</td>\n      <td>NaN</td>\n      <td>NaN</td>\n      <td>24.0</td>\n      <td>3.0</td>\n    </tr>\n  </tbody>\n</table>\n<p>3 rows × 22 columns</p>\n</div>"
     },
     "execution_count": 11,
     "metadata": {},
     "output_type": "execute_result"
    }
   ],
   "source": [
    "full_dataset = pd.read_csv('IMDb movies.csv')\n",
    "full_dataset.head(3)"
   ]
  },
  {
   "cell_type": "markdown",
   "metadata": {},
   "source": [
    "### Part 1.\n",
    "\n",
    "Task formalization and Evaluation criteria\n",
    "\n",
    "1.1 Select your target variable, explain your choice. Separate target variable from the feature matrix."
   ]
  },
  {
   "cell_type": "markdown",
   "source": [
    "### Answer\n",
    "In this dataset there are several features, that can be used as a target variable to measure success of the movies. In terms of money success, we have two features:\n",
    "- usa_gross_income\n",
    "- worldwide_gross_income\n",
    "In terms of audience success, there are one feature that  we can use => avg_vote.\n",
    "To make a choice, let's compare number of NaN observations of each feature"
   ],
   "metadata": {
    "collapsed": false
   }
  },
  {
   "cell_type": "code",
   "execution_count": 11,
   "outputs": [
    {
     "name": "stdout",
     "output_type": "stream",
     "text": [
      "The number of empty observations in avg_vote: 0 or 0.0%\n",
      "The number of empty observations in usa_gross_income 48306 or 80.24519087012858%\n",
      "The number of empty observations in worldwide_gross_income 41062 or 68.21156849064754%\n"
     ]
    }
   ],
   "source": [
    "print(\"The number of empty observations in avg_vote:\", avg_vote_nan:=len(full_dataset[full_dataset['avg_vote'].isna()]), f\"or {avg_vote_nan / len(full_dataset) * 100}%\")\n",
    "print(\"The number of empty observations in usa_gross_income\", usa_income_nan:=len(full_dataset[full_dataset['usa_gross_income'].isna()]), f\"or {usa_income_nan / len(full_dataset) * 100}%\")\n",
    "print(\"The number of empty observations in worldwide_gross_income\", worldwide_nan:=len(full_dataset[full_dataset['worlwide_gross_income'].isna()]), f\"or {worldwide_nan / len(full_dataset)* 100}%\")"
   ],
   "metadata": {
    "collapsed": false,
    "ExecuteTime": {
     "end_time": "2023-10-20T08:44:42.340955400Z",
     "start_time": "2023-10-20T08:44:42.271528500Z"
    }
   }
  },
  {
   "cell_type": "markdown",
   "source": [
    "As we can see, number of empty values of usa_gross_income and worldwide_gross_income is quite large, and we can't make good predictions, with using them as target variables, since we can use for train dataset only about 20-30% percent of all data.\n",
    "**So, the most optimal target variable for this task is: avg_vote**"
   ],
   "metadata": {
    "collapsed": false
   }
  },
  {
   "cell_type": "code",
   "execution_count": 8,
   "outputs": [
    {
     "data": {
      "text/plain": "               year      duration      avg_vote         votes    metascore  \\\ncount  60198.000000  60198.000000  60198.000000  6.019800e+04  8812.000000   \nmean    1985.308366     99.744825      5.997349  1.049150e+04    55.532229   \nstd       23.308107     22.753228      1.199483  5.686771e+04    17.885123   \nmin     1906.000000     40.000000      1.000000  1.000000e+02     1.000000   \n25%     1970.000000     88.000000      5.400000  2.060000e+02    43.000000   \n50%     1992.000000     95.000000      6.200000  5.030000e+02    56.000000   \n75%     2005.000000    107.000000      6.800000  2.000000e+03    68.000000   \nmax     2019.000000    729.000000     10.000000  2.159628e+06   100.000000   \n\n       reviews_from_users  reviews_from_critics  \ncount        56129.000000          51969.000000  \nmean            44.926901             27.269872  \nstd            152.973352             55.689940  \nmin              1.000000              1.000000  \n25%              4.000000              3.000000  \n50%             10.000000              8.000000  \n75%             28.000000             24.000000  \nmax           7029.000000            837.000000  ",
      "text/html": "<div>\n<style scoped>\n    .dataframe tbody tr th:only-of-type {\n        vertical-align: middle;\n    }\n\n    .dataframe tbody tr th {\n        vertical-align: top;\n    }\n\n    .dataframe thead th {\n        text-align: right;\n    }\n</style>\n<table border=\"1\" class=\"dataframe\">\n  <thead>\n    <tr style=\"text-align: right;\">\n      <th></th>\n      <th>year</th>\n      <th>duration</th>\n      <th>avg_vote</th>\n      <th>votes</th>\n      <th>metascore</th>\n      <th>reviews_from_users</th>\n      <th>reviews_from_critics</th>\n    </tr>\n  </thead>\n  <tbody>\n    <tr>\n      <th>count</th>\n      <td>60198.000000</td>\n      <td>60198.000000</td>\n      <td>60198.000000</td>\n      <td>6.019800e+04</td>\n      <td>8812.000000</td>\n      <td>56129.000000</td>\n      <td>51969.000000</td>\n    </tr>\n    <tr>\n      <th>mean</th>\n      <td>1985.308366</td>\n      <td>99.744825</td>\n      <td>5.997349</td>\n      <td>1.049150e+04</td>\n      <td>55.532229</td>\n      <td>44.926901</td>\n      <td>27.269872</td>\n    </tr>\n    <tr>\n      <th>std</th>\n      <td>23.308107</td>\n      <td>22.753228</td>\n      <td>1.199483</td>\n      <td>5.686771e+04</td>\n      <td>17.885123</td>\n      <td>152.973352</td>\n      <td>55.689940</td>\n    </tr>\n    <tr>\n      <th>min</th>\n      <td>1906.000000</td>\n      <td>40.000000</td>\n      <td>1.000000</td>\n      <td>1.000000e+02</td>\n      <td>1.000000</td>\n      <td>1.000000</td>\n      <td>1.000000</td>\n    </tr>\n    <tr>\n      <th>25%</th>\n      <td>1970.000000</td>\n      <td>88.000000</td>\n      <td>5.400000</td>\n      <td>2.060000e+02</td>\n      <td>43.000000</td>\n      <td>4.000000</td>\n      <td>3.000000</td>\n    </tr>\n    <tr>\n      <th>50%</th>\n      <td>1992.000000</td>\n      <td>95.000000</td>\n      <td>6.200000</td>\n      <td>5.030000e+02</td>\n      <td>56.000000</td>\n      <td>10.000000</td>\n      <td>8.000000</td>\n    </tr>\n    <tr>\n      <th>75%</th>\n      <td>2005.000000</td>\n      <td>107.000000</td>\n      <td>6.800000</td>\n      <td>2.000000e+03</td>\n      <td>68.000000</td>\n      <td>28.000000</td>\n      <td>24.000000</td>\n    </tr>\n    <tr>\n      <th>max</th>\n      <td>2019.000000</td>\n      <td>729.000000</td>\n      <td>10.000000</td>\n      <td>2.159628e+06</td>\n      <td>100.000000</td>\n      <td>7029.000000</td>\n      <td>837.000000</td>\n    </tr>\n  </tbody>\n</table>\n</div>"
     },
     "execution_count": 8,
     "metadata": {},
     "output_type": "execute_result"
    }
   ],
   "source": [
    "full_dataset.describe()"
   ],
   "metadata": {
    "collapsed": false,
    "ExecuteTime": {
     "end_time": "2023-10-20T10:48:20.757787800Z",
     "start_time": "2023-10-20T10:48:20.710465700Z"
    }
   }
  },
  {
   "cell_type": "markdown",
   "source": [
    "But, can we assume that success of the movie is based only on average score? We don't have many information about income, but we can measure popularity based on number reviews for each film. Let's see the avg distribution of score, compared to number of reviews."
   ],
   "metadata": {
    "collapsed": false
   }
  },
  {
   "cell_type": "code",
   "execution_count": 5,
   "outputs": [],
   "source": [
    "import seaborn as sns"
   ],
   "metadata": {
    "collapsed": false,
    "ExecuteTime": {
     "end_time": "2023-10-20T10:45:38.232670200Z",
     "start_time": "2023-10-20T10:45:30.845778200Z"
    }
   }
  },
  {
   "cell_type": "code",
   "execution_count": 7,
   "outputs": [
    {
     "data": {
      "text/plain": "<Axes: xlabel='None', ylabel='avg_vote'>"
     },
     "execution_count": 7,
     "metadata": {},
     "output_type": "execute_result"
    },
    {
     "data": {
      "text/plain": "<Figure size 640x480 with 1 Axes>",
      "image/png": "[encoded data removed]"
     },
     "metadata": {},
     "output_type": "display_data"
    }
   ],
   "source": [
    "sns.lineplot(full_dataset, x=full_dataset['reviews_from_critics'] + full_dataset['reviews_from_users'], y=full_dataset['avg_vote'])"
   ],
   "metadata": {
    "collapsed": false,
    "ExecuteTime": {
     "end_time": "2023-10-20T10:47:49.179734500Z",
     "start_time": "2023-10-20T10:47:23.968564Z"
    }
   }
  },
  {
   "cell_type": "markdown",
   "source": [
    "Well, as we can see there are some correlation between avg_vote and number of reviews, but seems like it's not linear. Let's build up a correlation matrix of avg_vote, reviews_from_users, reviews_from_critics:"
   ],
   "metadata": {
    "collapsed": false
   }
  },
  {
   "cell_type": "code",
   "execution_count": 4,
   "outputs": [
    {
     "data": {
      "text/plain": "                      avg_vote  reviews_from_users  reviews_from_critics\navg_vote              1.000000            0.154373              0.195530\nreviews_from_users    0.154373            1.000000              0.725157\nreviews_from_critics  0.195530            0.725157              1.000000",
      "text/html": "<div>\n<style scoped>\n    .dataframe tbody tr th:only-of-type {\n        vertical-align: middle;\n    }\n\n    .dataframe tbody tr th {\n        vertical-align: top;\n    }\n\n    .dataframe thead th {\n        text-align: right;\n    }\n</style>\n<table border=\"1\" class=\"dataframe\">\n  <thead>\n    <tr style=\"text-align: right;\">\n      <th></th>\n      <th>avg_vote</th>\n      <th>reviews_from_users</th>\n      <th>reviews_from_critics</th>\n    </tr>\n  </thead>\n  <tbody>\n    <tr>\n      <th>avg_vote</th>\n      <td>1.000000</td>\n      <td>0.154373</td>\n      <td>0.195530</td>\n    </tr>\n    <tr>\n      <th>reviews_from_users</th>\n      <td>0.154373</td>\n      <td>1.000000</td>\n      <td>0.725157</td>\n    </tr>\n    <tr>\n      <th>reviews_from_critics</th>\n      <td>0.195530</td>\n      <td>0.725157</td>\n      <td>1.000000</td>\n    </tr>\n  </tbody>\n</table>\n</div>"
     },
     "execution_count": 4,
     "metadata": {},
     "output_type": "execute_result"
    }
   ],
   "source": [
    "full_dataset[['avg_vote', 'reviews_from_users', 'reviews_from_critics']].corr()"
   ],
   "metadata": {
    "collapsed": false,
    "ExecuteTime": {
     "end_time": "2023-10-20T09:12:42.225435800Z",
     "start_time": "2023-10-20T09:12:42.191668700Z"
    }
   }
  },
  {
   "cell_type": "markdown",
   "source": [
    "This matrix tells us, that there is actually low correlation between avg_vote and reviews. But, it seems like number reviews from user and critics are highly correlated with each. So instead of using each feature separatly, it's much more convinient to combine them in on common feature *reviews*."
   ],
   "metadata": {
    "collapsed": false
   }
  },
  {
   "cell_type": "markdown",
   "metadata": {},
   "source": [
    "1.2 Explain which task are you going to solve (is it a regression, classification or something else)?"
   ]
  },
  {
   "cell_type": "markdown",
   "source": [
    "## Answer\n",
    "This is a regression task, where algorithm will try to estimate avg_vote as numerical value. It can be actually changed, to somewhat categorical predictions, where we can create scale like:\n",
    "- 0-3: bad film\n",
    "- 4-6: avg film\n",
    "- 7-8: good film\n",
    "- 9-10: awesome film\n",
    "And in this case  overall performance will be better, but this classification is out of the task, and sometimes precise values can be more interesting rather than split in this categories."
   ],
   "metadata": {
    "collapsed": false
   }
  },
  {
   "cell_type": "markdown",
   "metadata": {},
   "source": [
    "1.3 Select a metric. Is it already implemented in sklearn? If yes, import it. If not, it is time to write a function which will calculate it."
   ]
  },
  {
   "cell_type": "markdown",
   "source": [
    "There are several metrics for Regression task:\n",
    "- MSE\n",
    "- RMSE\n",
    "- MAE\n",
    "Since our value is not oscillating much (in range 0-10), so scale of \"punishing\" for small and large error can be the same, it's better to use *Mean-Absolute Error* in this case. But,\n",
    "it should be noted that this metrics will be used in overall evaluation of results of regressor, because every different model uses their **Loss functions** for training and error reduction. For example, Linear Regression can use all three (MSE, RMSE, MAE). Logistic Regression uses *Log Loss error* function, and *Trees* uses Log-Loss and *Entropy* to measure error."
   ],
   "metadata": {
    "collapsed": false
   }
  },
  {
   "cell_type": "code",
   "execution_count": 15,
   "metadata": {
    "ExecuteTime": {
     "end_time": "2023-10-20T11:23:13.125168200Z",
     "start_time": "2023-10-20T11:23:13.097056400Z"
    }
   },
   "outputs": [],
   "source": [
    "from sklearn.metrics import mean_absolute_error"
   ]
  },
  {
   "cell_type": "markdown",
   "metadata": {},
   "source": [
    "### Part 2.\n",
    "\n",
    "Explore and preprocess the data\n",
    "\n",
    "2.1 Split data into train and test"
   ]
  },
  {
   "cell_type": "code",
   "execution_count": 22,
   "metadata": {
    "ExecuteTime": {
     "end_time": "2023-10-20T11:31:31.113724200Z",
     "start_time": "2023-10-20T11:31:31.052182800Z"
    }
   },
   "outputs": [],
   "source": [
    "from sklearn.model_selection import train_test_split\n",
    "\n",
    "X_train, X_test, y_train, y_test = train_test_split(full_dataset.drop('avg_vote', axis=1), full_dataset['avg_vote'],\n",
    "                                                    test_size=0.3, random_state=451)"
   ]
  },
  {
   "cell_type": "markdown",
   "metadata": {},
   "source": [
    "2.2 Explore you data: make plots, print tables. Make sure to write your observations.  Do not forget to fill-in missing values, define relevant columns transformatios. \n"
   ]
  },
  {
   "cell_type": "markdown",
   "source": [
    "## Reviews"
   ],
   "metadata": {
    "collapsed": false
   }
  },
  {
   "cell_type": "markdown",
   "source": [
    "Firslty, let's create a new variable *review* (1.1) from *reviews_from_users* and *reviews_from_critics*"
   ],
   "metadata": {
    "collapsed": false
   }
  },
  {
   "cell_type": "code",
   "execution_count": 23,
   "metadata": {
    "ExecuteTime": {
     "end_time": "2023-10-20T11:31:32.658317700Z",
     "start_time": "2023-10-20T11:31:32.597556500Z"
    }
   },
   "outputs": [],
   "source": [
    "X_train['reviews'], X_test['reviews'] = X_train['reviews_from_users'] + X_train['reviews_from_critics'], \\\n",
    "    X_test['reviews_from_users'] + X_test['reviews_from_critics']\n",
    "X_train = X_train.drop(['reviews_from_users', 'reviews_from_critics'], axis=1)\n",
    "X_test = X_test.drop(['reviews_from_users', 'reviews_from_critics'], axis=1)"
   ]
  },
  {
   "cell_type": "code",
   "execution_count": 30,
   "outputs": [
    {
     "data": {
      "text/plain": "                            title  year date_published  \\\n21735                     Bullies  1986     1986-08-29   \n46279             Evil Behind You  2006     2006-10-31   \n58637              Legend of Hell  2012     2012-02-04   \n21106              Basic Training  1985     1985-11-01   \n11733  How to Stuff a Wild Bikini  1965     1965-07-14   \n\n                         genre  duration  country  \\\n21735  Action, Thriller, Drama        96   Canada   \n46279   Action, Comedy, Sci-Fi        90      USA   \n58637  Action, Horror, Mystery        85  Germany   \n21106                   Comedy        88      USA   \n11733          Comedy, Musical        93      USA   \n\n                               language                 director  \\\n21735                           English               Paul Lynch   \n46279                           English  Jim Carroll, Jason Kerr   \n58637                           English           Olaf Ittenbach   \n21106                           English          Andrew Sugerman   \n11733  English, Italian, German, French            William Asher   \n\n                            writer          production_company  \\\n21735  John Sheppard, Bryan McCann              Simcom Limited   \n46279                  Jim Carroll  Given the Boot Productions   \n58637               Olaf Ittenbach                    Europlay   \n21106                  Bernie Kahn        Entertainment Events   \n11733  William Asher, Leo Townsend      Alta Vista Productions   \n\n                                                  actors  \\\n21735  Jonathan Crombie, Janet-Laine Green, Stephen H...   \n46279  Hilary Kennedy, Manuel Velazquez, D.C. Lee, Ji...   \n58637  Karen Breece, Wayne Darrin, Martina Ittenbach,...   \n21106  Ann Dusenberry, Rhonda Shear, Angela Aames, Wi...   \n11733  Annette Funicello, Dwayne Hickman, Brian Donle...   \n\n                                             description  votes       budget  \\\n21735  When the peaceful Morris family move to a smal...    399  CAD 1800000   \n46279  Abducted couples are victims of medical experi...    584     $ 200000   \n58637  An archaeologist discovers an ancient artifact...    211      EUR 850   \n21106  Melinda comes to Washington DC to visit her fr...    342          NaN   \n11733  Frankie, on naval-reserve duty in Tahiti, does...   1101          NaN   \n\n      usa_gross_income worlwide_gross_income  metascore  reviews  \n21735        $ 2995527             $ 2995527        NaN     19.0  \n46279              NaN                   NaN        NaN     19.0  \n58637              NaN                   NaN        NaN      7.0  \n21106              NaN                   NaN        NaN     11.0  \n11733              NaN                   NaN        NaN     39.0  ",
      "text/html": "<div>\n<style scoped>\n    .dataframe tbody tr th:only-of-type {\n        vertical-align: middle;\n    }\n\n    .dataframe tbody tr th {\n        vertical-align: top;\n    }\n\n    .dataframe thead th {\n        text-align: right;\n    }\n</style>\n<table border=\"1\" class=\"dataframe\">\n  <thead>\n    <tr style=\"text-align: right;\">\n      <th></th>\n      <th>title</th>\n      <th>year</th>\n      <th>date_published</th>\n      <th>genre</th>\n      <th>duration</th>\n      <th>country</th>\n      <th>language</th>\n      <th>director</th>\n      <th>writer</th>\n      <th>production_company</th>\n      <th>actors</th>\n      <th>description</th>\n      <th>votes</th>\n      <th>budget</th>\n      <th>usa_gross_income</th>\n      <th>worlwide_gross_income</th>\n      <th>metascore</th>\n      <th>reviews</th>\n    </tr>\n  </thead>\n  <tbody>\n    <tr>\n      <th>21735</th>\n      <td>Bullies</td>\n      <td>1986</td>\n      <td>1986-08-29</td>\n      <td>Action, Thriller, Drama</td>\n      <td>96</td>\n      <td>Canada</td>\n      <td>English</td>\n      <td>Paul Lynch</td>\n      <td>John Sheppard, Bryan McCann</td>\n      <td>Simcom Limited</td>\n      <td>Jonathan Crombie, Janet-Laine Green, Stephen H...</td>\n      <td>When the peaceful Morris family move to a smal...</td>\n      <td>399</td>\n      <td>CAD 1800000</td>\n      <td>$ 2995527</td>\n      <td>$ 2995527</td>\n      <td>NaN</td>\n      <td>19.0</td>\n    </tr>\n    <tr>\n      <th>46279</th>\n      <td>Evil Behind You</td>\n      <td>2006</td>\n      <td>2006-10-31</td>\n      <td>Action, Comedy, Sci-Fi</td>\n      <td>90</td>\n      <td>USA</td>\n      <td>English</td>\n      <td>Jim Carroll, Jason Kerr</td>\n      <td>Jim Carroll</td>\n      <td>Given the Boot Productions</td>\n      <td>Hilary Kennedy, Manuel Velazquez, D.C. Lee, Ji...</td>\n      <td>Abducted couples are victims of medical experi...</td>\n      <td>584</td>\n      <td>$ 200000</td>\n      <td>NaN</td>\n      <td>NaN</td>\n      <td>NaN</td>\n      <td>19.0</td>\n    </tr>\n    <tr>\n      <th>58637</th>\n      <td>Legend of Hell</td>\n      <td>2012</td>\n      <td>2012-02-04</td>\n      <td>Action, Horror, Mystery</td>\n      <td>85</td>\n      <td>Germany</td>\n      <td>English</td>\n      <td>Olaf Ittenbach</td>\n      <td>Olaf Ittenbach</td>\n      <td>Europlay</td>\n      <td>Karen Breece, Wayne Darrin, Martina Ittenbach,...</td>\n      <td>An archaeologist discovers an ancient artifact...</td>\n      <td>211</td>\n      <td>EUR 850</td>\n      <td>NaN</td>\n      <td>NaN</td>\n      <td>NaN</td>\n      <td>7.0</td>\n    </tr>\n    <tr>\n      <th>21106</th>\n      <td>Basic Training</td>\n      <td>1985</td>\n      <td>1985-11-01</td>\n      <td>Comedy</td>\n      <td>88</td>\n      <td>USA</td>\n      <td>English</td>\n      <td>Andrew Sugerman</td>\n      <td>Bernie Kahn</td>\n      <td>Entertainment Events</td>\n      <td>Ann Dusenberry, Rhonda Shear, Angela Aames, Wi...</td>\n      <td>Melinda comes to Washington DC to visit her fr...</td>\n      <td>342</td>\n      <td>NaN</td>\n      <td>NaN</td>\n      <td>NaN</td>\n      <td>NaN</td>\n      <td>11.0</td>\n    </tr>\n    <tr>\n      <th>11733</th>\n      <td>How to Stuff a Wild Bikini</td>\n      <td>1965</td>\n      <td>1965-07-14</td>\n      <td>Comedy, Musical</td>\n      <td>93</td>\n      <td>USA</td>\n      <td>English, Italian, German, French</td>\n      <td>William Asher</td>\n      <td>William Asher, Leo Townsend</td>\n      <td>Alta Vista Productions</td>\n      <td>Annette Funicello, Dwayne Hickman, Brian Donle...</td>\n      <td>Frankie, on naval-reserve duty in Tahiti, does...</td>\n      <td>1101</td>\n      <td>NaN</td>\n      <td>NaN</td>\n      <td>NaN</td>\n      <td>NaN</td>\n      <td>39.0</td>\n    </tr>\n  </tbody>\n</table>\n</div>"
     },
     "execution_count": 30,
     "metadata": {},
     "output_type": "execute_result"
    }
   ],
   "source": [
    "X_train.head()"
   ],
   "metadata": {
    "collapsed": false,
    "ExecuteTime": {
     "end_time": "2023-10-20T11:39:52.797544100Z",
     "start_time": "2023-10-20T11:39:52.748813600Z"
    }
   }
  },
  {
   "cell_type": "markdown",
   "source": [
    "## Title"
   ],
   "metadata": {
    "collapsed": false
   }
  },
  {
   "cell_type": "markdown",
   "source": [
    "An for obvious part, we can drop **imdb_title_id** since there is not useful information."
   ],
   "metadata": {
    "collapsed": false
   }
  },
  {
   "cell_type": "code",
   "execution_count": 25,
   "outputs": [],
   "source": [
    "X_train = X_train.drop('imdb_title_id', axis=1)\n",
    "X_test = X_test.drop('imdb_title_id', axis=1)"
   ],
   "metadata": {
    "collapsed": false,
    "ExecuteTime": {
     "end_time": "2023-10-20T11:33:06.526974500Z",
     "start_time": "2023-10-20T11:33:06.496237900Z"
    }
   }
  },
  {
   "cell_type": "markdown",
   "source": [
    "Let's examine, how different features **title** and **original_title**:"
   ],
   "metadata": {
    "collapsed": false
   }
  },
  {
   "cell_type": "code",
   "execution_count": 28,
   "outputs": [
    {
     "name": "stdout",
     "output_type": "stream",
     "text": [
      "Number of obs. where title equal to original: 42046 or 99.78166975176799%\n",
      "Number of NaN in title: 0\n",
      "Number of NaN in original title: 0\n"
     ]
    }
   ],
   "source": [
    "print(\"Number of obs. where title equal to original:\", title:=len(X_train[X_train['title'] == X_train['original_title']]), f\"or {title / len(X_train) * 100}%\")\n",
    "print(\"Number of NaN in title:\", len(X_train[X_train['title'].isna()]))\n",
    "print(\"Number of NaN in original title:\", len(X_train[X_train['original_title'].isna()]))"
   ],
   "metadata": {
    "collapsed": false,
    "ExecuteTime": {
     "end_time": "2023-10-20T11:37:51.620453100Z",
     "start_time": "2023-10-20T11:37:51.554389400Z"
    }
   }
  },
  {
   "cell_type": "markdown",
   "source": [
    "So, as we can see, this 2 columns are almost identical to each other, so we can drop one of them."
   ],
   "metadata": {
    "collapsed": false
   }
  },
  {
   "cell_type": "code",
   "execution_count": 29,
   "outputs": [],
   "source": [
    "X_train = X_train.drop('original_title', axis=1)\n",
    "X_test = X_test.drop('original_title', axis=1)"
   ],
   "metadata": {
    "collapsed": false,
    "ExecuteTime": {
     "end_time": "2023-10-20T11:39:48.859005600Z",
     "start_time": "2023-10-20T11:39:48.833524800Z"
    }
   }
  },
  {
   "cell_type": "markdown",
   "source": [
    "Feature **title** can't be used directly, since it is highly variate, and in encoding it will produce thousands of features. But, to train the model, we can use 10 most frequent words (except stop words) to use as a feature in our model. Let's plot the barplot of words count:"
   ],
   "metadata": {
    "collapsed": false
   }
  },
  {
   "cell_type": "code",
   "execution_count": 43,
   "outputs": [],
   "source": [
    "word_title_count = full_dataset['title'].str.split(expand=True).stack().value_counts()"
   ],
   "metadata": {
    "collapsed": false,
    "ExecuteTime": {
     "end_time": "2023-10-20T11:53:59.837172400Z",
     "start_time": "2023-10-20T11:53:59.079857100Z"
    }
   }
  },
  {
   "cell_type": "code",
   "execution_count": 58,
   "outputs": [],
   "source": [
    "stop_words = ['The', 'of', 'the', 'in', 'de', 'La', 'and', 'a', 'to', 'A', 'Le', '-', 'la', '&', 'di', 'El', 'My', 'Les', 'for', 'on', 'no', 'il', 'del']\n",
    "popular_title_10 = word_title_count[~word_title_count.index.isin(stop_words)][:10]"
   ],
   "metadata": {
    "collapsed": false,
    "ExecuteTime": {
     "end_time": "2023-10-20T12:01:19.193854500Z",
     "start_time": "2023-10-20T12:01:19.169092300Z"
    }
   }
  },
  {
   "cell_type": "code",
   "execution_count": 77,
   "outputs": [],
   "source": [
    "filtered_data = full_dataset[full_dataset['title'].str.split().apply(lambda x: any(word in popular_title_10 for word in x))]"
   ],
   "metadata": {
    "collapsed": false,
    "ExecuteTime": {
     "end_time": "2023-10-20T12:19:39.044908800Z",
     "start_time": "2023-10-20T12:19:37.959120400Z"
    }
   }
  },
  {
   "cell_type": "markdown",
   "source": [
    "Let's make a barplot, with respect to avg of vote:"
   ],
   "metadata": {
    "collapsed": false
   }
  },
  {
   "cell_type": "code",
   "execution_count": 78,
   "outputs": [
    {
     "data": {
      "text/plain": "<Axes: xlabel='avg_vote', ylabel='count'>"
     },
     "execution_count": 78,
     "metadata": {},
     "output_type": "execute_result"
    },
    {
     "data": {
      "text/plain": "<Figure size 640x480 with 1 Axes>",
      "image/png": "[encoded data removed]"
     },
     "metadata": {},
     "output_type": "display_data"
    }
   ],
   "source": [
    "sns.countplot(filtered_data, x=filtered_data['avg_vote'])"
   ],
   "metadata": {
    "collapsed": false,
    "ExecuteTime": {
     "end_time": "2023-10-20T12:21:19.244230100Z",
     "start_time": "2023-10-20T12:21:18.358162300Z"
    }
   }
  },
  {
   "cell_type": "markdown",
   "source": [
    "As we can see, avg_vote is close to normal, with such filtration, and a slight shift towards high score. It's good to use this, to encode our variables."
   ],
   "metadata": {
    "collapsed": false
   }
  },
  {
   "cell_type": "code",
   "execution_count": 79,
   "outputs": [],
   "source": [
    "from sklearn.base import BaseEstimator, TransformerMixin"
   ],
   "metadata": {
    "collapsed": false,
    "ExecuteTime": {
     "end_time": "2023-10-20T12:25:06.838080700Z",
     "start_time": "2023-10-20T12:25:06.814364Z"
    }
   }
  },
  {
   "cell_type": "code",
   "execution_count": 81,
   "outputs": [],
   "source": [
    "class TitleEncoder(BaseEstimator, TransformerMixin):\n",
    "    def __init__(self):\n",
    "        self.stop_words = ['The', 'of', 'the', 'in', 'de', 'La', 'and', 'a', 'to', 'A', 'Le', '-', 'la', '&', 'di', 'El', 'My', 'Les', 'for', 'on', 'no', 'il', 'del']\n",
    "\n",
    "    def fit(self, X, y=None):\n",
    "        assert X['title'].isna().sum() == 0, 'There are missing values in the title'\n",
    "\n",
    "        word_count = X['title'].str.split(expand=True).stack().value_counts()\n",
    "        self.top_10 = word_count[~word_count.index.isin(self.stop_words)][:10]\n",
    "        return self\n",
    "\n",
    "    def transform(self, X: pd.DataFrame, y=None):\n",
    "        X = X.copy()\n",
    "\n",
    "        for word in self.top_10:\n",
    "            X[word + '_title'] = X[X['title'].str.split().isin(word)].astype(int)\n",
    "        return X.values"
   ],
   "metadata": {
    "collapsed": false,
    "ExecuteTime": {
     "end_time": "2023-10-20T12:34:48.692810300Z",
     "start_time": "2023-10-20T12:34:48.669216400Z"
    }
   }
  },
  {
   "cell_type": "markdown",
   "source": [
    "## Age and Date"
   ],
   "metadata": {
    "collapsed": false
   }
  },
  {
   "cell_type": "markdown",
   "source": [
    "The first question, that comes from age variable: is it really convenient to use *year* variable as a feature of prediction? Let's plot the distribution of films, by age:"
   ],
   "metadata": {
    "collapsed": false
   }
  },
  {
   "cell_type": "code",
   "execution_count": 83,
   "outputs": [
    {
     "data": {
      "text/plain": "<Axes: xlabel='year', ylabel='count'>"
     },
     "execution_count": 83,
     "metadata": {},
     "output_type": "execute_result"
    },
    {
     "data": {
      "text/plain": "<Figure size 640x480 with 1 Axes>",
      "image/png": "[encoded data removed]"
     },
     "metadata": {},
     "output_type": "display_data"
    }
   ],
   "source": [
    "sns.countplot(full_dataset, x=full_dataset['year'])"
   ],
   "metadata": {
    "collapsed": false,
    "ExecuteTime": {
     "end_time": "2023-10-20T13:51:06.564372Z",
     "start_time": "2023-10-20T13:51:05.186834900Z"
    }
   }
  },
  {
   "cell_type": "markdown",
   "source": [
    "There is a slight shift of number of observations to later years. Maybe it's good way to split years into several groups, but let's see, how avg_vore distributed over years:"
   ],
   "metadata": {
    "collapsed": false
   }
  },
  {
   "cell_type": "code",
   "execution_count": 85,
   "outputs": [
    {
     "data": {
      "text/plain": "<Axes: xlabel='year', ylabel='avg_vote'>"
     },
     "execution_count": 85,
     "metadata": {},
     "output_type": "execute_result"
    },
    {
     "data": {
      "text/plain": "<Figure size 640x480 with 1 Axes>",
      "image/png": "[encoded data removed]"
     },
     "metadata": {},
     "output_type": "display_data"
    }
   ],
   "source": [
    "sns.barplot(full_dataset, x='year', y='avg_vote')"
   ],
   "metadata": {
    "collapsed": false,
    "ExecuteTime": {
     "end_time": "2023-10-20T13:56:46.583779900Z",
     "start_time": "2023-10-20T13:56:41.629017300Z"
    }
   }
  },
  {
   "cell_type": "markdown",
   "source": [
    "From this plot it is obvious, that the year of the movie doesn't give any strong effect on avg_vote variable. So, *year* variable can be dropped from dataset:"
   ],
   "metadata": {
    "collapsed": false
   }
  },
  {
   "cell_type": "code",
   "execution_count": 86,
   "outputs": [],
   "source": [
    "X_train = X_train.drop('year', axis=1)\n",
    "X_test = X_test.drop('year', axis=1)"
   ],
   "metadata": {
    "collapsed": false,
    "ExecuteTime": {
     "end_time": "2023-10-20T13:59:40.598565900Z",
     "start_time": "2023-10-20T13:59:40.540256400Z"
    }
   }
  },
  {
   "cell_type": "markdown",
   "source": [],
   "metadata": {
    "collapsed": false
   }
  },
  {
   "cell_type": "markdown",
   "metadata": {},
   "source": [
    "### Part 3.\n",
    "\n",
    "Train and compare the models\n",
    "\n",
    "3.1. Select models, you are going to train, select hyperparameters that have to be tunes."
   ]
  },
  {
   "cell_type": "code",
   "execution_count": null,
   "metadata": {},
   "outputs": [],
   "source": []
  },
  {
   "cell_type": "markdown",
   "metadata": {},
   "source": [
    "3.2 Use cross-validation to compare models and select best set of hyperparameters"
   ]
  },
  {
   "cell_type": "code",
   "execution_count": null,
   "metadata": {},
   "outputs": [],
   "source": []
  },
  {
   "cell_type": "markdown",
   "metadata": {},
   "source": [
    "3.3 Which model and setup is the best? How does it perform on the test dataset? If you were to present this model to the client, how would you describe it?"
   ]
  },
  {
   "cell_type": "code",
   "execution_count": null,
   "metadata": {},
   "outputs": [],
   "source": []
  }
 ],
 "metadata": {
  "kernelspec": {
   "display_name": "Python 3",
   "language": "python",
   "name": "python3"
  },
  "language_info": {
   "codemirror_mode": {
    "name": "ipython",
    "version": 3
   },
   "file_extension": ".py",
   "mimetype": "text/x-python",
   "name": "python",
   "nbconvert_exporter": "python",
   "pygments_lexer": "ipython3",
   "version": "3.7.6"
  }
 },
 "nbformat": 4,
 "nbformat_minor": 4
}
