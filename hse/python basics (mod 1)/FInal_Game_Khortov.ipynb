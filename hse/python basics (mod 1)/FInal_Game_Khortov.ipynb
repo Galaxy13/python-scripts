{
 "cells": [
  {
   "cell_type": "markdown",
   "metadata": {},
   "source": [
    "# Final Game\n",
    "Hello!\n",
    "For this final assigment, I've thinking about many games, that I can program, but, example game interests me, and recalling old ASCII games and Dwarf Fortress, I've tried to build something myself\n",
    "So, I've decided to program Dungeon Crawler Game, with some mechanics (**exploring, search of items, randomly generated maps, fight mode**)\n",
    "*Fair warning!* Full functionality was checked in Windows Command Prompt. I've adapted program for running in Ipython kernel, but some problems can occur. In addition to main *.ipynb* I've added .py file and .bat file, for easy launch"
   ]
  },
  {
   "cell_type": "markdown",
   "metadata": {},
   "source": [
    "So, let's start!\n",
    "First, I've imported *random* library and *os* module:"
   ]
  },
  {
   "cell_type": "markdown",
   "metadata": {},
   "source": []
  },
  {
   "cell_type": "code",
   "execution_count": 1,
   "metadata": {},
   "outputs": [],
   "source": [
    "import random\n",
    "import os"
   ]
  },
  {
   "cell_type": "markdown",
   "metadata": {},
   "source": [
    "*Random* module is necessary here, because game use random functions to build dungeons and some calculations during fight"
   ]
  },
  {
   "cell_type": "code",
   "execution_count": 2,
   "metadata": {},
   "outputs": [],
   "source": [
    "def cls_deprecated():\n",
    "    os.system('cls' if os.name == 'nt' else 'clear')\n",
    "\n",
    "from IPython.display import clear_output\n",
    "\n",
    "def cls():\n",
    "    clear_output(wait=True)"
   ]
  },
  {
   "cell_type": "markdown",
   "metadata": {},
   "source": [
    "*cls_deprecated* meant to clear console output, so our map is updated, rather than printed over and over again\n",
    "For Jupyter Notebook, we shall use *Ipython.display.cleat_output* function, so in the cell, we can clear the result, but that may works odd"
   ]
  },
  {
   "cell_type": "code",
   "execution_count": 3,
   "metadata": {},
   "outputs": [],
   "source": [
    "WEAPONS = {'fists': {'attack': 2,\n",
    "                     'level': 1},\n",
    "           'knife': {'attack': 3,\n",
    "                     'level': 3},\n",
    "           'sword': {'attack': 6,\n",
    "                     'level': 4},\n",
    "           'axe': {'attack': 5,\n",
    "                   'level': 4},\n",
    "           'monster_weapon': {'attack': 3,\n",
    "                              'level': 1}}\n",
    "\n",
    "WEAPONS_ICONS = {'sword':\n",
    "                     ['     #             ',\n",
    "                      'O%%%%#============--       sword',\n",
    "                      '     #               '\n",
    "                      ],\n",
    "                 'knife': ['[]++++||=======>    knife'],\n",
    "                 'axe': [\n",
    "                     '             +-+',\n",
    "                     '=============| |      axe',\n",
    "                     '            `:_;'],\n",
    "                 'fists': ['fists']}\n",
    "\n",
    "GRID_SYMBOLS = {'knife': '/',\n",
    "                'sword': \"+\",\n",
    "                'axe': 'c',\n",
    "                'key': 'k',\n",
    "                'fists': None}\n",
    "\n",
    "MOVE_COMMANDS = {'w': (-1, 0),\n",
    "                 's': (1, 0),\n",
    "                 'd': (0, 1),\n",
    "                 'a': (0, -1)}\n",
    "\n",
    "GRID = [['#', '#', '#', '#', '#', '.', '.', '.', '#', 'x'],\n",
    "        ['#', '#', '#', '.', '.', '.', '#', '.', '#', '.'],\n",
    "        ['#', '#', '#', '.', '#', '#', '#', '.', '.', '.'],\n",
    "        ['#', '#', '#', '.', '.', '.', '.', '#', '#', '#'],\n",
    "        ['#', '#', '#', '#', '.', '.', '.', '#', '.', '#'],\n",
    "        ['#', '#', '#', '#', '.', '.', '.', '#', '.', '#'],\n",
    "        ['#', '#', '#', '.', '.', '.', '.', '#', '.', '#'],\n",
    "        ['#', '#', '.', '.', '#', '#', '.', '.', '.', '#'],\n",
    "        ['#', '#', '.', '#', '#', '#', '#', '#', '.', '.'],\n",
    "        ['@', '.', '.', '#', '#', '#', '#', '#', '#', '#']]\n",
    "\n",
    "MONSTER_NAMES = ['Big HSE Guy', 'Combination of Permutation', 'None', 'Lord of Variables', 'Rick Decart']\n",
    "\n",
    "MONSTER_IMAGE = \"\"\"\n",
    "                 ||\n",
    "                 ||\n",
    "   ____ (((+))) _||_\n",
    "  /.--.\\  .-.  /.||.\n",
    "  /.,   \\(0.0)// ||\n",
    " /;`\";/\\ \\|m|//  ||  ;\n",
    "|:   \\ \\__`:`____||__:|\n",
    "|:    \\__ \\T/ (@~)(~@)|\n",
    "|:    _/|     |\\_\\/  :|\n",
    "|:   /  |     |  \\   :|\n",
    "|'  /   |     |   \\  '|\n",
    " \\_/    |     |    \\_/\n",
    "        |     |\n",
    "        |_____|\n",
    "        |_____|\n",
    "\"\"\"\n",
    "\n",
    "EIGHT_DIRECTIONS = [(-1, 0), (-1, 1), (0, 1), (1, 1), (1, 0), (1, -1), (0, -1), (-1, -1)]"
   ]
  },
  {
   "cell_type": "markdown",
   "metadata": {},
   "source": [
    "Here, we define some of our constants:\n",
    "- WEAPONS: in this dictionary, I've defined weapons stats (level stat is deprecated)\n",
    "- WEAPONS_ICONS: dictionary of ASCII art of weapons, that are showed in inventory screen\n",
    "- GRID_SYMBOLS: symbols, used to define key items: **'/' - knife, '+' - sword, 'c' - axe, 'k' - key**\n",
    "- MOVE_COMMANDS: symbols of moves, associated to move tuple, on grid: **'w' - up, 's' - down, 'a' - left, 'd' - right**\n",
    "- GRID: predefined dungeon, that can be used. As you can see, '.' symbol shows where player **can walk**, '#' - **wall**, '@' - **player positions**, 'x' - **exit**\n",
    "- MONSTER_NAMES: some names, for the monsters you'd meet (choosed randomly)\n",
    "- MONSTER_IMAGE: ASCII art of monster, used in the games\n",
    "- EIGHT_DIRECTIONS: directions, used to go on grid array for making visible cells on distance of 1 cell"
   ]
  },
  {
   "cell_type": "markdown",
   "metadata": {},
   "source": [
    "The main goal of the game, is to find key(**'k'**) and find the exit(**'x'**). On your way, you can collect different weapons and meet monsters, which you have to fight!"
   ]
  },
  {
   "cell_type": "code",
   "execution_count": 4,
   "metadata": {},
   "outputs": [],
   "source": [
    "class Grid:\n",
    "    def __init__(self, width, height, monsters_number=3):\n",
    "        self.grid = [[None for _ in range(width)] for _ in range(height)]\n",
    "        self.width = width\n",
    "        self.height = height\n",
    "        self.start_coordinates = []\n",
    "        self.end_coordinates = []\n",
    "        self.monsters_number = monsters_number\n",
    "        self.monsters = []\n",
    "        self.path_cells = []\n",
    "\n",
    "    def draw_grid(self):\n",
    "        cls()\n",
    "        for x in range(self.width):\n",
    "            for y in range(self.height):\n",
    "                print('%%-%ds' % 2 % self.grid[x][y][0], end='') if self.grid[x][y][1] else \\\n",
    "                    print('%%-%ds' % 2 % '.', end='')\n",
    "            print()\n",
    "\n",
    "    def get_allowed_cells(self):\n",
    "        return_list = []\n",
    "        for row in range(len(self.grid)):\n",
    "            for col in range(len(self.grid[0])):\n",
    "                if self.grid[row][col][0] == '.':\n",
    "                    return_list.append([row, col])\n",
    "        return return_list\n",
    "\n",
    "    def set_predefined_grid(self, grid):\n",
    "        self.grid = [[(grid[row][col], 0) for col in range(len(grid[0]))] for row in range(len(grid))]\n",
    "        for row in range(len(self.grid)):\n",
    "            for col in range(len(self.grid[0])):\n",
    "                if grid[row][col][0] == 'x':\n",
    "                    self.end_coordinates = [row, col]\n",
    "                elif grid[row][col][0] == '@':\n",
    "                    self.start_coordinates = [row, col]\n",
    "\n",
    "    def place_items(self, items):\n",
    "        allowed_cells = self.get_allowed_cells()\n",
    "        for item in items:\n",
    "            choosed_cell = random.choice(allowed_cells)\n",
    "            allowed_cells.remove(choosed_cell)\n",
    "            item.set_coordinates(choosed_cell)\n",
    "            self.grid[choosed_cell[0]][choosed_cell[1]] = [item.get_symbol(), 0]\n",
    "\n",
    "    def place_monsters(self):\n",
    "        allowed_cells = self.get_allowed_cells()\n",
    "        for _ in range(self.monsters_number):\n",
    "            new_monster = Entity(name=random.choice(MONSTER_NAMES),\n",
    "                                 coordinates=random.choice(allowed_cells),\n",
    "                                 hitpoints=random.choice(range(10, 31)),\n",
    "                                 attack=random.choice(range(1, 4)),\n",
    "                                 defence=random.choice(range(1, 5)))\n",
    "            allowed_cells.remove(new_monster.get_coordinates())\n",
    "            new_monster.add_weapon(Weapon('monster_weapon'))\n",
    "            self.monsters.append(new_monster)\n",
    "\n",
    "    def isValid(self, row, col):\n",
    "        return 0 <= row < len(self.grid) and 0 <= col < len(self.grid[0])\n",
    "\n",
    "    def random_generator(self):\n",
    "        \"\"\"\n",
    "        In the final step, I thought about, maybe some potential player\n",
    "        wants to play some random levels, with own size of it\n",
    "        So, my idea, is that we can build random walls with p = 1/2 (or less)\n",
    "        and on ready example see, that there is existing path between start and finish\n",
    "        I've thinking about DFS ot BFS attempt on this, but actually 've used DFS\n",
    "        :return:\n",
    "        \"\"\"\n",
    "        for row in range(self.height):\n",
    "            for col in range(self.width):\n",
    "                if random.random() < 0.8:\n",
    "                    self.grid[row][col] = ['.', 0]\n",
    "                else:\n",
    "                    self.grid[row][col] = [\"#\", 0]\n",
    "\n",
    "        allowed_cells = self.get_allowed_cells()\n",
    "        self.start_coordinates = random.choice(allowed_cells)\n",
    "        self.grid[self.start_coordinates[0]][self.start_coordinates[1]] = ['@', 0]\n",
    "\n",
    "        allowed_cells.remove(self.start_coordinates)\n",
    "        self.end_coordinates = random.choice(allowed_cells)\n",
    "        self.grid[self.end_coordinates[0]][self.end_coordinates[1]] = ['x', 0]\n",
    "        allowed_cells.remove(self.end_coordinates)\n",
    "\n",
    "        queue = [self.start_coordinates]\n",
    "        visited_grid = [[0 for _ in range(self.width)] for _ in range(self.height)]\n",
    "        path_found = False\n",
    "        while queue:\n",
    "            cell = queue.pop()\n",
    "            self.path_cells.append(cell)\n",
    "            if cell == self.end_coordinates:\n",
    "                print('Grid generated\\n')\n",
    "                input('Press Enter to continue... ')\n",
    "                path_found = True\n",
    "            for x, y in (0, 1), (1, 0), (0, -1), (-1, 0):\n",
    "                if self.isValid(new_x := self.start_coordinates[0] + x, new_y := self.start_coordinates[1] + y) and \\\n",
    "                        not visited_grid[new_x][new_y] and self.grid[row][col][0] != '#':\n",
    "                    queue.append([new_x, new_y])\n",
    "                    visited_grid[new_x][new_y] = 1\n",
    "        print('Re-generating grid\\nPlease wait...')\n",
    "        if not path_found:\n",
    "            self.path_cells = []\n",
    "            self.random_generator()\n",
    "\n",
    "    def update_player(self, direction, new_coordinates):\n",
    "        self.grid[new_coordinates[0] - direction[0]][new_coordinates[1] - direction[1]] = ['.', 1]\n",
    "        self.grid[new_coordinates[0]][new_coordinates[1]] = ['@', 1]\n",
    "\n",
    "    def get_element_symbol(self, coordinates):\n",
    "        return self.grid[coordinates[0]][coordinates[1]][0]\n",
    "\n",
    "    def get_monsters_list(self):\n",
    "        return self.monsters\n",
    "\n",
    "    def remove_monster(self, monster):\n",
    "        self.monsters.remove(monster)\n",
    "\n",
    "    def get_start_coordinates(self):\n",
    "        return self.start_coordinates\n",
    "\n",
    "    def make_cells_visible(self, player_coordinates):\n",
    "        for x, y in EIGHT_DIRECTIONS:\n",
    "            if self.isValid(new_x := player_coordinates[0] + x, new_y := player_coordinates[1] + y):\n",
    "                self.grid[new_x][new_y][1] = 1\n"
   ]
  },
  {
   "cell_type": "markdown",
   "metadata": {},
   "source": [
    "Up here, is the Grid object, which is used to store and display cells (walls, items, e.g.)\n",
    "This object have fields with *width, height of game board; start and end coordinates, number of monsters, list of monster objects and cells, we can use, to move player\n",
    "As, we can see, this grid can be generated randomly (using *random_generator()*), but we can pre-define shape of game board. Actually game board tracks coordinates of items, player and monsters, and use *draw_grid()* method to draw it as console output\n",
    "For better understanding of code, I've tried to use principle, where each variable and function have clear name, so that the functionality of it is clear (only docstring is random_generator, because of BFS algo)"
   ]
  },
  {
   "cell_type": "code",
   "execution_count": 5,
   "metadata": {},
   "outputs": [],
   "source": [
    "class Entity:\n",
    "    def __init__(self, name, coordinates, hitpoints, attack=3, defence=1):\n",
    "        self.name = name\n",
    "        self.level = 1\n",
    "        self.inventory = []\n",
    "        self.hitpoints = hitpoints\n",
    "        self.current_weapon = 0\n",
    "        self.attack, self.defence = attack, defence\n",
    "        self.coordinates = coordinates\n",
    "\n",
    "    def base_attack(self):\n",
    "        return round(random.uniform(0.7, 2) * (self.attack + self.inventory[self.current_weapon].base_attack()))\n",
    "\n",
    "    def attack_entity(self, entity):\n",
    "        entity.hitpoints -= self.base_attack()\n",
    "\n",
    "    def get_coordinates(self):\n",
    "        return self.coordinates\n",
    "\n",
    "    def add_weapon(self, weapon):\n",
    "        self.inventory.append(weapon)\n",
    "\n",
    "    def get_hit(self, hit):\n",
    "        self.hitpoints -= (hit - self.defence) if hit - self.defence >= 0 else self.hitpoints\n",
    "\n",
    "    def get_defence(self):\n",
    "        return self.defence\n",
    "\n",
    "    def get_health(self):\n",
    "        return self.hitpoints\n",
    "\n",
    "    def levelup(self):\n",
    "        self.level += 1\n",
    "\n",
    "    def get_name(self):\n",
    "        return self.name"
   ]
  },
  {
   "cell_type": "markdown",
   "metadata": {},
   "source": [
    "**Entity** class defines base fields and methods of 2 base creatures: *monsters and player*\n",
    "Here, we track self coordinates, health, inventory and current weapon, and also perform hit on entity and attack of entity to other entity\n",
    "Memorable here is *base_attack()* method, which counts attack points of entity, based on self attack parameter plus weapon attack parameter with some random effect (perhaps your first kick weaker that second)"
   ]
  },
  {
   "cell_type": "code",
   "execution_count": 6,
   "metadata": {},
   "outputs": [],
   "source": [
    "class Player(Entity):\n",
    "    def move(self, direction):\n",
    "        self.coordinates[0] += direction[0]\n",
    "        self.coordinates[1] += direction[1]\n",
    "\n",
    "    def collect_item(self, item):\n",
    "        self.inventory.append(item)\n",
    "\n",
    "    def select_weapon(self):\n",
    "        self.current_weapon = (1 + self.current_weapon) % len(self.inventory)\n",
    "        if self.inventory[self.current_weapon].get_name() == 'key':\n",
    "            self.select_weapon()\n",
    "\n",
    "    def draw_inventory(self):\n",
    "        print()\n",
    "        for item_index in range(len(self.inventory)):\n",
    "            if (weapon_name := self.inventory[item_index].get_name()) != 'key':\n",
    "                if self.current_weapon == item_index:\n",
    "                    marker = len(WEAPONS_ICONS[weapon_name]) // 2\n",
    "                    for line_index in range(len(weapon_icon := WEAPONS_ICONS[weapon_name])):\n",
    "                        if line_index == marker:\n",
    "                            print(weapon_icon[line_index], '    ', '<<<')\n",
    "                        else:\n",
    "                            print(weapon_icon[line_index])\n",
    "                else:\n",
    "                    for line in WEAPONS_ICONS[weapon_name]:\n",
    "                        print(line)\n",
    "            print()\n",
    "\n",
    "    def has_key(self):\n",
    "        for item in self.inventory:\n",
    "            if item.get_symbol() == GRID_SYMBOLS['key']:\n",
    "                return True"
   ]
  },
  {
   "cell_type": "markdown",
   "metadata": {},
   "source": [
    "**Player** class if one of examples, of object *inheritance*. For out class Player, we can grab what we have for all entities and extend it with own methods, which are used to select item in inventory, drawing this inventory in fight phase and collecting items, when proceed on grid."
   ]
  },
  {
   "cell_type": "code",
   "execution_count": 7,
   "metadata": {},
   "outputs": [],
   "source": [
    "class Item:\n",
    "    def __init__(self, name):\n",
    "        self.coordinates = []\n",
    "        self.name = name\n",
    "\n",
    "    def set_coordinates(self, coordinates):\n",
    "        self.coordinates = coordinates\n",
    "\n",
    "    def get_symbol(self):\n",
    "        return GRID_SYMBOLS[self.name]\n",
    "\n",
    "    def get_coordinates(self):\n",
    "        return self.coordinates\n",
    "\n",
    "    def get_name(self):\n",
    "        return self.name"
   ]
  },
  {
   "cell_type": "markdown",
   "metadata": {},
   "source": [
    "**Item** class is representing item objects in game. It contains self coordinates, name of item and some service methods, used to get or set data of object."
   ]
  },
  {
   "cell_type": "code",
   "execution_count": 8,
   "metadata": {},
   "outputs": [],
   "source": [
    "class Weapon(Item):\n",
    "    def __init__(self, weapon_name):\n",
    "        self.name = weapon_name\n",
    "        self.attack = WEAPONS[weapon_name]['attack']\n",
    "        self.level = WEAPONS[weapon_name]['level']\n",
    "\n",
    "    def base_attack(self):\n",
    "        return self.attack\n",
    "\n",
    "    def required_level(self):\n",
    "        return self.required_level()\n",
    "\n",
    "    def get_name(self):\n",
    "        return self.name\n",
    "\n",
    "    def get_icon(self):\n",
    "        return WEAPONS_ICONS[self.name]"
   ]
  },
  {
   "cell_type": "markdown",
   "metadata": {},
   "source": [
    "**Weapon** class is another one of class inheritance example. Basically, we can assume that weapon is an Item too, but we need some additional fields, like *attack* and *level* parameters. Different from Item class here is *get_icon* method, which used to get symbol representation, which after used to draw on game board."
   ]
  },
  {
   "cell_type": "code",
   "execution_count": 9,
   "metadata": {},
   "outputs": [],
   "source": [
    "class Fight:\n",
    "    def __init__(self, monster, player):\n",
    "        self.monster = monster\n",
    "        self.player = player\n",
    "\n",
    "    def monster_attack(self):\n",
    "        attack_monster = self.monster.base_attack()\n",
    "        self.player.get_hit(attack_monster)\n",
    "        return attack_monster\n",
    "\n",
    "    def player_attack(self):\n",
    "        player_attack = self.player.base_attack()\n",
    "        self.monster.get_hit(player_attack)\n",
    "        return player_attack\n",
    "\n",
    "    def draw_monster_and_inventory(self):\n",
    "        cls()\n",
    "        print(self.monster.get_name())\n",
    "        print(MONSTER_IMAGE)\n",
    "        print()\n",
    "        print(\"'a' - Attack, 'c' - Change weapon\")\n",
    "        print()\n",
    "        print('Monster HP: ', self.monster.hitpoints)\n",
    "        print()\n",
    "        print(\"Player's HP\", self.player.hitpoints)\n",
    "        self.player.draw_inventory()\n",
    "\n",
    "    def draw_damage(self, player_damage, monster_damage):\n",
    "        self.draw_monster_and_inventory()\n",
    "        print()\n",
    "        print('Your damage:', player_damage)\n",
    "        print()\n",
    "        print('Monster damage:', monster_damage)"
   ]
  },
  {
   "cell_type": "markdown",
   "metadata": {},
   "source": [
    "**Fight** class defines the process of fight between 2 entities (player, monster). This object recieves *player*, and *monster* objects, to make method calls, to perform d fight process (player_attack, monster_attack) and to correctly draw fight process(monster name, image, entities health, players inventory, damage to each other)"
   ]
  },
  {
   "cell_type": "code",
   "execution_count": 10,
   "metadata": {},
   "outputs": [],
   "source": [
    "def check_player_item(player_position, items):\n",
    "    for item in items:\n",
    "        if item.get_coordinates() == player_position:\n",
    "            return item\n",
    "        else:\n",
    "            continue\n",
    "\n",
    "\n",
    "def check_player_monster(player, monsters, grid):\n",
    "    for monster in monsters:\n",
    "        if monster.get_coordinates() == player.get_coordinates():\n",
    "            fight_handler(player, monster, grid)\n",
    "            break"
   ]
  },
  {
   "cell_type": "markdown",
   "metadata": {},
   "source": [
    "After that, I've defined a few functions, which helps during the game process:\n",
    "- *check_player_item*: checks, if player and item on the same position\n",
    "- *check_player_monster*: checks, if player and monster on the same position"
   ]
  },
  {
   "cell_type": "code",
   "execution_count": 11,
   "metadata": {},
   "outputs": [],
   "source": [
    "def fight_handler(player, monster, grid):\n",
    "    fight = Fight(monster, player)\n",
    "    fight.draw_monster_and_inventory()\n",
    "    while 1:\n",
    "        player_choice = input('Enter command: ')\n",
    "        if player_choice == 'a':\n",
    "            player_attack = fight.player_attack()\n",
    "            if monster.get_health() <= 0:\n",
    "                print('Monster is defeated!\\nLevel Up!')\n",
    "                grid.remove_monster(monster)\n",
    "                input('Press Enter to continue: ')\n",
    "                return\n",
    "            monster_attack = fight.monster_attack()\n",
    "            fight.draw_damage(player_attack, monster_attack)\n",
    "            if player.get_health() <= 0:\n",
    "                print('Game Over!')\n",
    "                input('Press Enter to restart: ')\n",
    "                game_start()\n",
    "        elif player_choice == 'c':\n",
    "            player.select_weapon()\n",
    "            fight.draw_monster_and_inventory()\n",
    "        else:\n",
    "            print('\\nWrong command!')\n",
    "            fight.draw_monster_and_inventory()"
   ]
  },
  {
   "cell_type": "markdown",
   "metadata": {},
   "source": [
    "*fight_handler()* function is one of flow control main functions, which is actually using objects methods, performing infinite while loop, to phase of fight, bewteen 2 entities (the condition of stop) is victory of player (monster health < 0) or victory of monster (player health < 0)"
   ]
  },
  {
   "cell_type": "code",
   "execution_count": 12,
   "metadata": {},
   "outputs": [],
   "source": [
    "def game_handler(player, grid, items):\n",
    "    while 1:\n",
    "        grid.make_cells_visible(player.get_coordinates())\n",
    "        grid.draw_grid()\n",
    "        player_choise = input('Enter your move: ')\n",
    "        if player_choise in MOVE_COMMANDS.keys() and \\\n",
    "                is_allowed_move(grid, (MOVE_COMMANDS[player_choise][0] + player.get_coordinates()[0],\n",
    "                                       MOVE_COMMANDS[player_choise][1] + player.get_coordinates()[1])):\n",
    "            player.move(MOVE_COMMANDS[player_choise])\n",
    "            if player.get_coordinates() == list(grid.end_coordinates):\n",
    "                if player.has_key():\n",
    "                    cls()\n",
    "                    print(\"Congratulations! You've completed demo dungeon\")\n",
    "                    return\n",
    "                else:\n",
    "                    player.move((-MOVE_COMMANDS[player_choise][0], -MOVE_COMMANDS[player_choise][1]))\n",
    "                    print('No key')\n",
    "                    continue\n",
    "            grid.update_player(MOVE_COMMANDS[player_choise], player.get_coordinates())\n",
    "            if item := check_player_item(player.get_coordinates(), items):\n",
    "                player.add_weapon(item)\n",
    "            check_player_monster(player, grid.get_monsters_list(), grid)\n",
    "            grid.draw_grid()\n",
    "        else:\n",
    "            grid.draw_grid()\n",
    "            print('Wrong move')\n",
    "            continue"
   ]
  },
  {
   "cell_type": "markdown",
   "metadata": {},
   "source": [
    "*game_handler()* too, one of the main functions. This func controls game board, player movement, ability to pickup items and start a fight phase, when **player** meets **monster**. It also build with infinite loop, where condition of exiting is to make to the exit of the dungeon (with key in inventory)"
   ]
  },
  {
   "cell_type": "code",
   "execution_count": 13,
   "metadata": {},
   "outputs": [],
   "source": [
    "def game_start():\n",
    "    game_board = Grid(10, 10)\n",
    "    game_board.random_generator()\n",
    "    player = Player('retroider', game_board.get_start_coordinates(), 30, attack=1, defence=2)\n",
    "    game_board.update_player(player.coordinates, player.coordinates)\n",
    "    game_items = [Weapon('knife'), Weapon('sword'), Weapon('axe'), Item('key')]\n",
    "    game_board.place_items(game_items)\n",
    "    player.add_weapon(Weapon('fists'))\n",
    "    game_board.place_monsters()\n",
    "    game_handler(player, game_board, game_items)\n",
    "    print('Game Over!')\n",
    "    return"
   ]
  },
  {
   "cell_type": "markdown",
   "metadata": {},
   "source": [
    "*game_start()* function initializes game, for launch. It creates objects from classes (Grid, Weapon, Player, Entity), sets basic parameters, uses **Grid.random_generator** to build random dungeons and executes *game_handler*."
   ]
  },
  {
   "cell_type": "code",
   "execution_count": 14,
   "metadata": {},
   "outputs": [],
   "source": [
    "def is_allowed_move(grid, new_coord):\n",
    "    return 0 <= new_coord[0] < grid.width and 0 <= new_coord[1] < grid.height and grid.get_element_symbol(\n",
    "        new_coord) != '#'"
   ]
  },
  {
   "cell_type": "markdown",
   "metadata": {},
   "source": [
    "And the last function in *is_allowed_move*. It basically checks, if player can make new move on the set game board and don't move away from board."
   ]
  },
  {
   "cell_type": "markdown",
   "metadata": {},
   "source": [
    "So, to execute overall code, we just call *game_start*"
   ]
  },
  {
   "cell_type": "code",
   "execution_count": null,
   "metadata": {},
   "outputs": [
    {
     "name": "stdout",
     "output_type": "stream",
     "text": [
      ". . . . . # . . . . \n",
      ". . . . # . . . . . \n",
      ". . . . . . @ . . . \n",
      ". . . . # . . . . . \n",
      ". . . . . . . . . . \n",
      ". . . # . # . . . . \n",
      ". . . x . . . . . . \n",
      ". . . . . . . . . . \n",
      ". . . . . . . . . . \n",
      ". . . . . . . . . . \n"
     ]
    }
   ],
   "source": [
    "game_start()"
   ]
  },
  {
   "cell_type": "markdown",
   "metadata": {},
   "source": [
    "wQuick note: honestly, to get a prefect code, I must use prefixes to fields of classes, to declare, that these fields and some of methods not public and must be used only from public methods of object, but I've forgot to do that, so it will be fairm if I lose some pts for this\n",
    "P.S. Writing this at last, because this was implemented in last order. With method *Grid.make_cells_visible*, cells will become visible, if player is on distance with one cell (closest cells), so '.' symbol shows path, where ypu can go and cells, which are hidden from the player (I just didn't find better way to do it)"
   ]
  }
 ],
 "metadata": {
  "kernelspec": {
   "display_name": "Python 3 (ipykernel)",
   "language": "python",
   "name": "python3"
  },
  "language_info": {
   "codemirror_mode": {
    "name": "ipython",
    "version": 3
   },
   "file_extension": ".py",
   "mimetype": "text/x-python",
   "name": "python",
   "nbconvert_exporter": "python",
   "pygments_lexer": "ipython3",
   "version": "3.10.6"
  }
 },
 "nbformat": 4,
 "nbformat_minor": 1
}
