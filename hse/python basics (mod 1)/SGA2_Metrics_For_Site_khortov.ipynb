{
 "cells": [
  {
   "cell_type": "markdown",
   "metadata": {
    "pycharm": {
     "name": "#%% md\n"
    }
   },
   "source": [
    "# Metrics for site\n",
    "**Hello!**\n",
    "This my second assigment on the Python basic module."
   ]
  },
  {
   "cell_type": "markdown",
   "metadata": {
    "pycharm": {
     "name": "#%% md\n"
    }
   },
   "source": [
    "As we, in our task, need to provide abstract functions, which have to calculate our metrics parameters, let's begin!)"
   ]
  },
  {
   "cell_type": "markdown",
   "metadata": {
    "pycharm": {
     "name": "#%% md\n"
    }
   },
   "source": [
    "## Click-Through Rate (CTR)\n",
    "This function should calculate CTR by this simple formula:\n",
    "*CTR = [Total Measured Clicks / Total Measured Ad Impressions] X 100*\n",
    "So, as arguments our function as an argument, our function receives 2 positional arguments: _total_clicks_, _total_measured_ads_:"
   ]
  },
  {
   "cell_type": "code",
   "execution_count": 22,
   "metadata": {
    "pycharm": {
     "name": "#%%\n"
    }
   },
   "outputs": [],
   "source": [
    "def ctr(total_clicks: int, total_measured_ads: int) -> float:\n",
    "    \"\"\"\n",
    "    :param total_clicks: int, total measured clicks\n",
    "    :param total_measured_ads: int, total measured ad impressions\n",
    "    :return: float, click-trough rate (CTR) (percent)\n",
    "    \"\"\"\n",
    "    if total_measured_ads:\n",
    "        return total_clicks / total_measured_ads * 100\n",
    "    raise ValueError(\"Total measured ads can't be zero\")"
   ]
  },
  {
   "cell_type": "markdown",
   "metadata": {
    "pycharm": {
     "name": "#%% md\n"
    }
   },
   "source": [
    "For all functions, we assume that input is **correct** (right data type)"
   ]
  },
  {
   "cell_type": "markdown",
   "metadata": {
    "pycharm": {
     "name": "#%% md\n"
    }
   },
   "source": [
    "## Return on Investment (ROI)\n",
    "This function should calculate ROI (return of invested money), by calculating the relation between amount of gained money (_amount_gained_) and amount spent (_amount_spent_) in cents:\n",
    "*ROI = [(Amount Gained – Amount Spent) / Amount Spent] X 100*"
   ]
  },
  {
   "cell_type": "code",
   "execution_count": 23,
   "metadata": {
    "pycharm": {
     "name": "#%%\n"
    }
   },
   "outputs": [],
   "source": [
    "def roi(amount_gained: int, amount_spent: int) -> float:\n",
    "    \"\"\"\n",
    "    :param amount_gained: int, money gained (cents)\n",
    "    :param amount_spent: int, money spent (cents)\n",
    "    :return: float, return on investment (ROI) (percents)\n",
    "    \"\"\"\n",
    "    if amount_spent != 0:\n",
    "        return (amount_gained - amount_spent) / amount_spent * 100\n",
    "    raise ValueError(\"Amount spent can't be zero\")"
   ]
  },
  {
   "cell_type": "markdown",
   "metadata": {
    "pycharm": {
     "name": "#%% md\n"
    }
   },
   "source": [
    "## Average Page Time\n",
    "Average time, spent by user on page is calculated as a sum of total time (_user_time_) in seconds divided by number of users:\n",
    "*APT = [Σ(Time Spent on a Page by a User) / Number of Users]*"
   ]
  },
  {
   "cell_type": "code",
   "execution_count": 24,
   "metadata": {
    "pycharm": {
     "name": "#%%\n"
    }
   },
   "outputs": [],
   "source": [
    "def apt(user_time: list[int]) -> float:\n",
    "    \"\"\"\n",
    "    :param user_time: list[int], list of all user time, spent on site\n",
    "    :return: average page time (APT) (seconds)\n",
    "    \"\"\"\n",
    "    if user_time and type(user_time) is list:\n",
    "        return sum(user_time) / len(user_time) * 100\n",
    "    raise ValueError(\"User time can't be zero, or it must be a list\")"
   ]
  },
  {
   "cell_type": "markdown",
   "metadata": {
    "pycharm": {
     "name": "#%% md\n"
    }
   },
   "source": [
    "## Customer Lifetime Value (CLV)\n",
    "This coefficient shows amount of money, that customer expected to spend in your business, during average lifetime relationship.\n",
    "For this coefficient, we can assume, that we have not straight data, but data in more raw format\n",
    "Consider, that we have our data in this type: **Total sum of purchases** (*total_sum: int, cents*), **Number of purchases** (*purchases_num, int*), **Number of unique customers** (*costumers_num, int*) and **Average Customer Lifespan** (*lifespan_avg: int, year*)\n",
    "First, we need to count **Average Purcahse Value = Total sum of purchases / Number of Purchases**, and **Average Purchase Frequency = Number of Purchases / Number of unique Customers**\n",
    "We can separate these APV and APF calculation to 2 functions, for (possible :)) future use"
   ]
  },
  {
   "cell_type": "code",
   "execution_count": 25,
   "metadata": {
    "pycharm": {
     "name": "#%%\n"
    }
   },
   "outputs": [],
   "source": [
    "def apv(total_sum: int, purchases_num: int) -> float:\n",
    "    \"\"\"\n",
    "    :param total_sum: int, sum of all purchases\n",
    "    :param purchases_num: int, number of purchases\n",
    "    :return: float, average purchase value\n",
    "    \"\"\"\n",
    "    if purchases_num != 0:\n",
    "        return total_sum / purchases_num\n",
    "    else:\n",
    "        raise ValueError(\"Number of purchases can't be zero\")\n",
    "\n",
    "def apf(purchases_num: int, costumers_num: int) -> float:\n",
    "    \"\"\"\n",
    "    :param purchases_num: int, number of purchases\n",
    "    :param costumers_num: int, number of unique customers\n",
    "    :return: float, average purchase frequency\n",
    "    \"\"\"\n",
    "    if costumers_num != 0:\n",
    "        return purchases_num / costumers_num\n",
    "    else:\n",
    "        raise ValueError(\"Number of customers can't be zero\")\n"
   ]
  },
  {
   "cell_type": "markdown",
   "metadata": {
    "pycharm": {
     "name": "#%% md\n"
    }
   },
   "source": [
    "After that, we can calculate Custumer Life Value: **CLV = Average Purchase Value * Average Purchase Frequency * Average Customer Lifespan**"
   ]
  },
  {
   "cell_type": "code",
   "execution_count": 26,
   "metadata": {
    "pycharm": {
     "name": "#%%\n"
    }
   },
   "outputs": [],
   "source": [
    "def clv(total_sum: int, purchases_num: int, costumers_num: int, lifespan_avg: int) -> float:\n",
    "    \"\"\"\n",
    "    :param lifespan_avg: int, average lifespan of customer\n",
    "    :return: float, custumer life value\n",
    "    \"\"\"\n",
    "    return apv(total_sum, purchases_num) * apf(purchases_num, costumers_num) * lifespan_avg"
   ]
  },
  {
   "cell_type": "markdown",
   "metadata": {
    "pycharm": {
     "name": "#%% md\n"
    }
   },
   "source": [
    "## Conversion Rate (CR)\n",
    "The conversion rate is a coefficient, which shows percentage of users, that complete a desired goal:\n",
    "**CR = (Total Attributed Conversion / Total Measured Clicks) X 100**, **Total Attributed conversion** (*total_conversion: int, num of conversions*)"
   ]
  },
  {
   "cell_type": "code",
   "execution_count": 27,
   "metadata": {
    "pycharm": {
     "name": "#%%\n"
    }
   },
   "outputs": [],
   "source": [
    "def cr(total_conversion: int, total_clicks: int) -> float:\n",
    "    \"\"\"\n",
    "    :param total_conversion: int, number of conversions\n",
    "    :return: float, percents\n",
    "    \"\"\"\n",
    "    if total_clicks:\n",
    "        return total_conversion / total_clicks\n",
    "    raise ValueError(\"Total number of clicks can't be zero\")"
   ]
  },
  {
   "cell_type": "markdown",
   "source": [
    "For the next part of the task, I've chosed 3 more metrics:\n",
    "1. Loyal Customer Rate\n",
    "2. Monthly Recurring Revenue\n",
    "3. Churn rate\n",
    "https://www.proprofschat.com/blog/customer-success-metrics/#7_LTVCAC_Ratio"
   ],
   "metadata": {
    "collapsed": false,
    "pycharm": {
     "name": "#%% md\n"
    }
   }
  },
  {
   "cell_type": "markdown",
   "source": [
    "## Loyal Customer Rate\n",
    "Loyal customer rate simply shows, how many customers come back, from all customers\n",
    "To count this, you need to receive **Number of Repeat Customers** (*repeat_custm_num: int, number of repeat customers* and **Number of Total Customers** (*custm_total: int, total number of customers*)\n",
    "*LCR* = **Number of Repeat Customers** X **Number of Total Customers**"
   ],
   "metadata": {
    "collapsed": false,
    "pycharm": {
     "name": "#%% md\n"
    }
   }
  },
  {
   "cell_type": "code",
   "execution_count": 28,
   "outputs": [],
   "source": [
    "def ltc(repeat_custm_num: int, custm_num: int) -> float:\n",
    "    \"\"\"\n",
    "    :param repeat_custm_num: int, repeat customers\n",
    "    :param custm_num: int, all customers\n",
    "    :return: float, repeat customers coeff\n",
    "    \"\"\"\n",
    "    if custm_num:\n",
    "        return repeat_custm_num / custm_num\n",
    "    raise ValueError(\"Number of all customers can't be zero\")"
   ],
   "metadata": {
    "collapsed": false,
    "pycharm": {
     "name": "#%%\n"
    }
   }
  },
  {
   "cell_type": "markdown",
   "source": [
    "## Monthly Recurring Revenue\n",
    "This metrics helps to keep track of monthly revenue, by tracking increasing an average bill on the number of customers\n",
    "The formula is simple: *MRR* = **Number of Total Customers** (*custm_total: int, total number of customers*) X **Average Bill Amount** (*avg_bill: int, cents*)"
   ],
   "metadata": {
    "collapsed": false,
    "pycharm": {
     "name": "#%% md\n"
    }
   }
  },
  {
   "cell_type": "code",
   "execution_count": 29,
   "outputs": [],
   "source": [
    "def mrr(custm_total: int, avg_bill: int) -> float:\n",
    "    \"\"\"\n",
    "    :param avg_bill: int, average bill (cents)\n",
    "    :return: float, rate of revenue growth\n",
    "    \"\"\"\n",
    "    return custm_total * avg_bill"
   ],
   "metadata": {
    "collapsed": false,
    "pycharm": {
     "name": "#%%\n"
    }
   }
  },
  {
   "cell_type": "markdown",
   "source": [
    "## Churn Rate\n",
    "This last one, shows, percentage of users which end using your product\n",
    "*CRR* = (**Users at the start of period** (*start_users: int*) - **Users at the end of period** (*end_users: int*) / **Users at the start of period** X 100"
   ],
   "metadata": {
    "collapsed": false,
    "pycharm": {
     "name": "#%% md\n"
    }
   }
  },
  {
   "cell_type": "code",
   "execution_count": 30,
   "outputs": [],
   "source": [
    "def crr(start_users: int, end_users: int) -> float:\n",
    "    \"\"\"\n",
    "    :param start_users: int, number of users at the start of the period\n",
    "    :param end_users: int, number of users at the end of the period\n",
    "    :return: float, CRR in percents\n",
    "    \"\"\"\n",
    "    if start_users:\n",
    "        return (start_users - end_users) / start_users * 100\n",
    "    raise ValueError(\"Number of start users can't be zero\")"
   ],
   "metadata": {
    "collapsed": false,
    "pycharm": {
     "name": "#%%\n"
    }
   }
  },
  {
   "cell_type": "markdown",
   "source": [
    "To show, that our fuctions works correctly, we can use *stdin input()* to enter our values and print them in stdout, in some form:"
   ],
   "metadata": {
    "collapsed": false,
    "pycharm": {
     "name": "#%% md\n"
    }
   }
  },
  {
   "cell_type": "code",
   "execution_count": null,
   "outputs": [],
   "source": [
    "def count_check():\n",
    "    result_dict = {}\n",
    "    result_dict['CTR'] = round(ctr(total_clicks := int(input('Total clicks: ')), int(input('Total measured ads: '))), 2)\n",
    "    result_dict['ROI'] = round(roi(int(input('Amount gained: ')), int(input('Amount spent: '))), 2)\n",
    "    list_of_time = []\n",
    "    for num in range(int(input('Number of users: '))):\n",
    "        list_of_time.append(int(input('Enter', num, 'User Time: ')))\n",
    "    result_dict['APT'] = round(apt(list_of_time, 2))\n",
    "    result_dict['CLV'] = round(int(input('Total Sum of Purchaces')), int(input('Number of Purchases')), int(input('Number of Customers')), int(input('Average lifespan: ')), 2)\n",
    "    result_dict['CR'] = round(cr(int('Total Conversion')), total_clicks)\n",
    "    result_dict['LTC'] = round(ltc(int(input('Number of Repeated Customers')), total_customers := int(input('Total Number of Customers'))), 2)\n",
    "    result_dict['MRR'] = round(mrr(int(input('')), total_customers), 2)\n",
    "    result_dict['CRR'] = round(crr(int(input('Number of users in begining')), int(input('Number of users at the end'))), 2)\n",
    "\n",
    "    index = 1\n",
    "    for key, value in enumerate(result_dict):\n",
    "        print(index, \".\", key, ':', value)\n",
    "\n",
    "count_check()"
   ],
   "metadata": {
    "collapsed": false,
    "pycharm": {
     "name": "#%%\n",
     "is_executing": true
    }
   }
  },
  {
   "cell_type": "markdown",
   "metadata": {
    "pycharm": {
     "name": "#%% md\n"
    }
   },
   "source": []
  }
 ],
 "metadata": {
  "kernelspec": {
   "display_name": "Python 3 (ipykernel)",
   "language": "python",
   "name": "python3"
  },
  "language_info": {
   "codemirror_mode": {
    "name": "ipython",
    "version": 3
   },
   "file_extension": ".py",
   "mimetype": "text/x-python",
   "name": "python",
   "nbconvert_exporter": "python",
   "pygments_lexer": "ipython3",
   "version": "3.10.6"
  }
 },
 "nbformat": 4,
 "nbformat_minor": 1
}