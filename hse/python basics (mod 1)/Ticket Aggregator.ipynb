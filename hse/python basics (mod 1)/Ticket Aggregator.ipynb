{
 "cells": [
  {
   "cell_type": "markdown",
   "metadata": {},
   "source": [
    "# Hello dear teacher!\n",
    "### This is my first assignment on the task \"Ticket Aggregator\""
   ]
  },
  {
   "cell_type": "markdown",
   "metadata": {
    "pycharm": {
     "name": "#%% md\n"
    }
   },
   "source": [
    "## Task: Ticket Aggregator\n",
    "### *Objective: develop system of categorization of ticker offers, based on 4 criterias:*\n",
    "* *Price of the ticket*\n",
    "* *The number of transfers*\n",
    "* *Including (or not) the refund*\n",
    "* *Including (or not) the luggage*\n"
   ]
  },
  {
   "cell_type": "markdown",
   "metadata": {},
   "source": [
    "First, we assign these values from sys.stdin (keyboard), to new variables:\n",
    "*price: float, transfers: int, refund: int, luggage: int*"
   ]
  },
  {
   "cell_type": "code",
   "execution_count": 17,
   "metadata": {
    "pycharm": {
     "name": "#%%\n"
    }
   },
   "outputs": [],
   "source": [
    "price = float(input('Enter the price of the offer: '))\n",
    "transfers = int(input('Enter the quantity of transfers: '))\n",
    "refund = bool(int(input('Is there a refund?\\n1 - Yes\\n0 - No\\n')))\n",
    "luggage = bool(int(input('Is there luggage included?\\n1 - Yes\\n0 - No\\n')))"
   ]
  },
  {
   "cell_type": "markdown",
   "metadata": {},
   "source": [
    "bool() function on input is required to transform integer input of *refund* and *luggage* variables to boolean, from 0 to False or from 1 to True"
   ]
  },
  {
   "cell_type": "markdown",
   "metadata": {},
   "source": [
    "After, we assign \"The Best Offer\" string to *result* variable, so basically,\n",
    "our task is to check if the offer is not the best.<br>\n",
    "So, we build flow control *if-elif* with two directions:<br>\n",
    "1. Check if the offer is 'The Worst Offer'\n",
    "2. If not, check if the offer is 'Good Enough offer'"
   ]
  },
  {
   "cell_type": "code",
   "execution_count": 18,
   "metadata": {
    "pycharm": {
     "name": "#%%\n"
    }
   },
   "outputs": [],
   "source": [
    "result = 'the best offer'\n",
    "\n",
    "if price > 250 or transfers >= 3:\n",
    "    result = 'the worst offer'\n",
    "elif 200 <= price <= 250 or transfers == 2 or not refund or not luggage:\n",
    "    result = 'good enough'"
   ]
  },
  {
   "cell_type": "markdown",
   "metadata": {},
   "source": [
    "We don't check *refund* or *luggage* in 'The worst offer' case, because according to our task:<br>\n",
    ">\n",
    "> Finally, customers claim that the worst offer is the one which price is more than $250; three and more transfers are required; refund is either included or not; the same for luggage - it is either included or not.\n",
    ">\n",
    "So, for 'worst case' it doesn't matter, if there is a luggage, or not. But for 'good enough' case, including (or not) luggage\n",
    "or not, can be only difference, between this and 'best offer' case, so we need to check, if there are luggage or refund were included\n",
    "to offer"
   ]
  },
  {
   "cell_type": "markdown",
   "metadata": {},
   "source": [
    "After that, we just print value in *result* variable, with all 4 inputted criterias:\n"
   ]
  },
  {
   "cell_type": "code",
   "execution_count": 19,
   "outputs": [
    {
     "name": "stdout",
     "output_type": "stream",
     "text": [
      "The inputted offer with criterias:\n",
      "Price: 100.0,\n",
      "Transfers: 1,\n",
      "Refund: not included,\n",
      "Luggage: included,\n",
      "Is good enough\n"
     ]
    }
   ],
   "source": [
    "print('The inputted offer with criterias:')\n",
    "print('Price:', price, end=',\\n')\n",
    "print('Transfers:', transfers, end=',\\n')\n",
    "print('Refund:', 'included' if refund else 'not included', end=',\\n')\n",
    "print('Luggage:', 'included' if luggage else 'not included', end=',\\n')\n",
    "print('is', result)"
   ],
   "metadata": {
    "collapsed": false,
    "pycharm": {
     "name": "#%%\n"
    }
   }
  },
  {
   "cell_type": "markdown",
   "source": [
    "The advantage of that approach, is fast-decision program, which can quickly categorize\n",
    "offers, based on hard-defined and clear conditions. There very easy to answer the question, what offer\n",
    "is that.<br>\n",
    "But, because of that hard-defined conditions,\n",
    "there is a problem of being too rigidly tied to specific criteria and lack of flexibility in categorizing offers.\n",
    "We don't know, in what season it happened, or what prices in market presented now. Maybe 250 dollars price for the ticket,\n",
    "right is actually the best price, we can get."
   ],
   "metadata": {
    "collapsed": false
   }
  },
  {
   "cell_type": "markdown",
   "source": [
    "To actually modify our program, there are many approaches, but I'll define two of them<br>\n",
    "1. We can make a data for seasons, where for every season we associate the best and the worst price:<br>"
   ],
   "metadata": {
    "collapsed": false
   }
  },
  {
   "cell_type": "code",
   "execution_count": 20,
   "outputs": [],
   "source": [
    "from random import randint\n",
    "new_max_min = lambda: (left := randint(200, 300), randint(left, 350))\n",
    "seasons = {'winter': new_max_min(),\n",
    "           'spring': new_max_min(),\n",
    "           'summer': new_max_min(),\n",
    "           'autumn': new_max_min()}"
   ],
   "metadata": {
    "collapsed": false,
    "pycharm": {
     "name": "#%%\n"
    }
   }
  },
  {
   "cell_type": "markdown",
   "source": [
    "For simplicity we can assume, that good offer is in range from lowest price to half of the range, good offer from\n",
    "half of range to half of the second range, and from that is a worst offer for the season.\n",
    "Season is inputted from the stdin (from keyboard):"
   ],
   "metadata": {
    "collapsed": false
   }
  },
  {
   "cell_type": "code",
   "execution_count": null,
   "outputs": [],
   "source": [
    "season = int(input('Enter the season:\\n0 - winter,\\n1 - spring,\\n2 - summer,\\n3 - autumn\\n'))"
   ],
   "metadata": {
    "collapsed": false,
    "pycharm": {
     "name": "#%%\n"
    }
   }
  },
  {
   "cell_type": "markdown",
   "source": [
    "And, for price, we just use season ranges in *seasons* dict:\n"
   ],
   "metadata": {
    "collapsed": false
   }
  },
  {
   "cell_type": "code",
   "execution_count": null,
   "outputs": [],
   "source": [
    "price_range = seasons[seasons.keys()[season]]\n",
    "if price > (second_middle := (price_range[1] - (middle := price_range[1] - price_range[0]) / 2) / 2) or transfers >= 3:\n",
    "    result = 'the worst offer'\n",
    "elif middle / 2 <= price <= second_middle or transfers == 2 or not refund or not luggage:\n",
    "    result = 'good enough'\n"
   ],
   "metadata": {
    "collapsed": false,
    "pycharm": {
     "name": "#%%\n"
    }
   }
  }
 ],
 "metadata": {
  "kernelspec": {
   "display_name": "Python 3 (ipykernel)",
   "language": "python",
   "name": "python3"
  },
  "language_info": {
   "codemirror_mode": {
    "name": "ipython",
    "version": 3
   },
   "file_extension": ".py",
   "mimetype": "text/x-python",
   "name": "python",
   "nbconvert_exporter": "python",
   "pygments_lexer": "ipython3",
   "version": "3.9.12"
  }
 },
 "nbformat": 4,
 "nbformat_minor": 1
}