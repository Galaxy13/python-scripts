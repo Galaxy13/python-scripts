{
 "cells": [
  {
   "cell_type": "markdown",
   "id": "3b966271",
   "metadata": {
    "deletable": false,
    "editable": false,
    "id": "3b966271",
    "nbgrader": {
     "cell_type": "markdown",
     "checksum": "454bbdf6a1ad261cfbadbc014c24f861",
     "grade": false,
     "grade_id": "cell-369809025cbfb1e4",
     "locked": true,
     "schema_version": 3,
     "solution": false,
     "task": false
    }
   },
   "source": [
    "# Statistics basics\n",
    "## Final project\n",
    "Good news! You are hired by some retail company to analyse transaction statistics in a retail chain. (Sorry, this is just an imaginary company so far, but if you successfully finish our program, I'm sure it will become reality.)\n",
    "\n",
    "You have to use everything that we learned so far to answer questions that are asked by your employer.\n",
    "\n",
    "Part of the questions require that you write some code that will be automatically tested with autograding. So when you are finished, please, send this work to automatic grading.\n",
    "\n",
    "The other part of questions are presented in the appropriate quiz. Answer them using your results.\n",
    "\n",
    "Finally, some problems will be assessed manually. So, please, submit your notebook to staff graded assignment as well.\n",
    "\n",
    "Note you are not allowed to use loops anywhere in this project!\n",
    "\n",
    "Let's begin!\n",
    "\n",
    "### Data\n",
    "\n",
    "There are three datasets: `customers.csv`, `purchases.csv` and `shops.csv`. They are stored in `data` folder.\n",
    "\n",
    "`customers.csv` contains information about each customer registered in loyalty program.\n",
    "\n",
    "`shops.csv` contains information about shops and special offers they organized. One shap can organize several offers and therefore there are usually several rows that correspond to the same shops. However, some shops do not organize special offers at all, but they are presented in this table nevertheless.\n",
    "\n",
    "`purchases.csv` is a purchase log. It contains information for all customers, either registered in a loyalty program (in this case we know the corresponding customer id) or not registered. One purchase can be a collection of several items, but we see only the total price of everything bought."
   ]
  },
  {
   "cell_type": "code",
   "execution_count": null,
   "id": "90990116",
   "metadata": {
    "id": "90990116"
   },
   "outputs": [],
   "source": [
    "!ls data/"
   ]
  },
  {
   "cell_type": "code",
   "execution_count": null,
   "id": "35f8bad5",
   "metadata": {
    "id": "35f8bad5"
   },
   "outputs": [],
   "source": []
  },
  {
   "cell_type": "markdown",
   "id": "959cfc52",
   "metadata": {
    "id": "959cfc52"
   },
   "source": [
    "First, let us load these datasets and make a quick glance on them."
   ]
  },
  {
   "cell_type": "markdown",
   "id": "b4f3f942",
   "metadata": {
    "deletable": false,
    "editable": false,
    "id": "b4f3f942",
    "nbgrader": {
     "cell_type": "markdown",
     "checksum": "6aa27f20bda28314f57587d02e6f69b2",
     "grade": false,
     "grade_id": "cell-a2f0b3be149e1b44",
     "locked": true,
     "schema_version": 3,
     "solution": false,
     "task": false
    }
   },
   "source": [
    "### Problem 1 \n",
    "Load datasets intro variables `customers`, `purchases` and `shops`. Use `pd.read_csv`."
   ]
  },
  {
   "cell_type": "code",
   "execution_count": 207,
   "id": "08197527",
   "metadata": {
    "id": "08197527",
    "ExecuteTime": {
     "end_time": "2023-06-23T15:05:02.652183700Z",
     "start_time": "2023-06-23T15:05:02.625186500Z"
    }
   },
   "outputs": [],
   "source": [
    "import pandas as pd\n",
    "import matplotlib.pyplot as plt\n",
    "from scipy.stats import ttest_ind, ttest_rel\n",
    "\n",
    "%matplotlib inline"
   ]
  },
  {
   "cell_type": "code",
   "execution_count": 2,
   "id": "16c60f2e",
   "metadata": {
    "id": "16c60f2e",
    "ExecuteTime": {
     "end_time": "2023-06-23T13:13:32.859937200Z",
     "start_time": "2023-06-23T13:13:29.866419100Z"
    }
   },
   "outputs": [],
   "source": [
    "customers = pd.read_csv('https://github.com/mbburova/MDS/raw/main/customers.csv', sep = ',')\n",
    "purchases = pd.read_csv('https://github.com/mbburova/MDS/raw/main/purchases.csv', sep = ',')\n",
    "shops = pd.read_csv('https://github.com/mbburova/MDS/raw/main/shops.csv')"
   ]
  },
  {
   "cell_type": "code",
   "execution_count": 5,
   "outputs": [
    {
     "data": {
      "text/plain": "     customer id   age\n0           1149  71.0\n1            750  21.0\n2            428  36.0\n3            360  38.0\n4            816  51.0\n..           ...   ...\n862         1193  53.0\n863         1155  62.0\n864           21  23.0\n865          468  28.0\n866          562  22.0\n\n[867 rows x 2 columns]",
      "text/html": "<div>\n<style scoped>\n    .dataframe tbody tr th:only-of-type {\n        vertical-align: middle;\n    }\n\n    .dataframe tbody tr th {\n        vertical-align: top;\n    }\n\n    .dataframe thead th {\n        text-align: right;\n    }\n</style>\n<table border=\"1\" class=\"dataframe\">\n  <thead>\n    <tr style=\"text-align: right;\">\n      <th></th>\n      <th>customer id</th>\n      <th>age</th>\n    </tr>\n  </thead>\n  <tbody>\n    <tr>\n      <th>0</th>\n      <td>1149</td>\n      <td>71.0</td>\n    </tr>\n    <tr>\n      <th>1</th>\n      <td>750</td>\n      <td>21.0</td>\n    </tr>\n    <tr>\n      <th>2</th>\n      <td>428</td>\n      <td>36.0</td>\n    </tr>\n    <tr>\n      <th>3</th>\n      <td>360</td>\n      <td>38.0</td>\n    </tr>\n    <tr>\n      <th>4</th>\n      <td>816</td>\n      <td>51.0</td>\n    </tr>\n    <tr>\n      <th>...</th>\n      <td>...</td>\n      <td>...</td>\n    </tr>\n    <tr>\n      <th>862</th>\n      <td>1193</td>\n      <td>53.0</td>\n    </tr>\n    <tr>\n      <th>863</th>\n      <td>1155</td>\n      <td>62.0</td>\n    </tr>\n    <tr>\n      <th>864</th>\n      <td>21</td>\n      <td>23.0</td>\n    </tr>\n    <tr>\n      <th>865</th>\n      <td>468</td>\n      <td>28.0</td>\n    </tr>\n    <tr>\n      <th>866</th>\n      <td>562</td>\n      <td>22.0</td>\n    </tr>\n  </tbody>\n</table>\n<p>867 rows × 2 columns</p>\n</div>"
     },
     "execution_count": 5,
     "metadata": {},
     "output_type": "execute_result"
    }
   ],
   "source": [
    "customers"
   ],
   "metadata": {
    "collapsed": false,
    "ExecuteTime": {
     "end_time": "2023-06-20T16:43:32.712330800Z",
     "start_time": "2023-06-20T16:43:31.986410500Z"
    }
   }
  },
  {
   "cell_type": "code",
   "execution_count": 10,
   "outputs": [
    {
     "data": {
      "text/plain": "       customer_id        date  shop_id  total_price\n0              0.0  2018-05-04       40   289.673291\n1              0.0  2019-01-26       40  1316.898901\n2              0.0  2018-11-18       42   159.414367\n3              0.0  2018-05-12       42   808.791649\n4              0.0  2019-04-20       42  1207.855038\n...            ...         ...      ...          ...\n40397          NaN  2018-05-05       37   169.086474\n40398          NaN  2018-09-29        7   310.993395\n40399          NaN  2018-10-31        1    17.535630\n40400          NaN  2019-02-16       37   218.576020\n40401          NaN  2018-12-15       49   557.510380\n\n[40402 rows x 4 columns]",
      "text/html": "<div>\n<style scoped>\n    .dataframe tbody tr th:only-of-type {\n        vertical-align: middle;\n    }\n\n    .dataframe tbody tr th {\n        vertical-align: top;\n    }\n\n    .dataframe thead th {\n        text-align: right;\n    }\n</style>\n<table border=\"1\" class=\"dataframe\">\n  <thead>\n    <tr style=\"text-align: right;\">\n      <th></th>\n      <th>customer_id</th>\n      <th>date</th>\n      <th>shop_id</th>\n      <th>total_price</th>\n    </tr>\n  </thead>\n  <tbody>\n    <tr>\n      <th>0</th>\n      <td>0.0</td>\n      <td>2018-05-04</td>\n      <td>40</td>\n      <td>289.673291</td>\n    </tr>\n    <tr>\n      <th>1</th>\n      <td>0.0</td>\n      <td>2019-01-26</td>\n      <td>40</td>\n      <td>1316.898901</td>\n    </tr>\n    <tr>\n      <th>2</th>\n      <td>0.0</td>\n      <td>2018-11-18</td>\n      <td>42</td>\n      <td>159.414367</td>\n    </tr>\n    <tr>\n      <th>3</th>\n      <td>0.0</td>\n      <td>2018-05-12</td>\n      <td>42</td>\n      <td>808.791649</td>\n    </tr>\n    <tr>\n      <th>4</th>\n      <td>0.0</td>\n      <td>2019-04-20</td>\n      <td>42</td>\n      <td>1207.855038</td>\n    </tr>\n    <tr>\n      <th>...</th>\n      <td>...</td>\n      <td>...</td>\n      <td>...</td>\n      <td>...</td>\n    </tr>\n    <tr>\n      <th>40397</th>\n      <td>NaN</td>\n      <td>2018-05-05</td>\n      <td>37</td>\n      <td>169.086474</td>\n    </tr>\n    <tr>\n      <th>40398</th>\n      <td>NaN</td>\n      <td>2018-09-29</td>\n      <td>7</td>\n      <td>310.993395</td>\n    </tr>\n    <tr>\n      <th>40399</th>\n      <td>NaN</td>\n      <td>2018-10-31</td>\n      <td>1</td>\n      <td>17.535630</td>\n    </tr>\n    <tr>\n      <th>40400</th>\n      <td>NaN</td>\n      <td>2019-02-16</td>\n      <td>37</td>\n      <td>218.576020</td>\n    </tr>\n    <tr>\n      <th>40401</th>\n      <td>NaN</td>\n      <td>2018-12-15</td>\n      <td>49</td>\n      <td>557.510380</td>\n    </tr>\n  </tbody>\n</table>\n<p>40402 rows × 4 columns</p>\n</div>"
     },
     "execution_count": 10,
     "metadata": {},
     "output_type": "execute_result"
    }
   ],
   "source": [
    "purchases"
   ],
   "metadata": {
    "collapsed": false,
    "ExecuteTime": {
     "end_time": "2023-06-20T16:46:30.124301200Z",
     "start_time": "2023-06-20T16:46:30.107305500Z"
    }
   }
  },
  {
   "cell_type": "code",
   "execution_count": 7,
   "outputs": [
    {
     "data": {
      "text/plain": "     shop_id offer_begin   offer_end\n0          0  2019-02-28  2019-03-13\n1          0  2018-07-22  2018-08-10\n2          0  2018-09-21  2018-09-27\n3          1         NaN         NaN\n4          2         NaN         NaN\n..       ...         ...         ...\n178       72  2018-05-07  2018-05-26\n179       73  2019-05-08  2019-06-11\n180       74  2018-09-14  2018-10-12\n181       74  2018-12-08  2019-01-10\n182       74  2018-08-22  2018-08-28\n\n[183 rows x 3 columns]",
      "text/html": "<div>\n<style scoped>\n    .dataframe tbody tr th:only-of-type {\n        vertical-align: middle;\n    }\n\n    .dataframe tbody tr th {\n        vertical-align: top;\n    }\n\n    .dataframe thead th {\n        text-align: right;\n    }\n</style>\n<table border=\"1\" class=\"dataframe\">\n  <thead>\n    <tr style=\"text-align: right;\">\n      <th></th>\n      <th>shop_id</th>\n      <th>offer_begin</th>\n      <th>offer_end</th>\n    </tr>\n  </thead>\n  <tbody>\n    <tr>\n      <th>0</th>\n      <td>0</td>\n      <td>2019-02-28</td>\n      <td>2019-03-13</td>\n    </tr>\n    <tr>\n      <th>1</th>\n      <td>0</td>\n      <td>2018-07-22</td>\n      <td>2018-08-10</td>\n    </tr>\n    <tr>\n      <th>2</th>\n      <td>0</td>\n      <td>2018-09-21</td>\n      <td>2018-09-27</td>\n    </tr>\n    <tr>\n      <th>3</th>\n      <td>1</td>\n      <td>NaN</td>\n      <td>NaN</td>\n    </tr>\n    <tr>\n      <th>4</th>\n      <td>2</td>\n      <td>NaN</td>\n      <td>NaN</td>\n    </tr>\n    <tr>\n      <th>...</th>\n      <td>...</td>\n      <td>...</td>\n      <td>...</td>\n    </tr>\n    <tr>\n      <th>178</th>\n      <td>72</td>\n      <td>2018-05-07</td>\n      <td>2018-05-26</td>\n    </tr>\n    <tr>\n      <th>179</th>\n      <td>73</td>\n      <td>2019-05-08</td>\n      <td>2019-06-11</td>\n    </tr>\n    <tr>\n      <th>180</th>\n      <td>74</td>\n      <td>2018-09-14</td>\n      <td>2018-10-12</td>\n    </tr>\n    <tr>\n      <th>181</th>\n      <td>74</td>\n      <td>2018-12-08</td>\n      <td>2019-01-10</td>\n    </tr>\n    <tr>\n      <th>182</th>\n      <td>74</td>\n      <td>2018-08-22</td>\n      <td>2018-08-28</td>\n    </tr>\n  </tbody>\n</table>\n<p>183 rows × 3 columns</p>\n</div>"
     },
     "execution_count": 7,
     "metadata": {},
     "output_type": "execute_result"
    }
   ],
   "source": [
    "shops"
   ],
   "metadata": {
    "collapsed": false,
    "ExecuteTime": {
     "end_time": "2023-06-20T16:44:06.236367Z",
     "start_time": "2023-06-20T16:44:06.203365800Z"
    }
   }
  },
  {
   "cell_type": "markdown",
   "id": "d97a5d25",
   "metadata": {
    "id": "d97a5d25"
   },
   "source": [
    "### Problem 2 (quiz)"
   ]
  },
  {
   "cell_type": "markdown",
   "id": "5bbe0a1c",
   "metadata": {
    "deletable": false,
    "editable": false,
    "id": "5bbe0a1c",
    "nbgrader": {
     "cell_type": "markdown",
     "checksum": "0603220371fdbcb9e545525cad325284",
     "grade": false,
     "grade_id": "cell-277368782ff4455f",
     "locked": true,
     "schema_version": 3,
     "solution": false,
     "task": false
    }
   },
   "source": [
    "Investigate dataframes and answer the following questions (in the appropriate Quiz):\n",
    "\n",
    "1. What is the type of variable `customer_id` in the dataset `purchases`?\n",
    "2. What is the type of variable `age` in the dataset `customers`?\n",
    "\n",
    "Note that you have to provide your answers based on the meaning of the data, not on the Python object types of the corresponding column."
   ]
  },
  {
   "cell_type": "markdown",
   "id": "daf262b6",
   "metadata": {
    "deletable": false,
    "editable": false,
    "id": "daf262b6",
    "nbgrader": {
     "cell_type": "markdown",
     "checksum": "0ef9904ad2af29fd7de47254b703429e",
     "grade": false,
     "grade_id": "cell-27d72da45a2d686e",
     "locked": true,
     "schema_version": 3,
     "solution": false,
     "task": false
    }
   },
   "source": [
    "### Problem 3 (SGA)\n",
    "Let us consider column `total_price` in the dataset `purchases`. May we assume that this column is an i.i.d. sample from some random variable? Write your answer and full explanation in the cell below.\n"
   ]
  },
  {
   "cell_type": "markdown",
   "id": "2b63a595",
   "metadata": {
    "deletable": false,
    "id": "2b63a595",
    "nbgrader": {
     "cell_type": "markdown",
     "checksum": "52c03088288c7f55d4bec60fd28d22ce",
     "grade": true,
     "grade_id": "cell-1dbb612417aee226",
     "locked": false,
     "points": 1,
     "schema_version": 3,
     "solution": true,
     "task": false
    }
   },
   "source": [
    "No, since *total_price* can be dependent on human, who makes purchases, in what date purchases made and in what shops purchaces made."
   ]
  },
  {
   "cell_type": "markdown",
   "id": "348b2208",
   "metadata": {
    "deletable": false,
    "editable": false,
    "id": "348b2208",
    "nbgrader": {
     "cell_type": "markdown",
     "checksum": "59d083c8df5f526657c99508627eb090",
     "grade": false,
     "grade_id": "cell-74b47122f0488db1",
     "locked": true,
     "schema_version": 3,
     "solution": false,
     "task": false
    }
   },
   "source": [
    "### Problem 4 (quiz)\n",
    "Visualise distribution of variable `age` in the dataset `customers` using appropriate visualization tool.\n"
   ]
  },
  {
   "cell_type": "code",
   "execution_count": 11,
   "id": "fca53f72",
   "metadata": {
    "deletable": false,
    "id": "fca53f72",
    "ExecuteTime": {
     "end_time": "2023-06-20T17:04:15.305278100Z",
     "start_time": "2023-06-20T17:04:14.439238Z"
    }
   },
   "outputs": [
    {
     "data": {
      "text/plain": "<AxesSubplot: >"
     },
     "execution_count": 11,
     "metadata": {},
     "output_type": "execute_result"
    },
    {
     "data": {
      "text/plain": "<Figure size 640x480 with 1 Axes>",
      "image/png": "[encoded data removed]"
     },
     "metadata": {},
     "output_type": "display_data"
    }
   ],
   "source": [
    "# your code here\n",
    "customers['age'].hist()"
   ]
  },
  {
   "cell_type": "markdown",
   "id": "ffd6ec46",
   "metadata": {
    "id": "ffd6ec46"
   },
   "source": [
    "### Problem 5 (quiz)\n",
    "Your employer is going to provide two special offers for all registered customers based on the customer age. They want to pick some threshold age, and offer one special program to customers who are younger than this threshold age and another special program to customers who are older than this age. They want to choose the threshold in such a way that the number of potential participants of both programs coincide (or at least be as close to each other as possible). What is the threshold?"
   ]
  },
  {
   "cell_type": "code",
   "execution_count": 5,
   "id": "58e89991",
   "metadata": {
    "deletable": false,
    "id": "58e89991",
    "ExecuteTime": {
     "end_time": "2023-06-21T09:08:49.656737500Z",
     "start_time": "2023-06-21T09:08:49.594737300Z"
    }
   },
   "outputs": [
    {
     "data": {
      "text/plain": "43.0"
     },
     "execution_count": 5,
     "metadata": {},
     "output_type": "execute_result"
    }
   ],
   "source": [
    "# your code here\n",
    "customers['age'].quantile(q=0.5)"
   ]
  },
  {
   "cell_type": "markdown",
   "id": "a538b39b",
   "metadata": {
    "id": "a538b39b"
   },
   "source": [
    "### Problem 6 (quiz)\n",
    "\n",
    "Let us visualize how purchases are distributed around a year. For example, it is known that December is a hot month for retail due to Christmas. Will you see it in the data? Are there any other tendencies we will see?\n",
    "\n",
    "To do it, we have to extract a month from the `date` variable of `purchases` table and create a new variable (new dataframe column) that contains this month, then plot distribution of this variable. There is a special data type in pandas to represent date and time. However, by default `pd.read_csv` does not try to guess that a particular column contains something that looks like a date and reads it just as a column of strings. So let's convert this column manually using function `pd.to_datetime` first:\n"
   ]
  },
  {
   "cell_type": "code",
   "execution_count": 100,
   "id": "65c6dde9",
   "metadata": {
    "id": "65c6dde9",
    "ExecuteTime": {
     "end_time": "2023-06-23T14:12:45.512165800Z",
     "start_time": "2023-06-23T14:12:45.488165700Z"
    }
   },
   "outputs": [],
   "source": [
    "purchases[\"date\"] = pd.to_datetime(purchases[\"date\"])"
   ]
  },
  {
   "cell_type": "markdown",
   "id": "0e72fb08",
   "metadata": {
    "id": "0e72fb08"
   },
   "source": [
    "Let's check that `date` has correct `dtype`:"
   ]
  },
  {
   "cell_type": "code",
   "execution_count": 7,
   "id": "63282db2",
   "metadata": {
    "id": "63282db2",
    "ExecuteTime": {
     "end_time": "2023-06-21T09:12:14.493435600Z",
     "start_time": "2023-06-21T09:12:14.470438200Z"
    }
   },
   "outputs": [
    {
     "data": {
      "text/plain": "dtype('<M8[ns]')"
     },
     "execution_count": 7,
     "metadata": {},
     "output_type": "execute_result"
    }
   ],
   "source": [
    "purchases[\"date\"].dtype"
   ]
  },
  {
   "cell_type": "markdown",
   "id": "f6b8d8cb",
   "metadata": {
    "id": "f6b8d8cb"
   },
   "source": [
    "This should return something like `dtype('datetime64[ns]')` or `dtype('<M8[ns]')`. It is much easier to work with dates when they are converted to native datetime format instead of strings. For example, you can find the difference between two dates and do a lot of other things. To extract different features of date like month of even day of week, one can use `.dt` accessor (similar to using `.str` accessor to access string methods), see [documentation](https://pandas.pydata.org/pandas-docs/stable/user_guide/timeseries.html#time-date-components) for details. For example, this is how we can extract day of week (Monday=0, Sunday=6):"
   ]
  },
  {
   "cell_type": "code",
   "execution_count": 8,
   "id": "c580e547",
   "metadata": {
    "id": "c580e547",
    "ExecuteTime": {
     "end_time": "2023-06-21T09:12:42.247306600Z",
     "start_time": "2023-06-21T09:12:42.186307200Z"
    }
   },
   "outputs": [
    {
     "data": {
      "text/plain": "0        4\n1        5\n2        6\n3        5\n4        5\n        ..\n40397    5\n40398    5\n40399    2\n40400    5\n40401    5\nName: date, Length: 40402, dtype: int64"
     },
     "execution_count": 8,
     "metadata": {},
     "output_type": "execute_result"
    }
   ],
   "source": [
    "purchases[\"date\"].dt.dayofweek"
   ]
  },
  {
   "cell_type": "code",
   "execution_count": 11,
   "outputs": [
    {
     "data": {
      "text/plain": "0         5\n1         1\n2        11\n3         5\n4         4\n         ..\n40397     5\n40398     9\n40399    10\n40400     2\n40401    12\nName: date, Length: 40402, dtype: int64"
     },
     "execution_count": 11,
     "metadata": {},
     "output_type": "execute_result"
    }
   ],
   "source": [
    "purchases['date'].dt.month"
   ],
   "metadata": {
    "collapsed": false,
    "ExecuteTime": {
     "end_time": "2023-06-21T09:17:36.152309800Z",
     "start_time": "2023-06-21T09:17:36.138309100Z"
    }
   }
  },
  {
   "cell_type": "markdown",
   "id": "31fb37ce",
   "metadata": {
    "id": "31fb37ce"
   },
   "source": [
    "Now let us return to our problem here. We want to make a plot that shows how many purchases we have per month. In other words, we want to create and consider new variable `month`. This is a categorical variable. Use an appropriate tool to visualize it.\n",
    "\n",
    "Make this bar plot. \n",
    "\n",
    "**Hint.** To sort the values on the horizontal axis one can use `.sort_index()`.\n"
   ]
  },
  {
   "cell_type": "code",
   "execution_count": 42,
   "outputs": [],
   "source": [
    "import seaborn as sns"
   ],
   "metadata": {
    "collapsed": false,
    "ExecuteTime": {
     "end_time": "2023-06-23T13:26:52.752094800Z",
     "start_time": "2023-06-23T13:26:52.727103700Z"
    }
   }
  },
  {
   "cell_type": "code",
   "execution_count": 102,
   "id": "6400fc6b",
   "metadata": {
    "deletable": false,
    "id": "6400fc6b",
    "nbgrader": {
     "cell_type": "code",
     "checksum": "d06be0bc6d1545e8763b4bc37f0fbbc7",
     "grade": false,
     "grade_id": "cell-fab958f31a3bfdb3",
     "locked": false,
     "schema_version": 3,
     "solution": true,
     "task": false
    },
    "ExecuteTime": {
     "end_time": "2023-06-23T14:12:58.710103200Z",
     "start_time": "2023-06-23T14:12:58.394103100Z"
    }
   },
   "outputs": [
    {
     "data": {
      "text/plain": "<AxesSubplot: xlabel='date', ylabel='count'>"
     },
     "execution_count": 102,
     "metadata": {},
     "output_type": "execute_result"
    },
    {
     "data": {
      "text/plain": "<Figure size 640x480 with 1 Axes>",
      "image/png": "[encoded data removed]"
     },
     "metadata": {},
     "output_type": "display_data"
    }
   ],
   "source": [
    "# YOUR CODE HERE\n",
    "sns.countplot(data=purchases, x=purchases['date'].dt.month)"
   ]
  },
  {
   "cell_type": "markdown",
   "id": "27c30732",
   "metadata": {
    "id": "27c30732"
   },
   "source": [
    "### Problem 7 (SGA)\n",
    "\n",
    "What's wrong with May? Why do we have so many purchases? Are there any unknown holidays in this month? Or it's some other reason? Investigate your data and give an answer. Write it in the cell below. Add new cells to include code / explanations as necessary."
   ]
  },
  {
   "cell_type": "code",
   "execution_count": 5,
   "id": "b56e8c0e",
   "metadata": {
    "deletable": false,
    "id": "b56e8c0e",
    "nbgrader": {
     "cell_type": "code",
     "checksum": "505135e699b1d4277c277a659245214c",
     "grade": true,
     "grade_id": "cell-b1bb61291c8a3eda",
     "locked": false,
     "points": 0,
     "schema_version": 3,
     "solution": true,
     "task": false
    },
    "ExecuteTime": {
     "end_time": "2023-06-21T11:45:19.342296400Z",
     "start_time": "2023-06-21T11:45:19.252294500Z"
    }
   },
   "outputs": [
    {
     "data": {
      "text/plain": "       customer_id       date  shop_id  total_price\n0              0.0 2018-05-04       40   289.673291\n3              0.0 2018-05-12       42   808.791649\n42             2.0 2018-05-05       51   484.562929\n43             2.0 2018-05-23       41   277.083807\n48             2.0 2019-05-25       52   665.677759\n...            ...        ...      ...          ...\n40361          NaN 2018-05-03       47    53.580163\n40363          NaN 2019-05-01       40    17.739825\n40368          NaN 2018-05-19       12   110.528141\n40374          NaN 2019-05-03       33   106.411080\n40397          NaN 2018-05-05       37   169.086474\n\n[6717 rows x 4 columns]",
      "text/html": "<div>\n<style scoped>\n    .dataframe tbody tr th:only-of-type {\n        vertical-align: middle;\n    }\n\n    .dataframe tbody tr th {\n        vertical-align: top;\n    }\n\n    .dataframe thead th {\n        text-align: right;\n    }\n</style>\n<table border=\"1\" class=\"dataframe\">\n  <thead>\n    <tr style=\"text-align: right;\">\n      <th></th>\n      <th>customer_id</th>\n      <th>date</th>\n      <th>shop_id</th>\n      <th>total_price</th>\n    </tr>\n  </thead>\n  <tbody>\n    <tr>\n      <th>0</th>\n      <td>0.0</td>\n      <td>2018-05-04</td>\n      <td>40</td>\n      <td>289.673291</td>\n    </tr>\n    <tr>\n      <th>3</th>\n      <td>0.0</td>\n      <td>2018-05-12</td>\n      <td>42</td>\n      <td>808.791649</td>\n    </tr>\n    <tr>\n      <th>42</th>\n      <td>2.0</td>\n      <td>2018-05-05</td>\n      <td>51</td>\n      <td>484.562929</td>\n    </tr>\n    <tr>\n      <th>43</th>\n      <td>2.0</td>\n      <td>2018-05-23</td>\n      <td>41</td>\n      <td>277.083807</td>\n    </tr>\n    <tr>\n      <th>48</th>\n      <td>2.0</td>\n      <td>2019-05-25</td>\n      <td>52</td>\n      <td>665.677759</td>\n    </tr>\n    <tr>\n      <th>...</th>\n      <td>...</td>\n      <td>...</td>\n      <td>...</td>\n      <td>...</td>\n    </tr>\n    <tr>\n      <th>40361</th>\n      <td>NaN</td>\n      <td>2018-05-03</td>\n      <td>47</td>\n      <td>53.580163</td>\n    </tr>\n    <tr>\n      <th>40363</th>\n      <td>NaN</td>\n      <td>2019-05-01</td>\n      <td>40</td>\n      <td>17.739825</td>\n    </tr>\n    <tr>\n      <th>40368</th>\n      <td>NaN</td>\n      <td>2018-05-19</td>\n      <td>12</td>\n      <td>110.528141</td>\n    </tr>\n    <tr>\n      <th>40374</th>\n      <td>NaN</td>\n      <td>2019-05-03</td>\n      <td>33</td>\n      <td>106.411080</td>\n    </tr>\n    <tr>\n      <th>40397</th>\n      <td>NaN</td>\n      <td>2018-05-05</td>\n      <td>37</td>\n      <td>169.086474</td>\n    </tr>\n  </tbody>\n</table>\n<p>6717 rows × 4 columns</p>\n</div>"
     },
     "execution_count": 5,
     "metadata": {},
     "output_type": "execute_result"
    }
   ],
   "source": [
    "# YOUR CODE HERE\n",
    "may_purchases = purchases[purchases['date'].dt.month == 5]\n",
    "may_purchases"
   ]
  },
  {
   "cell_type": "code",
   "execution_count": 38,
   "outputs": [],
   "source": [
    "shops['offer_begin'], shops['offer_end'] = pd.to_datetime(shops['offer_begin']), pd.to_datetime(shops['offer_end'])"
   ],
   "metadata": {
    "collapsed": false,
    "ExecuteTime": {
     "end_time": "2023-06-21T13:21:53.011285900Z",
     "start_time": "2023-06-21T13:21:52.972289400Z"
    }
   }
  },
  {
   "cell_type": "code",
   "execution_count": 40,
   "outputs": [
    {
     "data": {
      "text/plain": "[Text(0.5, 1.0, 'May offers (end)')]"
     },
     "execution_count": 40,
     "metadata": {},
     "output_type": "execute_result"
    },
    {
     "data": {
      "text/plain": "<Figure size 2000x700 with 3 Axes>",
      "image/png": "[encoded data removed]"
     },
     "metadata": {},
     "output_type": "display_data"
    }
   ],
   "source": [
    "fig, axis = plt.subplots(ncols=3, figsize=(20, 7))\n",
    "sns.countplot(may_purchases, x=may_purchases['date'].dt.day, ax=axis[0],).set(title=\"May Purchases\")\n",
    "sns.countplot(shops, x=shops['offer_begin'].dt.month, ax=axis[1],).set(title=\"May offers (begin)\")\n",
    "sns.countplot(shops, x=shops['offer_end'].dt.month, ax=axis[2],).set(title=\"May offers (end)\")"
   ],
   "metadata": {
    "collapsed": false,
    "ExecuteTime": {
     "end_time": "2023-06-21T09:55:11.057415500Z",
     "start_time": "2023-06-21T09:55:10.213421900Z"
    }
   }
  },
  {
   "cell_type": "markdown",
   "source": [
    "As we can see in this plot, there is a big purchase activity from 3rd-5th May of year 2018. The first reason of such behaviour is that growth of purchases is periodic and happens closely to weekdays. Second thought was, that this difference may come from number of offers in this period. The second and third plor actually shows us, that there was a larger number of offers that starts in May, and ends in June (larger than average)."
   ],
   "metadata": {
    "collapsed": false
   }
  },
  {
   "cell_type": "code",
   "execution_count": 9,
   "outputs": [
    {
     "data": {
      "text/plain": "[Text(0.5, 1.0, 'Purchases distribution by shops in May')]"
     },
     "execution_count": 9,
     "metadata": {},
     "output_type": "execute_result"
    },
    {
     "data": {
      "text/plain": "<Figure size 640x480 with 1 Axes>",
      "image/png": "[encoded data removed]"
     },
     "metadata": {},
     "output_type": "display_data"
    }
   ],
   "source": [
    "sns.countplot(may_purchases, x=may_purchases['shop_id']).set(title='Purchases distribution by shops in May')"
   ],
   "metadata": {
    "collapsed": false,
    "ExecuteTime": {
     "end_time": "2023-06-21T11:47:51.989925800Z",
     "start_time": "2023-06-21T11:47:50.744926800Z"
    }
   }
  },
  {
   "cell_type": "markdown",
   "source": [
    "This plot shows distribution of purchases in May 2018 by shops. By this picture, we can say that several shops have high rates, but on average pretty close to each other"
   ],
   "metadata": {
    "collapsed": false
   }
  },
  {
   "cell_type": "code",
   "execution_count": 10,
   "outputs": [],
   "source": [
    "customers = customers.set_index('customer id')"
   ],
   "metadata": {
    "collapsed": false,
    "ExecuteTime": {
     "end_time": "2023-06-21T11:49:20.131293Z",
     "start_time": "2023-06-21T11:49:20.106418600Z"
    }
   }
  },
  {
   "cell_type": "code",
   "execution_count": 59,
   "outputs": [
    {
     "data": {
      "text/plain": "     customer id   age\n0           1149  71.0\n1            750  21.0\n2            428  36.0\n3            360  38.0\n4            816  51.0\n..           ...   ...\n862         1193  53.0\n863         1155  62.0\n864           21  23.0\n865          468  28.0\n866          562  22.0\n\n[867 rows x 2 columns]",
      "text/html": "<div>\n<style scoped>\n    .dataframe tbody tr th:only-of-type {\n        vertical-align: middle;\n    }\n\n    .dataframe tbody tr th {\n        vertical-align: top;\n    }\n\n    .dataframe thead th {\n        text-align: right;\n    }\n</style>\n<table border=\"1\" class=\"dataframe\">\n  <thead>\n    <tr style=\"text-align: right;\">\n      <th></th>\n      <th>customer id</th>\n      <th>age</th>\n    </tr>\n  </thead>\n  <tbody>\n    <tr>\n      <th>0</th>\n      <td>1149</td>\n      <td>71.0</td>\n    </tr>\n    <tr>\n      <th>1</th>\n      <td>750</td>\n      <td>21.0</td>\n    </tr>\n    <tr>\n      <th>2</th>\n      <td>428</td>\n      <td>36.0</td>\n    </tr>\n    <tr>\n      <th>3</th>\n      <td>360</td>\n      <td>38.0</td>\n    </tr>\n    <tr>\n      <th>4</th>\n      <td>816</td>\n      <td>51.0</td>\n    </tr>\n    <tr>\n      <th>...</th>\n      <td>...</td>\n      <td>...</td>\n    </tr>\n    <tr>\n      <th>862</th>\n      <td>1193</td>\n      <td>53.0</td>\n    </tr>\n    <tr>\n      <th>863</th>\n      <td>1155</td>\n      <td>62.0</td>\n    </tr>\n    <tr>\n      <th>864</th>\n      <td>21</td>\n      <td>23.0</td>\n    </tr>\n    <tr>\n      <th>865</th>\n      <td>468</td>\n      <td>28.0</td>\n    </tr>\n    <tr>\n      <th>866</th>\n      <td>562</td>\n      <td>22.0</td>\n    </tr>\n  </tbody>\n</table>\n<p>867 rows × 2 columns</p>\n</div>"
     },
     "execution_count": 59,
     "metadata": {},
     "output_type": "execute_result"
    }
   ],
   "source": [
    "customers"
   ],
   "metadata": {
    "collapsed": false,
    "ExecuteTime": {
     "end_time": "2023-06-21T13:35:55.369433600Z",
     "start_time": "2023-06-21T13:35:55.347430800Z"
    }
   }
  },
  {
   "cell_type": "code",
   "execution_count": 60,
   "outputs": [],
   "source": [
    "customers = customers.rename(columns={'customer id': 'customer_id', 'age': 'age'})"
   ],
   "metadata": {
    "collapsed": false,
    "ExecuteTime": {
     "end_time": "2023-06-21T13:36:02.803424200Z",
     "start_time": "2023-06-21T13:36:02.776425700Z"
    }
   }
  },
  {
   "cell_type": "code",
   "execution_count": 61,
   "outputs": [],
   "source": [
    "purchases = pd.merge(purchases, customers, on='customer_id')"
   ],
   "metadata": {
    "collapsed": false,
    "ExecuteTime": {
     "end_time": "2023-06-21T13:36:03.875312300Z",
     "start_time": "2023-06-21T13:36:03.802280800Z"
    }
   }
  },
  {
   "cell_type": "code",
   "execution_count": 32,
   "outputs": [],
   "source": [
    "may_purchases = purchases[purchases['date'].dt.month == 5]"
   ],
   "metadata": {
    "collapsed": false,
    "ExecuteTime": {
     "end_time": "2023-06-21T12:04:49.024293200Z",
     "start_time": "2023-06-21T12:04:48.997295100Z"
    }
   }
  },
  {
   "cell_type": "code",
   "execution_count": 37,
   "outputs": [
    {
     "data": {
      "text/plain": "[Text(0.5, 1.0, 'Distribution of ages in May')]"
     },
     "execution_count": 37,
     "metadata": {},
     "output_type": "execute_result"
    },
    {
     "data": {
      "text/plain": "<Figure size 640x480 with 1 Axes>",
      "image/png": "[encoded data removed]"
     },
     "metadata": {},
     "output_type": "display_data"
    }
   ],
   "source": [
    "sns.histplot(may_purchases, x='age', bins=20).set(title='Distribution of ages in May')"
   ],
   "metadata": {
    "collapsed": false,
    "ExecuteTime": {
     "end_time": "2023-06-21T12:07:32.115089700Z",
     "start_time": "2023-06-21T12:07:31.792094800Z"
    }
   }
  },
  {
   "cell_type": "markdown",
   "source": [
    "This disrtibution is very close to normal distribution, with center in 37 years. As it is normal and there is no serious shifts in ages, we can say, that there is no reason to some age group of people start being more."
   ],
   "metadata": {
    "collapsed": false
   }
  },
  {
   "cell_type": "code",
   "execution_count": 62,
   "outputs": [],
   "source": [
    "offers = purchases.merge(shops, on='shop_id', how='left')\n",
    "offers = offers[(offers['date'] >= offers['offer_begin']) & (offers['date'] <= offers['offer_end'])]\n",
    "offers_count = offers.groupby(['shop_id', 'date']).count().reset_index()[['shop_id', 'date', 'customer_id']]\n",
    "offers_count.rename(columns={'customer_id': 'num_offers'}, inplace=True)\n",
    "purchases = purchases.merge(offers_count, on=['shop_id', 'date'], how='left')"
   ],
   "metadata": {
    "collapsed": false,
    "ExecuteTime": {
     "end_time": "2023-06-21T13:36:16.915396700Z",
     "start_time": "2023-06-21T13:36:16.814399Z"
    }
   }
  },
  {
   "cell_type": "code",
   "execution_count": 64,
   "outputs": [],
   "source": [
    "purchases['num_offers'] = purchases['num_offers'].fillna(0)"
   ],
   "metadata": {
    "collapsed": false,
    "ExecuteTime": {
     "end_time": "2023-06-21T13:37:00.897282600Z",
     "start_time": "2023-06-21T13:37:00.847284100Z"
    }
   }
  },
  {
   "cell_type": "code",
   "execution_count": 65,
   "outputs": [
    {
     "data": {
      "text/plain": "       customer_id       date  shop_id  total_price   age  num_offers\n0              0.0 2018-05-04       40   289.673291  38.0         0.0\n1              0.0 2019-01-26       40  1316.898901  38.0         0.0\n2              0.0 2018-11-18       42   159.414367  38.0         0.0\n3              0.0 2018-05-12       42   808.791649  38.0         0.0\n4              0.0 2019-04-20       42  1207.855038  38.0         0.0\n...            ...        ...      ...          ...   ...         ...\n28794       1212.0 2018-11-08       60    46.653544  24.0         0.0\n28795       1212.0 2018-07-20       60    50.592132  24.0         2.0\n28796       1212.0 2019-04-18       15    95.459705  24.0         0.0\n28797       1212.0 2019-02-14       60    69.968788  24.0         0.0\n28798       1212.0 2018-07-13       60   129.335559  24.0         1.0\n\n[28799 rows x 6 columns]",
      "text/html": "<div>\n<style scoped>\n    .dataframe tbody tr th:only-of-type {\n        vertical-align: middle;\n    }\n\n    .dataframe tbody tr th {\n        vertical-align: top;\n    }\n\n    .dataframe thead th {\n        text-align: right;\n    }\n</style>\n<table border=\"1\" class=\"dataframe\">\n  <thead>\n    <tr style=\"text-align: right;\">\n      <th></th>\n      <th>customer_id</th>\n      <th>date</th>\n      <th>shop_id</th>\n      <th>total_price</th>\n      <th>age</th>\n      <th>num_offers</th>\n    </tr>\n  </thead>\n  <tbody>\n    <tr>\n      <th>0</th>\n      <td>0.0</td>\n      <td>2018-05-04</td>\n      <td>40</td>\n      <td>289.673291</td>\n      <td>38.0</td>\n      <td>0.0</td>\n    </tr>\n    <tr>\n      <th>1</th>\n      <td>0.0</td>\n      <td>2019-01-26</td>\n      <td>40</td>\n      <td>1316.898901</td>\n      <td>38.0</td>\n      <td>0.0</td>\n    </tr>\n    <tr>\n      <th>2</th>\n      <td>0.0</td>\n      <td>2018-11-18</td>\n      <td>42</td>\n      <td>159.414367</td>\n      <td>38.0</td>\n      <td>0.0</td>\n    </tr>\n    <tr>\n      <th>3</th>\n      <td>0.0</td>\n      <td>2018-05-12</td>\n      <td>42</td>\n      <td>808.791649</td>\n      <td>38.0</td>\n      <td>0.0</td>\n    </tr>\n    <tr>\n      <th>4</th>\n      <td>0.0</td>\n      <td>2019-04-20</td>\n      <td>42</td>\n      <td>1207.855038</td>\n      <td>38.0</td>\n      <td>0.0</td>\n    </tr>\n    <tr>\n      <th>...</th>\n      <td>...</td>\n      <td>...</td>\n      <td>...</td>\n      <td>...</td>\n      <td>...</td>\n      <td>...</td>\n    </tr>\n    <tr>\n      <th>28794</th>\n      <td>1212.0</td>\n      <td>2018-11-08</td>\n      <td>60</td>\n      <td>46.653544</td>\n      <td>24.0</td>\n      <td>0.0</td>\n    </tr>\n    <tr>\n      <th>28795</th>\n      <td>1212.0</td>\n      <td>2018-07-20</td>\n      <td>60</td>\n      <td>50.592132</td>\n      <td>24.0</td>\n      <td>2.0</td>\n    </tr>\n    <tr>\n      <th>28796</th>\n      <td>1212.0</td>\n      <td>2019-04-18</td>\n      <td>15</td>\n      <td>95.459705</td>\n      <td>24.0</td>\n      <td>0.0</td>\n    </tr>\n    <tr>\n      <th>28797</th>\n      <td>1212.0</td>\n      <td>2019-02-14</td>\n      <td>60</td>\n      <td>69.968788</td>\n      <td>24.0</td>\n      <td>0.0</td>\n    </tr>\n    <tr>\n      <th>28798</th>\n      <td>1212.0</td>\n      <td>2018-07-13</td>\n      <td>60</td>\n      <td>129.335559</td>\n      <td>24.0</td>\n      <td>1.0</td>\n    </tr>\n  </tbody>\n</table>\n<p>28799 rows × 6 columns</p>\n</div>"
     },
     "execution_count": 65,
     "metadata": {},
     "output_type": "execute_result"
    }
   ],
   "source": [
    "purchases"
   ],
   "metadata": {
    "collapsed": false,
    "ExecuteTime": {
     "end_time": "2023-06-21T13:37:04.884901Z",
     "start_time": "2023-06-21T13:37:04.825903900Z"
    }
   }
  },
  {
   "cell_type": "code",
   "execution_count": 22,
   "outputs": [],
   "source": [
    "import numpy as np"
   ],
   "metadata": {
    "collapsed": false,
    "ExecuteTime": {
     "end_time": "2023-06-23T13:19:47.345160800Z",
     "start_time": "2023-06-23T13:19:47.311165400Z"
    }
   }
  },
  {
   "cell_type": "code",
   "execution_count": 90,
   "outputs": [],
   "source": [
    "avg_offers_by_month = purchases.groupby(purchases.date.dt.month)['num_offers'].aggregate(np.mean)"
   ],
   "metadata": {
    "collapsed": false,
    "ExecuteTime": {
     "end_time": "2023-06-21T13:58:29.621289100Z",
     "start_time": "2023-06-21T13:58:29.575290400Z"
    }
   }
  },
  {
   "cell_type": "code",
   "execution_count": 109,
   "outputs": [],
   "source": [
    "avg_offers_by_month = avg_offers_by_month.reset_index()"
   ],
   "metadata": {
    "collapsed": false,
    "ExecuteTime": {
     "end_time": "2023-06-21T14:02:02.866445100Z",
     "start_time": "2023-06-21T14:02:02.838443Z"
    }
   }
  },
  {
   "cell_type": "code",
   "execution_count": 113,
   "outputs": [
    {
     "data": {
      "text/plain": "[Text(0.5, 1.0, 'Avg of offers by month'),\n Text(0.5, 0, 'Month'),\n Text(0, 0.5, 'Avg offers')]"
     },
     "execution_count": 113,
     "metadata": {},
     "output_type": "execute_result"
    },
    {
     "data": {
      "text/plain": "<Figure size 640x480 with 1 Axes>",
      "image/png": "[encoded data removed]"
     },
     "metadata": {},
     "output_type": "display_data"
    }
   ],
   "source": [
    "sns.barplot(avg_offers_by_month, x=avg_offers_by_month['date'], y=avg_offers_by_month['num_offers']).set(title='Avg of offers by month',\n",
    "                                                                                                         xlabel='Month',\n",
    "                                                                                                         ylabel='Avg offers')"
   ],
   "metadata": {
    "collapsed": false,
    "ExecuteTime": {
     "end_time": "2023-06-21T14:22:24.314295600Z",
     "start_time": "2023-06-21T14:22:23.992292100Z"
    }
   }
  },
  {
   "cell_type": "markdown",
   "source": [
    "Actually interesting picture, that controversy with statement about dependency on number of offers is in plot of avg offers from purchases per each month. In May month ve have avg offers less, than for example April and June. So there is no strong evidence, that sales in May are dependent on number of offers. This may be due to other factors, that are not considered in our data (big holidays, economical situation, ...)"
   ],
   "metadata": {
    "collapsed": false
   }
  },
  {
   "cell_type": "markdown",
   "id": "bfb696fc",
   "metadata": {
    "deletable": false,
    "editable": false,
    "id": "bfb696fc",
    "nbgrader": {
     "cell_type": "markdown",
     "checksum": "8add93327e60c07ef01aa8ac9fc193b1",
     "grade": false,
     "grade_id": "cell-e1cde254c63033c6",
     "locked": true,
     "schema_version": 3,
     "solution": false,
     "task": false
    }
   },
   "source": [
    "### Problem 8 (quiz)\n",
    "We see that people go to shop more often in December. But do they spend more per each visit? Let us draw a bar plot that shows the average purchase total price per month of year. Use `groupby` with the `month` variable you (hopefully) created earlier."
   ]
  },
  {
   "cell_type": "code",
   "execution_count": 118,
   "id": "251fc076",
   "metadata": {
    "deletable": false,
    "id": "251fc076",
    "ExecuteTime": {
     "end_time": "2023-06-21T14:39:41.775314500Z",
     "start_time": "2023-06-21T14:39:41.747315500Z"
    }
   },
   "outputs": [],
   "source": [
    "# seaborn can handle such task without grouping data\n",
    "mean_spends = purchases.groupby(purchases.date.dt.month)['total_price'].aggregate(np.mean).reset_index()"
   ]
  },
  {
   "cell_type": "code",
   "execution_count": 121,
   "outputs": [
    {
     "data": {
      "text/plain": "<AxesSubplot: xlabel='date', ylabel='total_price'>"
     },
     "execution_count": 121,
     "metadata": {},
     "output_type": "execute_result"
    },
    {
     "data": {
      "text/plain": "<Figure size 640x480 with 1 Axes>",
      "image/png": "[encoded data removed]"
     },
     "metadata": {},
     "output_type": "display_data"
    }
   ],
   "source": [
    "sns.barplot(purchases, x=purchases.date.dt.month, y='total_price')"
   ],
   "metadata": {
    "collapsed": false,
    "ExecuteTime": {
     "end_time": "2023-06-21T14:40:37.741416600Z",
     "start_time": "2023-06-21T14:40:36.836420500Z"
    }
   }
  },
  {
   "cell_type": "markdown",
   "id": "d961812c",
   "metadata": {
    "id": "d961812c"
   },
   "source": [
    "### Problem 9 (quiz)\n",
    "Okay, we see that there is a difference between December's mean purchase price and other month's. But we also see that the average price is different in different months (not including December), probably due to some random factors. Is it possible that December behaviour is just a result of fluke? To answer this question, let us compare two months, for example, December and November, in a statistically rigorous way.\n",
    "\n",
    "To do so, let us find the average purchase price in each month in each shop (hint: use `.pivot_table`), then extract two samples: one contains average purchase prices in December and another in November. The number of elements in each sample should be equal to the number of shops. Is it true that they are different? Use the statistical test that suits this problem the best with a two-sided alternative. Then answer the question in a quiz.\n"
   ]
  },
  {
   "cell_type": "code",
   "execution_count": 173,
   "outputs": [
    {
     "data": {
      "text/plain": "       customer_id       date  shop_id  total_price\n0              0.0 2018-05-04       40   289.673291\n1              0.0 2019-01-26       40  1316.898901\n2              0.0 2018-11-18       42   159.414367\n3              0.0 2018-05-12       42   808.791649\n4              0.0 2019-04-20       42  1207.855038\n...            ...        ...      ...          ...\n40397          NaN 2018-05-05       37   169.086474\n40398          NaN 2018-09-29        7   310.993395\n40399          NaN 2018-10-31        1    17.535630\n40400          NaN 2019-02-16       37   218.576020\n40401          NaN 2018-12-15       49   557.510380\n\n[40402 rows x 4 columns]",
      "text/html": "<div>\n<style scoped>\n    .dataframe tbody tr th:only-of-type {\n        vertical-align: middle;\n    }\n\n    .dataframe tbody tr th {\n        vertical-align: top;\n    }\n\n    .dataframe thead th {\n        text-align: right;\n    }\n</style>\n<table border=\"1\" class=\"dataframe\">\n  <thead>\n    <tr style=\"text-align: right;\">\n      <th></th>\n      <th>customer_id</th>\n      <th>date</th>\n      <th>shop_id</th>\n      <th>total_price</th>\n    </tr>\n  </thead>\n  <tbody>\n    <tr>\n      <th>0</th>\n      <td>0.0</td>\n      <td>2018-05-04</td>\n      <td>40</td>\n      <td>289.673291</td>\n    </tr>\n    <tr>\n      <th>1</th>\n      <td>0.0</td>\n      <td>2019-01-26</td>\n      <td>40</td>\n      <td>1316.898901</td>\n    </tr>\n    <tr>\n      <th>2</th>\n      <td>0.0</td>\n      <td>2018-11-18</td>\n      <td>42</td>\n      <td>159.414367</td>\n    </tr>\n    <tr>\n      <th>3</th>\n      <td>0.0</td>\n      <td>2018-05-12</td>\n      <td>42</td>\n      <td>808.791649</td>\n    </tr>\n    <tr>\n      <th>4</th>\n      <td>0.0</td>\n      <td>2019-04-20</td>\n      <td>42</td>\n      <td>1207.855038</td>\n    </tr>\n    <tr>\n      <th>...</th>\n      <td>...</td>\n      <td>...</td>\n      <td>...</td>\n      <td>...</td>\n    </tr>\n    <tr>\n      <th>40397</th>\n      <td>NaN</td>\n      <td>2018-05-05</td>\n      <td>37</td>\n      <td>169.086474</td>\n    </tr>\n    <tr>\n      <th>40398</th>\n      <td>NaN</td>\n      <td>2018-09-29</td>\n      <td>7</td>\n      <td>310.993395</td>\n    </tr>\n    <tr>\n      <th>40399</th>\n      <td>NaN</td>\n      <td>2018-10-31</td>\n      <td>1</td>\n      <td>17.535630</td>\n    </tr>\n    <tr>\n      <th>40400</th>\n      <td>NaN</td>\n      <td>2019-02-16</td>\n      <td>37</td>\n      <td>218.576020</td>\n    </tr>\n    <tr>\n      <th>40401</th>\n      <td>NaN</td>\n      <td>2018-12-15</td>\n      <td>49</td>\n      <td>557.510380</td>\n    </tr>\n  </tbody>\n</table>\n<p>40402 rows × 4 columns</p>\n</div>"
     },
     "execution_count": 173,
     "metadata": {},
     "output_type": "execute_result"
    }
   ],
   "source": [
    "purchases"
   ],
   "metadata": {
    "collapsed": false,
    "ExecuteTime": {
     "end_time": "2023-06-23T14:52:57.687275400Z",
     "start_time": "2023-06-23T14:52:57.660277800Z"
    }
   }
  },
  {
   "cell_type": "code",
   "execution_count": 204,
   "outputs": [],
   "source": [
    "monthly_avg = purchases.pivot_table(values='total_price', index='shop_id', columns=purchases.date.dt.month, aggfunc='mean')"
   ],
   "metadata": {
    "collapsed": false,
    "ExecuteTime": {
     "end_time": "2023-06-23T15:03:37.945074800Z",
     "start_time": "2023-06-23T15:03:37.879079600Z"
    }
   }
  },
  {
   "cell_type": "code",
   "execution_count": 106,
   "outputs": [],
   "source": [
    "from scipy.stats import ttest_ind"
   ],
   "metadata": {
    "collapsed": false,
    "ExecuteTime": {
     "end_time": "2023-06-23T14:14:36.596179900Z",
     "start_time": "2023-06-23T14:14:36.568183300Z"
    }
   }
  },
  {
   "cell_type": "code",
   "execution_count": 208,
   "outputs": [
    {
     "data": {
      "text/plain": "Ttest_relResult(statistic=12.130046456676514, pvalue=2.8875117936923646e-19)"
     },
     "execution_count": 208,
     "metadata": {},
     "output_type": "execute_result"
    }
   ],
   "source": [
    "ttest_rel(monthly_avg[12], monthly_avg[11], alternative='two-sided')"
   ],
   "metadata": {
    "collapsed": false,
    "ExecuteTime": {
     "end_time": "2023-06-23T15:05:07.475171600Z",
     "start_time": "2023-06-23T15:05:07.407158200Z"
    }
   }
  },
  {
   "cell_type": "markdown",
   "id": "dd4a384c",
   "metadata": {
    "id": "dd4a384c"
   },
   "source": [
    "### Problem 10 (autograded)"
   ]
  },
  {
   "cell_type": "markdown",
   "id": "81ff95b8",
   "metadata": {
    "id": "81ff95b8"
   },
   "source": [
    "Now let us investigate customer behaviour. First of all we are interested in the relation between customers' age and their spendings per each purchase. To study this relation, first join tables `purchases` and `customers` in such a way to obtain information on customer's age for each purchase. Call the resulting table `purchases_c`. This table should contain all purchases by the registered customers, but rows that correspond to unregistered customers (not present in `customers`) should be dropped. The resulting table also should contain column `customer_id`."
   ]
  },
  {
   "cell_type": "code",
   "execution_count": 3,
   "outputs": [
    {
     "data": {
      "text/plain": "     customer id   age\n0           1149  71.0\n1            750  21.0\n2            428  36.0\n3            360  38.0\n4            816  51.0\n..           ...   ...\n862         1193  53.0\n863         1155  62.0\n864           21  23.0\n865          468  28.0\n866          562  22.0\n\n[867 rows x 2 columns]",
      "text/html": "<div>\n<style scoped>\n    .dataframe tbody tr th:only-of-type {\n        vertical-align: middle;\n    }\n\n    .dataframe tbody tr th {\n        vertical-align: top;\n    }\n\n    .dataframe thead th {\n        text-align: right;\n    }\n</style>\n<table border=\"1\" class=\"dataframe\">\n  <thead>\n    <tr style=\"text-align: right;\">\n      <th></th>\n      <th>customer id</th>\n      <th>age</th>\n    </tr>\n  </thead>\n  <tbody>\n    <tr>\n      <th>0</th>\n      <td>1149</td>\n      <td>71.0</td>\n    </tr>\n    <tr>\n      <th>1</th>\n      <td>750</td>\n      <td>21.0</td>\n    </tr>\n    <tr>\n      <th>2</th>\n      <td>428</td>\n      <td>36.0</td>\n    </tr>\n    <tr>\n      <th>3</th>\n      <td>360</td>\n      <td>38.0</td>\n    </tr>\n    <tr>\n      <th>4</th>\n      <td>816</td>\n      <td>51.0</td>\n    </tr>\n    <tr>\n      <th>...</th>\n      <td>...</td>\n      <td>...</td>\n    </tr>\n    <tr>\n      <th>862</th>\n      <td>1193</td>\n      <td>53.0</td>\n    </tr>\n    <tr>\n      <th>863</th>\n      <td>1155</td>\n      <td>62.0</td>\n    </tr>\n    <tr>\n      <th>864</th>\n      <td>21</td>\n      <td>23.0</td>\n    </tr>\n    <tr>\n      <th>865</th>\n      <td>468</td>\n      <td>28.0</td>\n    </tr>\n    <tr>\n      <th>866</th>\n      <td>562</td>\n      <td>22.0</td>\n    </tr>\n  </tbody>\n</table>\n<p>867 rows × 2 columns</p>\n</div>"
     },
     "execution_count": 3,
     "metadata": {},
     "output_type": "execute_result"
    }
   ],
   "source": [
    "customers"
   ],
   "metadata": {
    "collapsed": false,
    "ExecuteTime": {
     "end_time": "2023-06-23T13:14:31.304379300Z",
     "start_time": "2023-06-23T13:14:31.235376300Z"
    }
   }
  },
  {
   "cell_type": "code",
   "execution_count": 4,
   "outputs": [
    {
     "data": {
      "text/plain": "       customer_id        date  shop_id  total_price\n0              0.0  2018-05-04       40   289.673291\n1              0.0  2019-01-26       40  1316.898901\n2              0.0  2018-11-18       42   159.414367\n3              0.0  2018-05-12       42   808.791649\n4              0.0  2019-04-20       42  1207.855038\n...            ...         ...      ...          ...\n40397          NaN  2018-05-05       37   169.086474\n40398          NaN  2018-09-29        7   310.993395\n40399          NaN  2018-10-31        1    17.535630\n40400          NaN  2019-02-16       37   218.576020\n40401          NaN  2018-12-15       49   557.510380\n\n[40402 rows x 4 columns]",
      "text/html": "<div>\n<style scoped>\n    .dataframe tbody tr th:only-of-type {\n        vertical-align: middle;\n    }\n\n    .dataframe tbody tr th {\n        vertical-align: top;\n    }\n\n    .dataframe thead th {\n        text-align: right;\n    }\n</style>\n<table border=\"1\" class=\"dataframe\">\n  <thead>\n    <tr style=\"text-align: right;\">\n      <th></th>\n      <th>customer_id</th>\n      <th>date</th>\n      <th>shop_id</th>\n      <th>total_price</th>\n    </tr>\n  </thead>\n  <tbody>\n    <tr>\n      <th>0</th>\n      <td>0.0</td>\n      <td>2018-05-04</td>\n      <td>40</td>\n      <td>289.673291</td>\n    </tr>\n    <tr>\n      <th>1</th>\n      <td>0.0</td>\n      <td>2019-01-26</td>\n      <td>40</td>\n      <td>1316.898901</td>\n    </tr>\n    <tr>\n      <th>2</th>\n      <td>0.0</td>\n      <td>2018-11-18</td>\n      <td>42</td>\n      <td>159.414367</td>\n    </tr>\n    <tr>\n      <th>3</th>\n      <td>0.0</td>\n      <td>2018-05-12</td>\n      <td>42</td>\n      <td>808.791649</td>\n    </tr>\n    <tr>\n      <th>4</th>\n      <td>0.0</td>\n      <td>2019-04-20</td>\n      <td>42</td>\n      <td>1207.855038</td>\n    </tr>\n    <tr>\n      <th>...</th>\n      <td>...</td>\n      <td>...</td>\n      <td>...</td>\n      <td>...</td>\n    </tr>\n    <tr>\n      <th>40397</th>\n      <td>NaN</td>\n      <td>2018-05-05</td>\n      <td>37</td>\n      <td>169.086474</td>\n    </tr>\n    <tr>\n      <th>40398</th>\n      <td>NaN</td>\n      <td>2018-09-29</td>\n      <td>7</td>\n      <td>310.993395</td>\n    </tr>\n    <tr>\n      <th>40399</th>\n      <td>NaN</td>\n      <td>2018-10-31</td>\n      <td>1</td>\n      <td>17.535630</td>\n    </tr>\n    <tr>\n      <th>40400</th>\n      <td>NaN</td>\n      <td>2019-02-16</td>\n      <td>37</td>\n      <td>218.576020</td>\n    </tr>\n    <tr>\n      <th>40401</th>\n      <td>NaN</td>\n      <td>2018-12-15</td>\n      <td>49</td>\n      <td>557.510380</td>\n    </tr>\n  </tbody>\n</table>\n<p>40402 rows × 4 columns</p>\n</div>"
     },
     "execution_count": 4,
     "metadata": {},
     "output_type": "execute_result"
    }
   ],
   "source": [
    "purchases"
   ],
   "metadata": {
    "collapsed": false,
    "ExecuteTime": {
     "end_time": "2023-06-23T13:14:41.514409900Z",
     "start_time": "2023-06-23T13:14:41.452410200Z"
    }
   }
  },
  {
   "cell_type": "code",
   "execution_count": 7,
   "id": "68423746",
   "metadata": {
    "deletable": false,
    "id": "68423746",
    "nbgrader": {
     "cell_type": "code",
     "checksum": "abf7a39dca4346110f1ce21ee7f1d05b",
     "grade": false,
     "grade_id": "cell-def585989383682a",
     "locked": false,
     "schema_version": 3,
     "solution": true,
     "task": false
    },
    "ExecuteTime": {
     "end_time": "2023-06-23T13:15:50.652573Z",
     "start_time": "2023-06-23T13:15:50.614574900Z"
    }
   },
   "outputs": [],
   "source": [
    "customers = customers.rename(columns={'customer id': 'customer_id'})"
   ]
  },
  {
   "cell_type": "code",
   "execution_count": 16,
   "outputs": [],
   "source": [
    "purchases_c = pd.merge(purchases, customers, how='right')"
   ],
   "metadata": {
    "collapsed": false,
    "ExecuteTime": {
     "end_time": "2023-06-23T13:18:15.075159700Z",
     "start_time": "2023-06-23T13:18:14.994163600Z"
    }
   }
  },
  {
   "cell_type": "code",
   "execution_count": 17,
   "outputs": [],
   "source": [
    "customers  = customers.rename(columns={'customer_id': 'customer id'})"
   ],
   "metadata": {
    "collapsed": false,
    "ExecuteTime": {
     "end_time": "2023-06-23T13:18:31.291685600Z",
     "start_time": "2023-06-23T13:18:31.245684700Z"
    }
   }
  },
  {
   "cell_type": "code",
   "execution_count": 19,
   "id": "78a2682f",
   "metadata": {
    "deletable": false,
    "editable": false,
    "id": "78a2682f",
    "nbgrader": {
     "cell_type": "code",
     "checksum": "d4ead409d4eb3d8756ddaaa216f14b9e",
     "grade": true,
     "grade_id": "cell-27f4df593483d1bc",
     "locked": true,
     "points": 1,
     "schema_version": 3,
     "solution": false,
     "task": false
    },
    "ExecuteTime": {
     "end_time": "2023-06-23T13:18:35.419081600Z",
     "start_time": "2023-06-23T13:18:35.335083600Z"
    }
   },
   "outputs": [],
   "source": [
    "assert (\n",
    "    purchases_c[lambda x: x[\"customer_id\"] == 123][\"age\"]\n",
    "    == customers.set_index(\"customer id\").loc[123][\"age\"]\n",
    ").all()\n",
    "assert (\n",
    "    purchases_c[lambda x: x[\"customer_id\"] == 12][\"age\"]\n",
    "    == customers.set_index(\"customer id\").loc[12][\"age\"]\n",
    ").all()\n",
    "assert sum(purchases_c[\"customer_id\"]) == 17548008.0"
   ]
  },
  {
   "cell_type": "markdown",
   "id": "2ba6e081",
   "metadata": {
    "id": "2ba6e081"
   },
   "source": [
    "### Problem 11 (autograded)"
   ]
  },
  {
   "cell_type": "code",
   "execution_count": 226,
   "id": "a6c429be",
   "metadata": {
    "id": "a6c429be",
    "ExecuteTime": {
     "end_time": "2023-06-23T15:24:45.881959100Z",
     "start_time": "2023-06-23T15:24:45.825958100Z"
    }
   },
   "outputs": [
    {
     "data": {
      "text/plain": "       customer_id        date  shop_id  total_price   age\n0           1149.0  2019-05-15       60    40.143994  71.0\n1           1149.0  2018-06-14       60   307.206163  71.0\n2           1149.0  2018-09-23        4  1327.170365  71.0\n3           1149.0  2018-07-04       22   151.766925  71.0\n4           1149.0  2018-09-20       60   140.601729  71.0\n...            ...         ...      ...          ...   ...\n28794        562.0  2019-05-11       74   592.305574  22.0\n28795        562.0  2018-12-08       74   232.074279  22.0\n28796        562.0  2018-12-16       74  1075.034721  22.0\n28797        562.0  2018-11-04       29   431.440952  22.0\n28798        562.0  2018-09-07       73    91.104236  22.0\n\n[28799 rows x 5 columns]",
      "text/html": "<div>\n<style scoped>\n    .dataframe tbody tr th:only-of-type {\n        vertical-align: middle;\n    }\n\n    .dataframe tbody tr th {\n        vertical-align: top;\n    }\n\n    .dataframe thead th {\n        text-align: right;\n    }\n</style>\n<table border=\"1\" class=\"dataframe\">\n  <thead>\n    <tr style=\"text-align: right;\">\n      <th></th>\n      <th>customer_id</th>\n      <th>date</th>\n      <th>shop_id</th>\n      <th>total_price</th>\n      <th>age</th>\n    </tr>\n  </thead>\n  <tbody>\n    <tr>\n      <th>0</th>\n      <td>1149.0</td>\n      <td>2019-05-15</td>\n      <td>60</td>\n      <td>40.143994</td>\n      <td>71.0</td>\n    </tr>\n    <tr>\n      <th>1</th>\n      <td>1149.0</td>\n      <td>2018-06-14</td>\n      <td>60</td>\n      <td>307.206163</td>\n      <td>71.0</td>\n    </tr>\n    <tr>\n      <th>2</th>\n      <td>1149.0</td>\n      <td>2018-09-23</td>\n      <td>4</td>\n      <td>1327.170365</td>\n      <td>71.0</td>\n    </tr>\n    <tr>\n      <th>3</th>\n      <td>1149.0</td>\n      <td>2018-07-04</td>\n      <td>22</td>\n      <td>151.766925</td>\n      <td>71.0</td>\n    </tr>\n    <tr>\n      <th>4</th>\n      <td>1149.0</td>\n      <td>2018-09-20</td>\n      <td>60</td>\n      <td>140.601729</td>\n      <td>71.0</td>\n    </tr>\n    <tr>\n      <th>...</th>\n      <td>...</td>\n      <td>...</td>\n      <td>...</td>\n      <td>...</td>\n      <td>...</td>\n    </tr>\n    <tr>\n      <th>28794</th>\n      <td>562.0</td>\n      <td>2019-05-11</td>\n      <td>74</td>\n      <td>592.305574</td>\n      <td>22.0</td>\n    </tr>\n    <tr>\n      <th>28795</th>\n      <td>562.0</td>\n      <td>2018-12-08</td>\n      <td>74</td>\n      <td>232.074279</td>\n      <td>22.0</td>\n    </tr>\n    <tr>\n      <th>28796</th>\n      <td>562.0</td>\n      <td>2018-12-16</td>\n      <td>74</td>\n      <td>1075.034721</td>\n      <td>22.0</td>\n    </tr>\n    <tr>\n      <th>28797</th>\n      <td>562.0</td>\n      <td>2018-11-04</td>\n      <td>29</td>\n      <td>431.440952</td>\n      <td>22.0</td>\n    </tr>\n    <tr>\n      <th>28798</th>\n      <td>562.0</td>\n      <td>2018-09-07</td>\n      <td>73</td>\n      <td>91.104236</td>\n      <td>22.0</td>\n    </tr>\n  </tbody>\n</table>\n<p>28799 rows × 5 columns</p>\n</div>"
     },
     "execution_count": 226,
     "metadata": {},
     "output_type": "execute_result"
    }
   ],
   "source": [
    "purchases_c"
   ]
  },
  {
   "cell_type": "markdown",
   "id": "dcbb0858",
   "metadata": {
    "deletable": false,
    "editable": false,
    "id": "dcbb0858",
    "nbgrader": {
     "cell_type": "markdown",
     "checksum": "042b595cac81946a0f0c353720271f0f",
     "grade": false,
     "grade_id": "cell-9b665eced0f53414",
     "locked": true,
     "schema_version": 3,
     "solution": false,
     "task": false
    }
   },
   "source": [
    "To visualize the relation between customer's age and their spendings, we have to transform our table in such a way that one observation (row) corresponds to one customer. Let us do it by groupping and aggregating. Transform table `purchases_c` to find average `total_price` for each customer and keep column `age`. Indexes of the new dataframe should be customer id's. Put the resulting dataframe to variable `purchases_c_mean`.\n"
   ]
  },
  {
   "cell_type": "code",
   "execution_count": 227,
   "id": "d65a057b",
   "metadata": {
    "deletable": false,
    "id": "d65a057b",
    "nbgrader": {
     "cell_type": "code",
     "checksum": "b47c7611a58e4be2be36917918eae735",
     "grade": false,
     "grade_id": "cell-e76268ef19a434d2",
     "locked": false,
     "schema_version": 3,
     "solution": true,
     "task": false
    },
    "ExecuteTime": {
     "end_time": "2023-06-23T15:24:48.567470400Z",
     "start_time": "2023-06-23T15:24:48.543947900Z"
    }
   },
   "outputs": [],
   "source": [
    "purchases_c_mean = purchases_c.groupby(['customer_id', 'age'])['total_price'].mean().reset_index(level='age')"
   ]
  },
  {
   "cell_type": "code",
   "execution_count": 228,
   "id": "e0c7b774",
   "metadata": {
    "id": "e0c7b774",
    "ExecuteTime": {
     "end_time": "2023-06-23T15:24:49.667934500Z",
     "start_time": "2023-06-23T15:24:49.605941500Z"
    }
   },
   "outputs": [],
   "source": [
    "assert (\n",
    "    round(purchases_c_mean.loc[12][\"total_price\"] - purchases_c.query(\"customer_id == 12\")[\"total_price\"].mean(), 6) == 0\n",
    ")\n",
    "assert (\n",
    "    purchases_c_mean.loc[125][\"total_price\"]\n",
    "    == purchases_c.query(\"customer_id == 125\")[\"total_price\"].mean()\n",
    ")"
   ]
  },
  {
   "cell_type": "markdown",
   "id": "eafce501",
   "metadata": {
    "id": "eafce501"
   },
   "source": [
    "### Problem 12 (quiz)\n",
    "Use dataframe `purchases_c_mean` to visualize the relation between customer's `age` (horizontal axis) and their average `total_price` (vertical axis)."
   ]
  },
  {
   "cell_type": "code",
   "execution_count": 47,
   "id": "7729114f",
   "metadata": {
    "deletable": false,
    "id": "7729114f",
    "nbgrader": {
     "cell_type": "code",
     "checksum": "f0afe28e37a50a0a710fe4cd37d21568",
     "grade": false,
     "grade_id": "cell-74bf2c586a384ceb",
     "locked": false,
     "schema_version": 3,
     "solution": true,
     "task": false
    },
    "ExecuteTime": {
     "end_time": "2023-06-23T13:28:31.387241400Z",
     "start_time": "2023-06-23T13:28:31.105241700Z"
    }
   },
   "outputs": [
    {
     "data": {
      "text/plain": "<AxesSubplot: xlabel='age', ylabel='total_price'>"
     },
     "execution_count": 47,
     "metadata": {},
     "output_type": "execute_result"
    },
    {
     "data": {
      "text/plain": "<Figure size 640x480 with 1 Axes>",
      "image/png": "[encoded data removed]"
     },
     "metadata": {},
     "output_type": "display_data"
    }
   ],
   "source": [
    "sns.scatterplot(purchases_c_mean, x='age', y='total_price')"
   ]
  },
  {
   "cell_type": "markdown",
   "id": "c3800da6",
   "metadata": {
    "id": "c3800da6"
   },
   "source": [
    "### Problem 13 (quiz)\n",
    "Find Pearson's correlation coefficient between age and total price."
   ]
  },
  {
   "cell_type": "code",
   "execution_count": 50,
   "id": "0a46ecc0",
   "metadata": {
    "deletable": false,
    "id": "0a46ecc0",
    "nbgrader": {
     "cell_type": "code",
     "checksum": "b11e48fed0bd437a7f13cf6d44e474bb",
     "grade": false,
     "grade_id": "cell-b49d12358f261cf2",
     "locked": false,
     "schema_version": 3,
     "solution": true,
     "task": false
    },
    "ExecuteTime": {
     "end_time": "2023-06-23T13:32:31.567608100Z",
     "start_time": "2023-06-23T13:32:31.518609200Z"
    }
   },
   "outputs": [
    {
     "data": {
      "text/plain": "                  age  total_price\nage          1.000000     0.165395\ntotal_price  0.165395     1.000000",
      "text/html": "<div>\n<style scoped>\n    .dataframe tbody tr th:only-of-type {\n        vertical-align: middle;\n    }\n\n    .dataframe tbody tr th {\n        vertical-align: top;\n    }\n\n    .dataframe thead th {\n        text-align: right;\n    }\n</style>\n<table border=\"1\" class=\"dataframe\">\n  <thead>\n    <tr style=\"text-align: right;\">\n      <th></th>\n      <th>age</th>\n      <th>total_price</th>\n    </tr>\n  </thead>\n  <tbody>\n    <tr>\n      <th>age</th>\n      <td>1.000000</td>\n      <td>0.165395</td>\n    </tr>\n    <tr>\n      <th>total_price</th>\n      <td>0.165395</td>\n      <td>1.000000</td>\n    </tr>\n  </tbody>\n</table>\n</div>"
     },
     "execution_count": 50,
     "metadata": {},
     "output_type": "execute_result"
    }
   ],
   "source": [
    "purchases_c_mean.corr(method='pearson')"
   ]
  },
  {
   "cell_type": "markdown",
   "id": "e2025916",
   "metadata": {
    "id": "e2025916"
   },
   "source": [
    "### Problem 14 (quiz)\n",
    "We found correlation in the data present on the previous step and made some conclusions based on this data. However, we have to make sure that we can generalize our conclusion to the corresponding population. To do it, let us perform a statistical test of the significance of correlation. This can be done with `scipy.stats.pearsonr`. However, our data contains `NaN`'s in column `age` (there are registered customers with unknown age). Use method `.dropna()` to remove such rows from the dataset, then perform statistical testing with `pearsonr`. This function returns a two-tuple: first value is correlation coefficient and the second is p-value that corresponds to a test where the null hypothesis is that the correlation in population is zero."
   ]
  },
  {
   "cell_type": "code",
   "execution_count": 51,
   "outputs": [],
   "source": [
    "import scipy.stats"
   ],
   "metadata": {
    "collapsed": false,
    "ExecuteTime": {
     "end_time": "2023-06-23T13:34:59.898080800Z",
     "start_time": "2023-06-23T13:34:59.871082100Z"
    }
   }
  },
  {
   "cell_type": "code",
   "execution_count": 52,
   "id": "7dc5fc0e",
   "metadata": {
    "deletable": false,
    "id": "7dc5fc0e",
    "nbgrader": {
     "cell_type": "code",
     "checksum": "0f81fc43f64af9bac8d795be5cc662ce",
     "grade": false,
     "grade_id": "cell-952ef9e07ecc7e07",
     "locked": false,
     "schema_version": 3,
     "solution": true,
     "task": false
    },
    "ExecuteTime": {
     "end_time": "2023-06-23T13:35:48.662730300Z",
     "start_time": "2023-06-23T13:35:48.609732800Z"
    }
   },
   "outputs": [
    {
     "data": {
      "text/plain": "PearsonRResult(statistic=0.16539508120771934, pvalue=1.8110789103304215e-06)"
     },
     "execution_count": 52,
     "metadata": {},
     "output_type": "execute_result"
    }
   ],
   "source": [
    "scipy.stats.pearsonr(x=purchases_c_mean['age'], y=purchases_c_mean['total_price'])"
   ]
  },
  {
   "cell_type": "markdown",
   "id": "74a231e9",
   "metadata": {
    "id": "74a231e9"
   },
   "source": [
    "### Problem 15 (autograded)\n",
    "Now we are going to do the main investigation. We want to understand how special offers in our shops affect customers' behaviour. To do it, we have to identify those purchases that are made during special offers. This can be a bit tricky: for each purchase we know its date and shop id. For each shop we also know the dates of all special offers (there can be several). So for each purchase we have to compare its date with dates of all offers that took place in the corresponding shop.\n",
    "\n",
    "As a first step, let us try to join `purchases_c` with `shops`. Name this table `full_df_preliminary`."
   ]
  },
  {
   "cell_type": "code",
   "execution_count": 225,
   "outputs": [
    {
     "data": {
      "text/plain": "     shop_id offer_begin   offer_end\n0          0  2019-02-28  2019-03-13\n1          0  2018-07-22  2018-08-10\n2          0  2018-09-21  2018-09-27\n3          1         NaN         NaN\n4          2         NaN         NaN\n..       ...         ...         ...\n178       72  2018-05-07  2018-05-26\n179       73  2019-05-08  2019-06-11\n180       74  2018-09-14  2018-10-12\n181       74  2018-12-08  2019-01-10\n182       74  2018-08-22  2018-08-28\n\n[183 rows x 3 columns]",
      "text/html": "<div>\n<style scoped>\n    .dataframe tbody tr th:only-of-type {\n        vertical-align: middle;\n    }\n\n    .dataframe tbody tr th {\n        vertical-align: top;\n    }\n\n    .dataframe thead th {\n        text-align: right;\n    }\n</style>\n<table border=\"1\" class=\"dataframe\">\n  <thead>\n    <tr style=\"text-align: right;\">\n      <th></th>\n      <th>shop_id</th>\n      <th>offer_begin</th>\n      <th>offer_end</th>\n    </tr>\n  </thead>\n  <tbody>\n    <tr>\n      <th>0</th>\n      <td>0</td>\n      <td>2019-02-28</td>\n      <td>2019-03-13</td>\n    </tr>\n    <tr>\n      <th>1</th>\n      <td>0</td>\n      <td>2018-07-22</td>\n      <td>2018-08-10</td>\n    </tr>\n    <tr>\n      <th>2</th>\n      <td>0</td>\n      <td>2018-09-21</td>\n      <td>2018-09-27</td>\n    </tr>\n    <tr>\n      <th>3</th>\n      <td>1</td>\n      <td>NaN</td>\n      <td>NaN</td>\n    </tr>\n    <tr>\n      <th>4</th>\n      <td>2</td>\n      <td>NaN</td>\n      <td>NaN</td>\n    </tr>\n    <tr>\n      <th>...</th>\n      <td>...</td>\n      <td>...</td>\n      <td>...</td>\n    </tr>\n    <tr>\n      <th>178</th>\n      <td>72</td>\n      <td>2018-05-07</td>\n      <td>2018-05-26</td>\n    </tr>\n    <tr>\n      <th>179</th>\n      <td>73</td>\n      <td>2019-05-08</td>\n      <td>2019-06-11</td>\n    </tr>\n    <tr>\n      <th>180</th>\n      <td>74</td>\n      <td>2018-09-14</td>\n      <td>2018-10-12</td>\n    </tr>\n    <tr>\n      <th>181</th>\n      <td>74</td>\n      <td>2018-12-08</td>\n      <td>2019-01-10</td>\n    </tr>\n    <tr>\n      <th>182</th>\n      <td>74</td>\n      <td>2018-08-22</td>\n      <td>2018-08-28</td>\n    </tr>\n  </tbody>\n</table>\n<p>183 rows × 3 columns</p>\n</div>"
     },
     "execution_count": 225,
     "metadata": {},
     "output_type": "execute_result"
    }
   ],
   "source": [
    "shops"
   ],
   "metadata": {
    "collapsed": false,
    "ExecuteTime": {
     "end_time": "2023-06-23T15:23:30.615209900Z",
     "start_time": "2023-06-23T15:23:30.592212900Z"
    }
   }
  },
  {
   "cell_type": "code",
   "execution_count": 229,
   "id": "66c62908",
   "metadata": {
    "deletable": false,
    "id": "66c62908",
    "nbgrader": {
     "cell_type": "code",
     "checksum": "cda72a732691ee3528a79d4c9eb4e809",
     "grade": false,
     "grade_id": "cell-3202f7f2e9be6c36",
     "locked": false,
     "schema_version": 3,
     "solution": true,
     "task": false
    },
    "ExecuteTime": {
     "end_time": "2023-06-23T15:24:54.568088800Z",
     "start_time": "2023-06-23T15:24:54.503932100Z"
    }
   },
   "outputs": [],
   "source": [
    "full_df_preliminary = purchases_c.merge(shops, how='left', on='shop_id')"
   ]
  },
  {
   "cell_type": "code",
   "execution_count": 230,
   "id": "e4d43263",
   "metadata": {
    "deletable": false,
    "editable": false,
    "id": "e4d43263",
    "nbgrader": {
     "cell_type": "code",
     "checksum": "e638ccfb467cd7758d68cc80d186f2f4",
     "grade": true,
     "grade_id": "cell-36bc4666e56a90b9",
     "locked": true,
     "points": 1,
     "schema_version": 3,
     "solution": false,
     "task": false
    },
    "ExecuteTime": {
     "end_time": "2023-06-23T15:24:55.832625100Z",
     "start_time": "2023-06-23T15:24:55.769629Z"
    }
   },
   "outputs": [],
   "source": [
    "assert (\n",
    "    full_df_preliminary.query('date == \"2019-04-24\" and customer_id == 555.0')[\n",
    "        \"offer_begin\"\n",
    "    ].iloc[0]\n",
    "    == \"2018-08-15\"\n",
    ")\n",
    "assert (\n",
    "    full_df_preliminary.query('date == \"2018-08-24\" and customer_id == 686.0').max()[\n",
    "        \"offer_end\"\n",
    "    ]\n",
    "    == \"2019-01-21\"\n",
    ")"
   ]
  },
  {
   "cell_type": "markdown",
   "id": "ac861b9f",
   "metadata": {
    "id": "ac861b9f"
   },
   "source": [
    "### Problem 16 (autograded)\n",
    "Let us investigate the table `full_df_preliminary`. Each row of this table corresponds to some purchase. However, for some shops we have several special offers and therefore several rows in the table `shops`. During the join each purchase is joined to all rows of `shops` that correspond to a particular shop. Therefore, purchases are duplicated, and we lost information on which rows in `full_df_preliminary` correspond to which purchase. (For example, the last two rows seem to correspond to the same purchase, but can we be sure?) This is due to the fact that table `purchases_c` don't have any explicit column with purchase identifier. Let us add it. As each row of `purchases_c` corresponds to exactly one purchase, table index can work as such an identifier. To create a column that coincides with the index one can use method `.reset_index()`.\n",
    "\n",
    "Apply `.reset_index()` to `purchases_c`, then repeat the join from the previous problem. Name the resulting dataframe `full_df`."
   ]
  },
  {
   "cell_type": "code",
   "execution_count": 66,
   "id": "968c0c51",
   "metadata": {
    "deletable": false,
    "id": "968c0c51",
    "nbgrader": {
     "cell_type": "code",
     "checksum": "a80817f7bdfdd9e938890d1bc2052c7a",
     "grade": false,
     "grade_id": "cell-8414788809192d4e",
     "locked": false,
     "schema_version": 3,
     "solution": true,
     "task": false
    },
    "ExecuteTime": {
     "end_time": "2023-06-23T13:42:35.670812900Z",
     "start_time": "2023-06-23T13:42:35.604364Z"
    }
   },
   "outputs": [],
   "source": [
    "full_df = purchases_c.reset_index().merge(shops, how='left', on='shop_id')"
   ]
  },
  {
   "cell_type": "code",
   "execution_count": 67,
   "id": "f10c85e6",
   "metadata": {
    "deletable": false,
    "editable": false,
    "id": "f10c85e6",
    "nbgrader": {
     "cell_type": "code",
     "checksum": "f015cc3e9b8370425cdaf4ad4b395946",
     "grade": true,
     "grade_id": "cell-484af97a03241903",
     "locked": true,
     "points": 1,
     "schema_version": 3,
     "solution": false,
     "task": false
    },
    "ExecuteTime": {
     "end_time": "2023-06-23T13:42:36.924083300Z",
     "start_time": "2023-06-23T13:42:36.859087300Z"
    }
   },
   "outputs": [],
   "source": [
    "assert (\n",
    "    full_df.query(\"index == 1207\")\n",
    "    .iloc[0][[\"customer_id\", \"date\", \"shop_id\", \"total_price\"]]\n",
    "    .equals(purchases_c.loc[1207][[\"customer_id\", \"date\", \"shop_id\", \"total_price\"]])\n",
    ")"
   ]
  },
  {
   "cell_type": "markdown",
   "id": "bfcd65fb",
   "metadata": {
    "id": "bfcd65fb"
   },
   "source": [
    "### Problem 17 (autograded)\n",
    "Now we need to check for each purchase, did it happen during any of the special offers or not. In the dataset `full_df`, each row relates some purchase with some special offer that happened in the same shop as a purchase. Let us check, is it true that this purchase happened during the corresponding offer? Add a column `offer` that contains values `True` or `False` that answer this question. To do so, we have to compare the value in column `date` with values in columns `offer_begin` and `offer_end`. Let us assume that `offer_end` is the last day of the offer (so the offer still holds during this day). Name the corresponding dataframe `full_df_offer`. Note that you can compare between dates, but not between dates and strings. Convert your data appropriately.\n"
   ]
  },
  {
   "cell_type": "code",
   "execution_count": 71,
   "id": "d30311dd",
   "metadata": {
    "deletable": false,
    "id": "d30311dd",
    "nbgrader": {
     "cell_type": "code",
     "checksum": "dab09ca4900bbd3158d262c74fe1734e",
     "grade": false,
     "grade_id": "cell-72280e238346d5dc",
     "locked": false,
     "schema_version": 3,
     "solution": true,
     "task": false
    },
    "ExecuteTime": {
     "end_time": "2023-06-23T13:46:31.400789400Z",
     "start_time": "2023-06-23T13:46:31.343790600Z"
    }
   },
   "outputs": [],
   "source": [
    "full_df_offer = full_df.assign(offer=(full_df['date'] >= full_df['offer_begin']) & (full_df['date'] <= full_df['offer_end']))"
   ]
  },
  {
   "cell_type": "code",
   "execution_count": 72,
   "id": "4d7d09fd",
   "metadata": {
    "deletable": false,
    "editable": false,
    "id": "4d7d09fd",
    "nbgrader": {
     "cell_type": "code",
     "checksum": "5bc3c6253b86389489682486f3909035",
     "grade": true,
     "grade_id": "cell-158644e2bb557078",
     "locked": true,
     "points": 2,
     "schema_version": 3,
     "solution": false,
     "task": false
    },
    "ExecuteTime": {
     "end_time": "2023-06-23T13:46:34.217103Z",
     "start_time": "2023-06-23T13:46:33.693101900Z"
    }
   },
   "outputs": [],
   "source": [
    "from itertools import islice\n",
    "\n",
    "for _, row in islice(full_df_offer.iterrows(), 0, 1000):\n",
    "    assert (\n",
    "        (pd.to_datetime(row[\"date\"]) >= pd.to_datetime(row[\"offer_begin\"]))\n",
    "        & (pd.to_datetime(row[\"date\"]) <= pd.to_datetime(row[\"offer_end\"]))\n",
    "    ) == row[\"offer\"]"
   ]
  },
  {
   "cell_type": "markdown",
   "id": "2a2d0fe6",
   "metadata": {
    "id": "2a2d0fe6"
   },
   "source": [
    "### Almost here\n",
    "Now we have a table that contains information on whether a particular purchase happened during a particular special offer. What we need is a new table that contains information on whether a particular purchase happened during *any* relevant special offer. This can be done by grouping and aggregating. Basically, we need to group our table by column `index` that contains a purchase identifier and apply a special aggregation function `any` to column `offer`. This function checks if there is any `True` element in a group and returns `True` in this case, otherwise (everything is `False`) it returns false. Also, we have to keep all other columns that are related to purchases as is. They are duplicated in the group, so we can just get the first value. This is done by the aggregation function `first`. To apply these functions to different columns, we have to pass a dictionary to method `.agg`. Let's see what's happening.\n"
   ]
  },
  {
   "cell_type": "code",
   "execution_count": 75,
   "outputs": [],
   "source": [
    "full_df_offer['date'] = pd.to_datetime(full_df_offer['date'])"
   ],
   "metadata": {
    "collapsed": false,
    "ExecuteTime": {
     "end_time": "2023-06-23T13:49:18.359147900Z",
     "start_time": "2023-06-23T13:49:18.307149200Z"
    }
   }
  },
  {
   "cell_type": "code",
   "execution_count": 76,
   "outputs": [],
   "source": [
    "full_df_offer['month'] = full_df_offer['date'].dt.month"
   ],
   "metadata": {
    "collapsed": false,
    "ExecuteTime": {
     "end_time": "2023-06-23T13:49:21.056107600Z",
     "start_time": "2023-06-23T13:49:21.022109400Z"
    }
   }
  },
  {
   "cell_type": "code",
   "execution_count": 77,
   "id": "b601d6b3",
   "metadata": {
    "id": "b601d6b3",
    "ExecuteTime": {
     "end_time": "2023-06-23T13:49:25.979185700Z",
     "start_time": "2023-06-23T13:49:25.918187600Z"
    }
   },
   "outputs": [
    {
     "data": {
      "text/plain": "       customer_id       date  shop_id  total_price  month   age  offer\nindex                                                                  \n0           1149.0 2019-05-15       60    40.143994      5  71.0  False\n1           1149.0 2018-06-14       60   307.206163      6  71.0  False\n2           1149.0 2018-09-23        4  1327.170365      9  71.0   True\n3           1149.0 2018-07-04       22   151.766925      7  71.0  False\n4           1149.0 2018-09-20       60   140.601729      9  71.0  False\n...            ...        ...      ...          ...    ...   ...    ...\n28794        562.0 2019-05-11       74   592.305574      5  22.0  False\n28795        562.0 2018-12-08       74   232.074279     12  22.0   True\n28796        562.0 2018-12-16       74  1075.034721     12  22.0   True\n28797        562.0 2018-11-04       29   431.440952     11  22.0  False\n28798        562.0 2018-09-07       73    91.104236      9  22.0  False\n\n[28799 rows x 7 columns]",
      "text/html": "<div>\n<style scoped>\n    .dataframe tbody tr th:only-of-type {\n        vertical-align: middle;\n    }\n\n    .dataframe tbody tr th {\n        vertical-align: top;\n    }\n\n    .dataframe thead th {\n        text-align: right;\n    }\n</style>\n<table border=\"1\" class=\"dataframe\">\n  <thead>\n    <tr style=\"text-align: right;\">\n      <th></th>\n      <th>customer_id</th>\n      <th>date</th>\n      <th>shop_id</th>\n      <th>total_price</th>\n      <th>month</th>\n      <th>age</th>\n      <th>offer</th>\n    </tr>\n    <tr>\n      <th>index</th>\n      <th></th>\n      <th></th>\n      <th></th>\n      <th></th>\n      <th></th>\n      <th></th>\n      <th></th>\n    </tr>\n  </thead>\n  <tbody>\n    <tr>\n      <th>0</th>\n      <td>1149.0</td>\n      <td>2019-05-15</td>\n      <td>60</td>\n      <td>40.143994</td>\n      <td>5</td>\n      <td>71.0</td>\n      <td>False</td>\n    </tr>\n    <tr>\n      <th>1</th>\n      <td>1149.0</td>\n      <td>2018-06-14</td>\n      <td>60</td>\n      <td>307.206163</td>\n      <td>6</td>\n      <td>71.0</td>\n      <td>False</td>\n    </tr>\n    <tr>\n      <th>2</th>\n      <td>1149.0</td>\n      <td>2018-09-23</td>\n      <td>4</td>\n      <td>1327.170365</td>\n      <td>9</td>\n      <td>71.0</td>\n      <td>True</td>\n    </tr>\n    <tr>\n      <th>3</th>\n      <td>1149.0</td>\n      <td>2018-07-04</td>\n      <td>22</td>\n      <td>151.766925</td>\n      <td>7</td>\n      <td>71.0</td>\n      <td>False</td>\n    </tr>\n    <tr>\n      <th>4</th>\n      <td>1149.0</td>\n      <td>2018-09-20</td>\n      <td>60</td>\n      <td>140.601729</td>\n      <td>9</td>\n      <td>71.0</td>\n      <td>False</td>\n    </tr>\n    <tr>\n      <th>...</th>\n      <td>...</td>\n      <td>...</td>\n      <td>...</td>\n      <td>...</td>\n      <td>...</td>\n      <td>...</td>\n      <td>...</td>\n    </tr>\n    <tr>\n      <th>28794</th>\n      <td>562.0</td>\n      <td>2019-05-11</td>\n      <td>74</td>\n      <td>592.305574</td>\n      <td>5</td>\n      <td>22.0</td>\n      <td>False</td>\n    </tr>\n    <tr>\n      <th>28795</th>\n      <td>562.0</td>\n      <td>2018-12-08</td>\n      <td>74</td>\n      <td>232.074279</td>\n      <td>12</td>\n      <td>22.0</td>\n      <td>True</td>\n    </tr>\n    <tr>\n      <th>28796</th>\n      <td>562.0</td>\n      <td>2018-12-16</td>\n      <td>74</td>\n      <td>1075.034721</td>\n      <td>12</td>\n      <td>22.0</td>\n      <td>True</td>\n    </tr>\n    <tr>\n      <th>28797</th>\n      <td>562.0</td>\n      <td>2018-11-04</td>\n      <td>29</td>\n      <td>431.440952</td>\n      <td>11</td>\n      <td>22.0</td>\n      <td>False</td>\n    </tr>\n    <tr>\n      <th>28798</th>\n      <td>562.0</td>\n      <td>2018-09-07</td>\n      <td>73</td>\n      <td>91.104236</td>\n      <td>9</td>\n      <td>22.0</td>\n      <td>False</td>\n    </tr>\n  </tbody>\n</table>\n<p>28799 rows × 7 columns</p>\n</div>"
     },
     "execution_count": 77,
     "metadata": {},
     "output_type": "execute_result"
    }
   ],
   "source": [
    "purchases_offer = full_df_offer.groupby(\"index\").agg(\n",
    "    {\n",
    "        \"customer_id\": \"first\",\n",
    "        \"date\": \"first\",\n",
    "        \"shop_id\": \"first\",\n",
    "        \"total_price\": \"first\",\n",
    "        \"month\": \"first\",\n",
    "        \"age\": \"first\",\n",
    "        \"offer\": \"any\",\n",
    "    }\n",
    ")\n",
    "purchases_offer"
   ]
  },
  {
   "cell_type": "markdown",
   "id": "90e699dd",
   "metadata": {
    "id": "90e699dd"
   },
   "source": [
    "### Problem 18 (quiz)\n",
    "Do people tend to spend more money when they make a purchase during a special offer? Let's check it!\n",
    "\n",
    "First of all, we know that during December people spend more money in shops due to holidays and at the time shops usually announce more special offers during December. As we are interested in the effect of special offers alone, let us remove all purchases that happened during December.\n",
    "\n",
    "Then create a table which rows are customers that contains two columns: in one column we have average of all prices of purchases that were made during special offers, and in the second the same for purchases that were not made during special offers. Drop all rows that contain `NaN`'s. Then apply an appropriate statistical test to check if there is any statistically significant difference between these columns. Use two-sided alternative.\n",
    "\n",
    "\n"
   ]
  },
  {
   "cell_type": "code",
   "execution_count": 216,
   "id": "e1314ed2",
   "metadata": {
    "deletable": false,
    "id": "e1314ed2",
    "nbgrader": {
     "cell_type": "code",
     "checksum": "0f9347b258c3a90a7b22ef3831687ff5",
     "grade": false,
     "grade_id": "cell-ba9d2b1c164cb3e5",
     "locked": false,
     "schema_version": 3,
     "solution": true,
     "task": false
    },
    "ExecuteTime": {
     "end_time": "2023-06-23T15:11:22.866312600Z",
     "start_time": "2023-06-23T15:11:22.843316200Z"
    }
   },
   "outputs": [],
   "source": [
    "dec_purc_offer = purchases_offer[purchases_offer['month'] != 12]"
   ]
  },
  {
   "cell_type": "code",
   "execution_count": 218,
   "id": "99de0ccc",
   "metadata": {
    "id": "99de0ccc",
    "ExecuteTime": {
     "end_time": "2023-06-23T15:11:42.040176800Z",
     "start_time": "2023-06-23T15:11:41.986458700Z"
    }
   },
   "outputs": [
    {
     "data": {
      "text/plain": "Index([False, True], dtype='bool', name='offer')"
     },
     "execution_count": 218,
     "metadata": {},
     "output_type": "execute_result"
    }
   ],
   "source": [
    "final_table = dec_purc_offer.pivot_table(values='total_price', index='shop_id', columns='offer', aggfunc='mean').dropna(axis=0)\n",
    "final_table.columns"
   ]
  },
  {
   "cell_type": "code",
   "execution_count": 222,
   "outputs": [
    {
     "data": {
      "text/plain": "Ttest_indResult(statistic=9.182078369004055, pvalue=7.64260962661313e-16)"
     },
     "execution_count": 222,
     "metadata": {},
     "output_type": "execute_result"
    }
   ],
   "source": [
    "ttest_ind(final_table[True], final_table[False])"
   ],
   "metadata": {
    "collapsed": false,
    "ExecuteTime": {
     "end_time": "2023-06-23T15:12:24.210089700Z",
     "start_time": "2023-06-23T15:12:24.187088Z"
    }
   }
  }
 ],
 "metadata": {
  "colab": {
   "name": "Untitled1 (4).ipynb",
   "provenance": []
  },
  "kernelspec": {
   "display_name": "Python 3 (ipykernel)",
   "language": "python",
   "name": "python3"
  },
  "language_info": {
   "codemirror_mode": {
    "name": "ipython",
    "version": 3
   },
   "file_extension": ".py",
   "mimetype": "text/x-python",
   "name": "python",
   "nbconvert_exporter": "python",
   "pygments_lexer": "ipython3",
   "version": "3.8.10"
  }
 },
 "nbformat": 4,
 "nbformat_minor": 5
}
