{
 "cells": [
  {
   "cell_type": "code",
   "execution_count": 2,
   "outputs": [],
   "source": [
    "import pandas as pd"
   ],
   "metadata": {
    "collapsed": false
   }
  },
  {
   "cell_type": "code",
   "execution_count": 6,
   "metadata": {
    "collapsed": true
   },
   "outputs": [],
   "source": [
    "df = pd.read_csv('adult-all.csv')"
   ]
  },
  {
   "cell_type": "code",
   "execution_count": 7,
   "outputs": [
    {
     "data": {
      "text/plain": "       age         workclass  fnlwgt  education  education-num   \n0       39         State-gov   77516  Bachelors             13  \\\n1       50  Self-emp-not-inc   83311  Bachelors             13   \n2       38           Private  215646    HS-grad              9   \n3       53           Private  234721       11th              7   \n4       28           Private  338409  Bachelors             13   \n...    ...               ...     ...        ...            ...   \n48837   39           Private  215419  Bachelors             13   \n48838   64                 ?  321403    HS-grad              9   \n48839   38           Private  374983  Bachelors             13   \n48840   44           Private   83891  Bachelors             13   \n48841   35      Self-emp-inc  182148  Bachelors             13   \n\n           martial-status         occupation          moving   \n0           Never-married       Adm-clerical   Not-in-family  \\\n1      Married-civ-spouse    Exec-managerial         Husband   \n2                Divorced  Handlers-cleaners   Not-in-family   \n3      Married-civ-spouse  Handlers-cleaners         Husband   \n4      Married-civ-spouse     Prof-specialty            Wife   \n...                   ...                ...             ...   \n48837            Divorced     Prof-specialty   Not-in-family   \n48838             Widowed                  ?  Other-relative   \n48839  Married-civ-spouse     Prof-specialty         Husband   \n48840            Divorced       Adm-clerical       Own-child   \n48841  Married-civ-spouse    Exec-managerial         Husband   \n\n             relationship    race   sex  capital-gain  capital-loss   \n0                   White    Male  2174             0            40  \\\n1                   White    Male     0             0            13   \n2                   White    Male     0             0            40   \n3                   Black    Male     0             0            40   \n4                   Black  Female     0             0            40   \n...                   ...     ...   ...           ...           ...   \n48837               White  Female     0             0            36   \n48838               Black    Male     0             0            40   \n48839               White    Male     0             0            50   \n48840  Asian-Pac-Islander    Male  5455             0            40   \n48841               White    Male     0             0            60   \n\n      hours-per-week native-country  profit  \n0      United-States          <=50K     NaN  \n1      United-States          <=50K     NaN  \n2      United-States          <=50K     NaN  \n3      United-States          <=50K     NaN  \n4               Cuba          <=50K     NaN  \n...              ...            ...     ...  \n48837  United-States          <=50K     NaN  \n48838  United-States          <=50K     NaN  \n48839  United-States          <=50K     NaN  \n48840  United-States          <=50K     NaN  \n48841  United-States           >50K     NaN  \n\n[48842 rows x 16 columns]",
      "text/html": "<div>\n<style scoped>\n    .dataframe tbody tr th:only-of-type {\n        vertical-align: middle;\n    }\n\n    .dataframe tbody tr th {\n        vertical-align: top;\n    }\n\n    .dataframe thead th {\n        text-align: right;\n    }\n</style>\n<table border=\"1\" class=\"dataframe\">\n  <thead>\n    <tr style=\"text-align: right;\">\n      <th></th>\n      <th>age</th>\n      <th>workclass</th>\n      <th>fnlwgt</th>\n      <th>education</th>\n      <th>education-num</th>\n      <th>martial-status</th>\n      <th>occupation</th>\n      <th>moving</th>\n      <th>relationship</th>\n      <th>race</th>\n      <th>sex</th>\n      <th>capital-gain</th>\n      <th>capital-loss</th>\n      <th>hours-per-week</th>\n      <th>native-country</th>\n      <th>profit</th>\n    </tr>\n  </thead>\n  <tbody>\n    <tr>\n      <th>0</th>\n      <td>39</td>\n      <td>State-gov</td>\n      <td>77516</td>\n      <td>Bachelors</td>\n      <td>13</td>\n      <td>Never-married</td>\n      <td>Adm-clerical</td>\n      <td>Not-in-family</td>\n      <td>White</td>\n      <td>Male</td>\n      <td>2174</td>\n      <td>0</td>\n      <td>40</td>\n      <td>United-States</td>\n      <td>&lt;=50K</td>\n      <td>NaN</td>\n    </tr>\n    <tr>\n      <th>1</th>\n      <td>50</td>\n      <td>Self-emp-not-inc</td>\n      <td>83311</td>\n      <td>Bachelors</td>\n      <td>13</td>\n      <td>Married-civ-spouse</td>\n      <td>Exec-managerial</td>\n      <td>Husband</td>\n      <td>White</td>\n      <td>Male</td>\n      <td>0</td>\n      <td>0</td>\n      <td>13</td>\n      <td>United-States</td>\n      <td>&lt;=50K</td>\n      <td>NaN</td>\n    </tr>\n    <tr>\n      <th>2</th>\n      <td>38</td>\n      <td>Private</td>\n      <td>215646</td>\n      <td>HS-grad</td>\n      <td>9</td>\n      <td>Divorced</td>\n      <td>Handlers-cleaners</td>\n      <td>Not-in-family</td>\n      <td>White</td>\n      <td>Male</td>\n      <td>0</td>\n      <td>0</td>\n      <td>40</td>\n      <td>United-States</td>\n      <td>&lt;=50K</td>\n      <td>NaN</td>\n    </tr>\n    <tr>\n      <th>3</th>\n      <td>53</td>\n      <td>Private</td>\n      <td>234721</td>\n      <td>11th</td>\n      <td>7</td>\n      <td>Married-civ-spouse</td>\n      <td>Handlers-cleaners</td>\n      <td>Husband</td>\n      <td>Black</td>\n      <td>Male</td>\n      <td>0</td>\n      <td>0</td>\n      <td>40</td>\n      <td>United-States</td>\n      <td>&lt;=50K</td>\n      <td>NaN</td>\n    </tr>\n    <tr>\n      <th>4</th>\n      <td>28</td>\n      <td>Private</td>\n      <td>338409</td>\n      <td>Bachelors</td>\n      <td>13</td>\n      <td>Married-civ-spouse</td>\n      <td>Prof-specialty</td>\n      <td>Wife</td>\n      <td>Black</td>\n      <td>Female</td>\n      <td>0</td>\n      <td>0</td>\n      <td>40</td>\n      <td>Cuba</td>\n      <td>&lt;=50K</td>\n      <td>NaN</td>\n    </tr>\n    <tr>\n      <th>...</th>\n      <td>...</td>\n      <td>...</td>\n      <td>...</td>\n      <td>...</td>\n      <td>...</td>\n      <td>...</td>\n      <td>...</td>\n      <td>...</td>\n      <td>...</td>\n      <td>...</td>\n      <td>...</td>\n      <td>...</td>\n      <td>...</td>\n      <td>...</td>\n      <td>...</td>\n      <td>...</td>\n    </tr>\n    <tr>\n      <th>48837</th>\n      <td>39</td>\n      <td>Private</td>\n      <td>215419</td>\n      <td>Bachelors</td>\n      <td>13</td>\n      <td>Divorced</td>\n      <td>Prof-specialty</td>\n      <td>Not-in-family</td>\n      <td>White</td>\n      <td>Female</td>\n      <td>0</td>\n      <td>0</td>\n      <td>36</td>\n      <td>United-States</td>\n      <td>&lt;=50K</td>\n      <td>NaN</td>\n    </tr>\n    <tr>\n      <th>48838</th>\n      <td>64</td>\n      <td>?</td>\n      <td>321403</td>\n      <td>HS-grad</td>\n      <td>9</td>\n      <td>Widowed</td>\n      <td>?</td>\n      <td>Other-relative</td>\n      <td>Black</td>\n      <td>Male</td>\n      <td>0</td>\n      <td>0</td>\n      <td>40</td>\n      <td>United-States</td>\n      <td>&lt;=50K</td>\n      <td>NaN</td>\n    </tr>\n    <tr>\n      <th>48839</th>\n      <td>38</td>\n      <td>Private</td>\n      <td>374983</td>\n      <td>Bachelors</td>\n      <td>13</td>\n      <td>Married-civ-spouse</td>\n      <td>Prof-specialty</td>\n      <td>Husband</td>\n      <td>White</td>\n      <td>Male</td>\n      <td>0</td>\n      <td>0</td>\n      <td>50</td>\n      <td>United-States</td>\n      <td>&lt;=50K</td>\n      <td>NaN</td>\n    </tr>\n    <tr>\n      <th>48840</th>\n      <td>44</td>\n      <td>Private</td>\n      <td>83891</td>\n      <td>Bachelors</td>\n      <td>13</td>\n      <td>Divorced</td>\n      <td>Adm-clerical</td>\n      <td>Own-child</td>\n      <td>Asian-Pac-Islander</td>\n      <td>Male</td>\n      <td>5455</td>\n      <td>0</td>\n      <td>40</td>\n      <td>United-States</td>\n      <td>&lt;=50K</td>\n      <td>NaN</td>\n    </tr>\n    <tr>\n      <th>48841</th>\n      <td>35</td>\n      <td>Self-emp-inc</td>\n      <td>182148</td>\n      <td>Bachelors</td>\n      <td>13</td>\n      <td>Married-civ-spouse</td>\n      <td>Exec-managerial</td>\n      <td>Husband</td>\n      <td>White</td>\n      <td>Male</td>\n      <td>0</td>\n      <td>0</td>\n      <td>60</td>\n      <td>United-States</td>\n      <td>&gt;50K</td>\n      <td>NaN</td>\n    </tr>\n  </tbody>\n</table>\n<p>48842 rows × 16 columns</p>\n</div>"
     },
     "execution_count": 7,
     "metadata": {},
     "output_type": "execute_result"
    }
   ],
   "source": [
    "df"
   ],
   "metadata": {
    "collapsed": false
   }
  },
  {
   "cell_type": "code",
   "execution_count": 9,
   "outputs": [
    {
     "data": {
      "text/plain": "array(['Bachelors', 'HS-grad', '11th', 'Masters', '9th', 'Some-college',\n       'Assoc-acdm', 'Assoc-voc', '7th-8th', 'Doctorate', 'Prof-school',\n       '5th-6th', '10th', '1st-4th', 'Preschool', '12th'], dtype=object)"
     },
     "execution_count": 9,
     "metadata": {},
     "output_type": "execute_result"
    }
   ],
   "source": [
    "df['education'].unique()"
   ],
   "metadata": {
    "collapsed": false
   }
  },
  {
   "cell_type": "code",
   "execution_count": 13,
   "outputs": [
    {
     "data": {
      "text/plain": "education\n10th            37.902808\n11th            32.141832\n12th            32.235921\n1st-4th         46.639676\n5th-6th         43.585462\n7th-8th         49.525654\n9th             40.902116\nAssoc-acdm      37.777014\nAssoc-voc       38.651140\nBachelors       38.896324\nDoctorate       47.530303\nHS-grad         39.073809\nMasters         44.006775\nPreschool       42.204819\nProf-school     45.152278\nSome-college    35.677055\nName: age, dtype: float64"
     },
     "execution_count": 13,
     "metadata": {},
     "output_type": "execute_result"
    }
   ],
   "source": [
    "df.groupby('education')['age'].mean()"
   ],
   "metadata": {
    "collapsed": false
   }
  },
  {
   "cell_type": "code",
   "execution_count": 15,
   "outputs": [
    {
     "data": {
      "text/plain": "education\n10th            90\n11th            90\n12th            81\n1st-4th         90\n5th-6th         84\n7th-8th         90\n9th             90\nAssoc-acdm      90\nAssoc-voc       84\nBachelors       90\nDoctorate       80\nHS-grad         90\nMasters         90\nPreschool       77\nProf-school     90\nSome-college    90\nName: age, dtype: int64"
     },
     "execution_count": 15,
     "metadata": {},
     "output_type": "execute_result"
    }
   ],
   "source": [
    "df.groupby('education')['age'].max()"
   ],
   "metadata": {
    "collapsed": false
   }
  },
  {
   "cell_type": "code",
   "execution_count": 16,
   "outputs": [],
   "source": [
    "def iqr(x):\n",
    "    return x.quantile(0.75) - x.quantile(0.25)"
   ],
   "metadata": {
    "collapsed": false
   }
  },
  {
   "cell_type": "code",
   "execution_count": 18,
   "outputs": [
    {
     "data": {
      "text/plain": "education     sex  \n10th          0        52.00\n              114      38.00\n              594      17.50\n              1055     17.00\n              1086     66.00\n                       ...  \nSome-college  20051    71.00\n              25236    37.00\n              27828    53.25\n              34095    20.00\n              99999    50.00\nName: age, Length: 722, dtype: float64"
     },
     "execution_count": 18,
     "metadata": {},
     "output_type": "execute_result"
    }
   ],
   "source": [
    "df.groupby(['education', 'sex'])['age'].agg(iqr)"
   ],
   "metadata": {
    "collapsed": false
   }
  },
  {
   "cell_type": "code",
   "execution_count": 19,
   "outputs": [
    {
     "data": {
      "text/plain": "sex           0      114    401    594    914    991    1055   1086   1111    \neducation                                                                     \n10th          52.00  38.00    NaN  17.50    NaN    NaN  17.00  66.00    NaN  \\\n11th          42.00    NaN    NaN  18.25    NaN    NaN  18.00    NaN    NaN   \n12th          41.00    NaN    NaN  26.50    NaN    NaN  19.00    NaN    NaN   \n1st-4th       57.00    NaN    NaN    NaN    NaN    NaN    NaN  80.00    NaN   \n5th-6th       54.75    NaN    NaN    NaN    NaN    NaN    NaN    NaN    NaN   \n7th-8th       61.00    NaN  65.00    NaN    NaN    NaN    NaN  68.50    NaN   \n9th           53.00  29.75    NaN  18.00  25.00    NaN  43.50    NaN   70.0   \nAssoc-acdm    44.00    NaN    NaN  20.75    NaN    NaN    NaN    NaN    NaN   \nAssoc-voc     45.00  26.00    NaN  41.50    NaN    NaN    NaN    NaN    NaN   \nBachelors     46.00    NaN  66.00  23.00  44.25   85.5  27.75    NaN    NaN   \nDoctorate     54.00    NaN    NaN  28.00    NaN    NaN    NaN    NaN    NaN   \nHS-grad       48.00  36.50  86.75  43.00  51.00   68.0  24.75  75.25    NaN   \nMasters       50.00    NaN    NaN  26.00  52.00    NaN    NaN    NaN    NaN   \nPreschool     53.50    NaN    NaN  22.00    NaN    NaN    NaN    NaN    NaN   \nProf-school   51.00    NaN    NaN    NaN    NaN    NaN    NaN  83.75    NaN   \nSome-college  44.00  39.00  65.00  21.00  43.75   68.0  22.00    NaN    NaN   \n\nsex           1151   ...  15831  18481  20051  22040  25124  25236  27828   \neducation            ...                                                    \n10th            NaN  ...    NaN    NaN   83.0    NaN    NaN    NaN    NaN  \\\n11th          38.00  ...    NaN    NaN    NaN    NaN    NaN    NaN    NaN   \n12th            NaN  ...    NaN   79.0    NaN    NaN    NaN    NaN    NaN   \n1st-4th         NaN  ...    NaN    NaN    NaN    NaN    NaN    NaN    NaN   \n5th-6th         NaN  ...    NaN    NaN    NaN    NaN    NaN    NaN    NaN   \n7th-8th         NaN  ...    NaN    NaN    NaN    NaN    NaN    NaN    NaN   \n9th             NaN  ...    NaN    NaN    NaN    NaN    NaN    NaN    NaN   \nAssoc-acdm    44.00  ...    NaN    NaN   68.0    NaN    NaN  32.00  43.00   \nAssoc-voc     27.00  ...  75.00    NaN    NaN    NaN  71.75    NaN  31.75   \nBachelors     37.75  ...  74.00    NaN   70.0    NaN  75.00  45.75  48.00   \nDoctorate       NaN  ...    NaN    NaN   72.5    NaN  75.00  52.50  41.00   \nHS-grad       37.00  ...  70.25    NaN   65.5   61.0  73.00    NaN  44.00   \nMasters       42.00  ...  67.00   67.0   76.0    NaN    NaN  49.50  49.25   \nPreschool       NaN  ...    NaN    NaN    NaN    NaN    NaN    NaN    NaN   \nProf-school     NaN  ...    NaN    NaN   76.5    NaN  65.00  52.00  55.50   \nSome-college  40.50  ...  74.00    NaN   71.0    NaN    NaN  37.00  53.25   \n\nsex           34095  41310  99999  \neducation                          \n10th           18.5    NaN  51.75  \n11th            NaN    NaN    NaN  \n12th            NaN    NaN    NaN  \n1st-4th         NaN    NaN    NaN  \n5th-6th         NaN    NaN  59.00  \n7th-8th         NaN    NaN    NaN  \n9th             NaN    NaN  55.00  \nAssoc-acdm      NaN    NaN  37.00  \nAssoc-voc       NaN    NaN  42.00  \nBachelors       NaN    NaN  52.50  \nDoctorate       NaN    NaN  52.50  \nHS-grad        37.0   36.0  52.00  \nMasters         NaN   63.0  50.75  \nPreschool       NaN   27.0    NaN  \nProf-school     NaN    NaN  54.00  \nSome-college   20.0    NaN  50.00  \n\n[16 rows x 123 columns]",
      "text/html": "<div>\n<style scoped>\n    .dataframe tbody tr th:only-of-type {\n        vertical-align: middle;\n    }\n\n    .dataframe tbody tr th {\n        vertical-align: top;\n    }\n\n    .dataframe thead th {\n        text-align: right;\n    }\n</style>\n<table border=\"1\" class=\"dataframe\">\n  <thead>\n    <tr style=\"text-align: right;\">\n      <th>sex</th>\n      <th>0</th>\n      <th>114</th>\n      <th>401</th>\n      <th>594</th>\n      <th>914</th>\n      <th>991</th>\n      <th>1055</th>\n      <th>1086</th>\n      <th>1111</th>\n      <th>1151</th>\n      <th>...</th>\n      <th>15831</th>\n      <th>18481</th>\n      <th>20051</th>\n      <th>22040</th>\n      <th>25124</th>\n      <th>25236</th>\n      <th>27828</th>\n      <th>34095</th>\n      <th>41310</th>\n      <th>99999</th>\n    </tr>\n    <tr>\n      <th>education</th>\n      <th></th>\n      <th></th>\n      <th></th>\n      <th></th>\n      <th></th>\n      <th></th>\n      <th></th>\n      <th></th>\n      <th></th>\n      <th></th>\n      <th></th>\n      <th></th>\n      <th></th>\n      <th></th>\n      <th></th>\n      <th></th>\n      <th></th>\n      <th></th>\n      <th></th>\n      <th></th>\n      <th></th>\n    </tr>\n  </thead>\n  <tbody>\n    <tr>\n      <th>10th</th>\n      <td>52.00</td>\n      <td>38.00</td>\n      <td>NaN</td>\n      <td>17.50</td>\n      <td>NaN</td>\n      <td>NaN</td>\n      <td>17.00</td>\n      <td>66.00</td>\n      <td>NaN</td>\n      <td>NaN</td>\n      <td>...</td>\n      <td>NaN</td>\n      <td>NaN</td>\n      <td>83.0</td>\n      <td>NaN</td>\n      <td>NaN</td>\n      <td>NaN</td>\n      <td>NaN</td>\n      <td>18.5</td>\n      <td>NaN</td>\n      <td>51.75</td>\n    </tr>\n    <tr>\n      <th>11th</th>\n      <td>42.00</td>\n      <td>NaN</td>\n      <td>NaN</td>\n      <td>18.25</td>\n      <td>NaN</td>\n      <td>NaN</td>\n      <td>18.00</td>\n      <td>NaN</td>\n      <td>NaN</td>\n      <td>38.00</td>\n      <td>...</td>\n      <td>NaN</td>\n      <td>NaN</td>\n      <td>NaN</td>\n      <td>NaN</td>\n      <td>NaN</td>\n      <td>NaN</td>\n      <td>NaN</td>\n      <td>NaN</td>\n      <td>NaN</td>\n      <td>NaN</td>\n    </tr>\n    <tr>\n      <th>12th</th>\n      <td>41.00</td>\n      <td>NaN</td>\n      <td>NaN</td>\n      <td>26.50</td>\n      <td>NaN</td>\n      <td>NaN</td>\n      <td>19.00</td>\n      <td>NaN</td>\n      <td>NaN</td>\n      <td>NaN</td>\n      <td>...</td>\n      <td>NaN</td>\n      <td>79.0</td>\n      <td>NaN</td>\n      <td>NaN</td>\n      <td>NaN</td>\n      <td>NaN</td>\n      <td>NaN</td>\n      <td>NaN</td>\n      <td>NaN</td>\n      <td>NaN</td>\n    </tr>\n    <tr>\n      <th>1st-4th</th>\n      <td>57.00</td>\n      <td>NaN</td>\n      <td>NaN</td>\n      <td>NaN</td>\n      <td>NaN</td>\n      <td>NaN</td>\n      <td>NaN</td>\n      <td>80.00</td>\n      <td>NaN</td>\n      <td>NaN</td>\n      <td>...</td>\n      <td>NaN</td>\n      <td>NaN</td>\n      <td>NaN</td>\n      <td>NaN</td>\n      <td>NaN</td>\n      <td>NaN</td>\n      <td>NaN</td>\n      <td>NaN</td>\n      <td>NaN</td>\n      <td>NaN</td>\n    </tr>\n    <tr>\n      <th>5th-6th</th>\n      <td>54.75</td>\n      <td>NaN</td>\n      <td>NaN</td>\n      <td>NaN</td>\n      <td>NaN</td>\n      <td>NaN</td>\n      <td>NaN</td>\n      <td>NaN</td>\n      <td>NaN</td>\n      <td>NaN</td>\n      <td>...</td>\n      <td>NaN</td>\n      <td>NaN</td>\n      <td>NaN</td>\n      <td>NaN</td>\n      <td>NaN</td>\n      <td>NaN</td>\n      <td>NaN</td>\n      <td>NaN</td>\n      <td>NaN</td>\n      <td>59.00</td>\n    </tr>\n    <tr>\n      <th>7th-8th</th>\n      <td>61.00</td>\n      <td>NaN</td>\n      <td>65.00</td>\n      <td>NaN</td>\n      <td>NaN</td>\n      <td>NaN</td>\n      <td>NaN</td>\n      <td>68.50</td>\n      <td>NaN</td>\n      <td>NaN</td>\n      <td>...</td>\n      <td>NaN</td>\n      <td>NaN</td>\n      <td>NaN</td>\n      <td>NaN</td>\n      <td>NaN</td>\n      <td>NaN</td>\n      <td>NaN</td>\n      <td>NaN</td>\n      <td>NaN</td>\n      <td>NaN</td>\n    </tr>\n    <tr>\n      <th>9th</th>\n      <td>53.00</td>\n      <td>29.75</td>\n      <td>NaN</td>\n      <td>18.00</td>\n      <td>25.00</td>\n      <td>NaN</td>\n      <td>43.50</td>\n      <td>NaN</td>\n      <td>70.0</td>\n      <td>NaN</td>\n      <td>...</td>\n      <td>NaN</td>\n      <td>NaN</td>\n      <td>NaN</td>\n      <td>NaN</td>\n      <td>NaN</td>\n      <td>NaN</td>\n      <td>NaN</td>\n      <td>NaN</td>\n      <td>NaN</td>\n      <td>55.00</td>\n    </tr>\n    <tr>\n      <th>Assoc-acdm</th>\n      <td>44.00</td>\n      <td>NaN</td>\n      <td>NaN</td>\n      <td>20.75</td>\n      <td>NaN</td>\n      <td>NaN</td>\n      <td>NaN</td>\n      <td>NaN</td>\n      <td>NaN</td>\n      <td>44.00</td>\n      <td>...</td>\n      <td>NaN</td>\n      <td>NaN</td>\n      <td>68.0</td>\n      <td>NaN</td>\n      <td>NaN</td>\n      <td>32.00</td>\n      <td>43.00</td>\n      <td>NaN</td>\n      <td>NaN</td>\n      <td>37.00</td>\n    </tr>\n    <tr>\n      <th>Assoc-voc</th>\n      <td>45.00</td>\n      <td>26.00</td>\n      <td>NaN</td>\n      <td>41.50</td>\n      <td>NaN</td>\n      <td>NaN</td>\n      <td>NaN</td>\n      <td>NaN</td>\n      <td>NaN</td>\n      <td>27.00</td>\n      <td>...</td>\n      <td>75.00</td>\n      <td>NaN</td>\n      <td>NaN</td>\n      <td>NaN</td>\n      <td>71.75</td>\n      <td>NaN</td>\n      <td>31.75</td>\n      <td>NaN</td>\n      <td>NaN</td>\n      <td>42.00</td>\n    </tr>\n    <tr>\n      <th>Bachelors</th>\n      <td>46.00</td>\n      <td>NaN</td>\n      <td>66.00</td>\n      <td>23.00</td>\n      <td>44.25</td>\n      <td>85.5</td>\n      <td>27.75</td>\n      <td>NaN</td>\n      <td>NaN</td>\n      <td>37.75</td>\n      <td>...</td>\n      <td>74.00</td>\n      <td>NaN</td>\n      <td>70.0</td>\n      <td>NaN</td>\n      <td>75.00</td>\n      <td>45.75</td>\n      <td>48.00</td>\n      <td>NaN</td>\n      <td>NaN</td>\n      <td>52.50</td>\n    </tr>\n    <tr>\n      <th>Doctorate</th>\n      <td>54.00</td>\n      <td>NaN</td>\n      <td>NaN</td>\n      <td>28.00</td>\n      <td>NaN</td>\n      <td>NaN</td>\n      <td>NaN</td>\n      <td>NaN</td>\n      <td>NaN</td>\n      <td>NaN</td>\n      <td>...</td>\n      <td>NaN</td>\n      <td>NaN</td>\n      <td>72.5</td>\n      <td>NaN</td>\n      <td>75.00</td>\n      <td>52.50</td>\n      <td>41.00</td>\n      <td>NaN</td>\n      <td>NaN</td>\n      <td>52.50</td>\n    </tr>\n    <tr>\n      <th>HS-grad</th>\n      <td>48.00</td>\n      <td>36.50</td>\n      <td>86.75</td>\n      <td>43.00</td>\n      <td>51.00</td>\n      <td>68.0</td>\n      <td>24.75</td>\n      <td>75.25</td>\n      <td>NaN</td>\n      <td>37.00</td>\n      <td>...</td>\n      <td>70.25</td>\n      <td>NaN</td>\n      <td>65.5</td>\n      <td>61.0</td>\n      <td>73.00</td>\n      <td>NaN</td>\n      <td>44.00</td>\n      <td>37.0</td>\n      <td>36.0</td>\n      <td>52.00</td>\n    </tr>\n    <tr>\n      <th>Masters</th>\n      <td>50.00</td>\n      <td>NaN</td>\n      <td>NaN</td>\n      <td>26.00</td>\n      <td>52.00</td>\n      <td>NaN</td>\n      <td>NaN</td>\n      <td>NaN</td>\n      <td>NaN</td>\n      <td>42.00</td>\n      <td>...</td>\n      <td>67.00</td>\n      <td>67.0</td>\n      <td>76.0</td>\n      <td>NaN</td>\n      <td>NaN</td>\n      <td>49.50</td>\n      <td>49.25</td>\n      <td>NaN</td>\n      <td>63.0</td>\n      <td>50.75</td>\n    </tr>\n    <tr>\n      <th>Preschool</th>\n      <td>53.50</td>\n      <td>NaN</td>\n      <td>NaN</td>\n      <td>22.00</td>\n      <td>NaN</td>\n      <td>NaN</td>\n      <td>NaN</td>\n      <td>NaN</td>\n      <td>NaN</td>\n      <td>NaN</td>\n      <td>...</td>\n      <td>NaN</td>\n      <td>NaN</td>\n      <td>NaN</td>\n      <td>NaN</td>\n      <td>NaN</td>\n      <td>NaN</td>\n      <td>NaN</td>\n      <td>NaN</td>\n      <td>27.0</td>\n      <td>NaN</td>\n    </tr>\n    <tr>\n      <th>Prof-school</th>\n      <td>51.00</td>\n      <td>NaN</td>\n      <td>NaN</td>\n      <td>NaN</td>\n      <td>NaN</td>\n      <td>NaN</td>\n      <td>NaN</td>\n      <td>83.75</td>\n      <td>NaN</td>\n      <td>NaN</td>\n      <td>...</td>\n      <td>NaN</td>\n      <td>NaN</td>\n      <td>76.5</td>\n      <td>NaN</td>\n      <td>65.00</td>\n      <td>52.00</td>\n      <td>55.50</td>\n      <td>NaN</td>\n      <td>NaN</td>\n      <td>54.00</td>\n    </tr>\n    <tr>\n      <th>Some-college</th>\n      <td>44.00</td>\n      <td>39.00</td>\n      <td>65.00</td>\n      <td>21.00</td>\n      <td>43.75</td>\n      <td>68.0</td>\n      <td>22.00</td>\n      <td>NaN</td>\n      <td>NaN</td>\n      <td>40.50</td>\n      <td>...</td>\n      <td>74.00</td>\n      <td>NaN</td>\n      <td>71.0</td>\n      <td>NaN</td>\n      <td>NaN</td>\n      <td>37.00</td>\n      <td>53.25</td>\n      <td>20.0</td>\n      <td>NaN</td>\n      <td>50.00</td>\n    </tr>\n  </tbody>\n</table>\n<p>16 rows × 123 columns</p>\n</div>"
     },
     "execution_count": 19,
     "metadata": {},
     "output_type": "execute_result"
    }
   ],
   "source": [
    "df.groupby(['education', 'sex'])['age'].agg(iqr).unstack()"
   ],
   "metadata": {
    "collapsed": false
   }
  }
 ],
 "metadata": {
  "kernelspec": {
   "display_name": "Python 3",
   "language": "python",
   "name": "python3"
  },
  "language_info": {
   "codemirror_mode": {
    "name": "ipython",
    "version": 2
   },
   "file_extension": ".py",
   "mimetype": "text/x-python",
   "name": "python",
   "nbconvert_exporter": "python",
   "pygments_lexer": "ipython2",
   "version": "2.7.6"
  }
 },
 "nbformat": 4,
 "nbformat_minor": 0
}
