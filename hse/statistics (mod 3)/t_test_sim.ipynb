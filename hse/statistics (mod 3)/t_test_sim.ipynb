{
 "cells": [
  {
   "cell_type": "code",
   "execution_count": 4,
   "outputs": [],
   "source": [
    "import numpy as np\n",
    "from scipy.stats import ttest_1samp"
   ],
   "metadata": {
    "collapsed": false
   }
  },
  {
   "cell_type": "code",
   "execution_count": 23,
   "metadata": {
    "collapsed": true
   },
   "outputs": [],
   "source": [
    "sample_size = 5000\n",
    "iterations = 10000\n",
    "significance_level = 0.05"
   ]
  },
  {
   "cell_type": "code",
   "execution_count": 14,
   "outputs": [
    {
     "data": {
      "text/plain": "0.0466"
     },
     "execution_count": 14,
     "metadata": {},
     "output_type": "execute_result"
    }
   ],
   "source": [
    "counter = 0\n",
    "for _ in range(iterations):\n",
    "    sample = np.random.normal(size=sample_size)\n",
    "    t_stat, pval = ttest_1samp(sample, 0)\n",
    "    if pval < significance_level:\n",
    "        counter += 1\n",
    "counter / iterations #False Positive rate"
   ],
   "metadata": {
    "collapsed": false
   }
  },
  {
   "cell_type": "code",
   "execution_count": 19,
   "outputs": [
    {
     "data": {
      "text/plain": "0.053"
     },
     "execution_count": 19,
     "metadata": {},
     "output_type": "execute_result"
    }
   ],
   "source": [
    "counter = 0\n",
    "for _ in range(iterations):\n",
    "    sample = np.random.uniform(low=-1, high=1, size=sample_size)\n",
    "    t_stat, pval = ttest_1samp(sample, 0)\n",
    "    if pval < significance_level:\n",
    "        counter += 1\n",
    "counter / iterations #False Positive rate"
   ],
   "metadata": {
    "collapsed": false
   }
  },
  {
   "cell_type": "code",
   "execution_count": 24,
   "outputs": [
    {
     "data": {
      "text/plain": "0.0482"
     },
     "execution_count": 24,
     "metadata": {},
     "output_type": "execute_result"
    }
   ],
   "source": [
    "populations = [2, 3, 5, 4, 3.5, 6, 5, 8, 100000]\n",
    "counter = 0\n",
    "for _ in range(iterations):\n",
    "    sample = np.random.choice(populations, size=sample_size)\n",
    "    t_stat, pval = ttest_1samp(sample, np.mean(populations))\n",
    "    if pval < significance_level:\n",
    "        counter += 1\n",
    "counter / iterations  #False Positive rate"
   ],
   "metadata": {
    "collapsed": false
   }
  },
  {
   "cell_type": "code",
   "execution_count": null,
   "outputs": [],
   "source": [],
   "metadata": {
    "collapsed": false
   }
  }
 ],
 "metadata": {
  "kernelspec": {
   "display_name": "Python 3",
   "language": "python",
   "name": "python3"
  },
  "language_info": {
   "codemirror_mode": {
    "name": "ipython",
    "version": 2
   },
   "file_extension": ".py",
   "mimetype": "text/x-python",
   "name": "python",
   "nbconvert_exporter": "python",
   "pygments_lexer": "ipython2",
   "version": "2.7.6"
  }
 },
 "nbformat": 4,
 "nbformat_minor": 0
}
