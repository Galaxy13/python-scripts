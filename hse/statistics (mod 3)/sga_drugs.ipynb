{
 "cells": [
  {
   "cell_type": "markdown",
   "source": [
    "# Drug test\n",
    "In terms of random variables, we assume that both sample came from different random varibles (X, Y), $\\mathop{\\mathbb{E}}X = \\mu_{cont}$ and $\\mathop{\\mathbb{E}}Y = \\mu_{treat}$. Our null hypothesis is that mean of random variables, from which both samples are get, are the same, and the cure doesn't give any effect.\n",
    "$$H_0: \\mu_{cont} = \\mu_{treat}$$\n",
    "The alternative is that there is an effect that gives the drug, but we don't know in advance, what kind of effect would happen, so the alternative is that:\n",
    "$$H_1: \\mu_{cont} \\neq \\mu_{treat}$$\n",
    "This alternative is two-sided, so, to perform statistical test, we have to use 2 sample 2 sided t-test, with **scipy.stats.ttest_ind** and parameter *equal_var=False*"
   ],
   "metadata": {
    "collapsed": false
   }
  },
  {
   "cell_type": "code",
   "execution_count": 1,
   "metadata": {
    "collapsed": true
   },
   "outputs": [],
   "source": [
    "from scipy.stats import ttest_ind"
   ]
  },
  {
   "cell_type": "code",
   "execution_count": 3,
   "outputs": [
    {
     "data": {
      "text/plain": "Ttest_indResult(statistic=-2.076923076923078, pvalue=0.05290570806269817)"
     },
     "execution_count": 3,
     "metadata": {},
     "output_type": "execute_result"
    }
   ],
   "source": [
    "control_sample = [6,7,7,5,7,8,8,7,7,7]\n",
    "treatment_sample = [7,6,6,5,5,6,7,5,5,8]\n",
    "ttest_ind(treatment_sample, control_sample, equal_var=False)"
   ],
   "metadata": {
    "collapsed": false
   }
  },
  {
   "cell_type": "markdown",
   "source": [
    "From result of 2-sample t-test, we can say, that with significance level around 6%, we can say that there is an effect, created by our drug. But, from observed t-statistics, which is negative, it is obvious that mean of treatment sample is less, that control sample, so new alternative declared:\n",
    "$$H_1^{'}:\\mu_{cont} > \\mu_{treat}$$\n",
    "This means, that now we expect that our drug is decreasing time for curing, our drug is effective and we can invest to it. The probability to make Type I error in 1-sided t-test (p-value) is: $0.053 / 2 = 0.0265$. If we assume, that our significance level is 5%, we can say that out result is statistically significant and with significance level of 5%, the drug is effective and it decreases time, needed for cure. But, there is a probablity (around 3%) that the drug is ineffective and investment in it cause a Type I error, since data size of such clinical trial is very small and with only 6% of significance level we can say, that there is any effect."
   ],
   "metadata": {
    "collapsed": false
   }
  }
 ],
 "metadata": {
  "kernelspec": {
   "display_name": "Python 3",
   "language": "python",
   "name": "python3"
  },
  "language_info": {
   "codemirror_mode": {
    "name": "ipython",
    "version": 2
   },
   "file_extension": ".py",
   "mimetype": "text/x-python",
   "name": "python",
   "nbconvert_exporter": "python",
   "pygments_lexer": "ipython2",
   "version": "2.7.6"
  }
 },
 "nbformat": 4,
 "nbformat_minor": 0
}
