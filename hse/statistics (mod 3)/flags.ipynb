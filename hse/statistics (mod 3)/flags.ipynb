{
 "cells": [
  {
   "cell_type": "code",
   "execution_count": 1,
   "metadata": {
    "collapsed": true
   },
   "outputs": [],
   "source": [
    "import pandas as pd\n",
    "%matplotlib inline"
   ]
  },
  {
   "cell_type": "code",
   "execution_count": 2,
   "outputs": [],
   "source": [
    "df = pd.read_csv('flags.csv')"
   ],
   "metadata": {
    "collapsed": false
   }
  },
  {
   "cell_type": "code",
   "execution_count": 5,
   "outputs": [
    {
     "data": {
      "text/plain": "30"
     },
     "execution_count": 5,
     "metadata": {},
     "output_type": "execute_result"
    }
   ],
   "source": [
    "len(df.columns)"
   ],
   "metadata": {
    "collapsed": false
   }
  },
  {
   "cell_type": "code",
   "execution_count": 6,
   "outputs": [
    {
     "data": {
      "text/plain": "dtype('int64')"
     },
     "execution_count": 6,
     "metadata": {},
     "output_type": "execute_result"
    }
   ],
   "source": [
    "df['area'].dtype"
   ],
   "metadata": {
    "collapsed": false
   }
  },
  {
   "cell_type": "code",
   "execution_count": 10,
   "outputs": [
    {
     "data": {
      "text/plain": "0    red\nName: mainhue, dtype: object"
     },
     "execution_count": 10,
     "metadata": {},
     "output_type": "execute_result"
    }
   ],
   "source": [
    "df['mainhue'].mode()"
   ],
   "metadata": {
    "collapsed": false
   }
  },
  {
   "cell_type": "code",
   "execution_count": 8,
   "outputs": [
    {
     "data": {
      "text/plain": "0      2\n1      6\n2      2\n3      1\n4      0\n      ..\n189    1\n190    6\n191    5\n192    5\n193    5\nName: religion, Length: 194, dtype: int64"
     },
     "execution_count": 8,
     "metadata": {},
     "output_type": "execute_result"
    }
   ],
   "source": [
    "df['religion']"
   ],
   "metadata": {
    "collapsed": false
   }
  },
  {
   "cell_type": "code",
   "execution_count": 11,
   "outputs": [
    {
     "data": {
      "text/plain": "               name  landmass  zone  area  population  language  religion  \\\n0       Afghanistan         5     1   648          16        10         2   \n1           Albania         3     1    29           3         6         6   \n2           Algeria         4     1  2388          20         8         2   \n3    American-Samoa         6     3     0           0         1         1   \n4           Andorra         3     1     0           0         6         0   \n..              ...       ...   ...   ...         ...       ...       ...   \n189   Western-Samoa         6     3     3           0         1         1   \n190      Yugoslavia         3     1   256          22         6         6   \n191           Zaire         4     2   905          28        10         5   \n192          Zambia         4     2   753           6        10         5   \n193        Zimbabwe         4     2   391           8        10         5   \n\n     bars  stripes  colours  ...  saltires  quarters  sunstars  crescent  \\\n0       0        3        5  ...         0         0         1         0   \n1       0        0        3  ...         0         0         1         0   \n2       2        0        3  ...         0         0         1         1   \n3       0        0        5  ...         0         0         0         0   \n4       3        0        3  ...         0         0         0         0   \n..    ...      ...      ...  ...       ...       ...       ...       ...   \n189     0        0        3  ...         0         1         5         0   \n190     0        3        4  ...         0         0         1         0   \n191     0        0        4  ...         0         0         0         0   \n192     3        0        4  ...         0         0         0         0   \n193     0        7        5  ...         0         0         1         0   \n\n     triangle  icon  animate text  topleft  botright  \n0           0     1        0    0    black     green  \n1           0     0        1    0      red       red  \n2           0     0        0    0    green     white  \n3           1     1        1    0     blue       red  \n4           0     0        0    0     blue       red  \n..        ...   ...      ...  ...      ...       ...  \n189         0     0        0    0     blue       red  \n190         0     0        0    0     blue       red  \n191         0     1        1    0    green     green  \n192         0     0        1    0    green     brown  \n193         1     1        1    0    green     green  \n\n[194 rows x 30 columns]",
      "text/html": "<div>\n<style scoped>\n    .dataframe tbody tr th:only-of-type {\n        vertical-align: middle;\n    }\n\n    .dataframe tbody tr th {\n        vertical-align: top;\n    }\n\n    .dataframe thead th {\n        text-align: right;\n    }\n</style>\n<table border=\"1\" class=\"dataframe\">\n  <thead>\n    <tr style=\"text-align: right;\">\n      <th></th>\n      <th>name</th>\n      <th>landmass</th>\n      <th>zone</th>\n      <th>area</th>\n      <th>population</th>\n      <th>language</th>\n      <th>religion</th>\n      <th>bars</th>\n      <th>stripes</th>\n      <th>colours</th>\n      <th>...</th>\n      <th>saltires</th>\n      <th>quarters</th>\n      <th>sunstars</th>\n      <th>crescent</th>\n      <th>triangle</th>\n      <th>icon</th>\n      <th>animate</th>\n      <th>text</th>\n      <th>topleft</th>\n      <th>botright</th>\n    </tr>\n  </thead>\n  <tbody>\n    <tr>\n      <th>0</th>\n      <td>Afghanistan</td>\n      <td>5</td>\n      <td>1</td>\n      <td>648</td>\n      <td>16</td>\n      <td>10</td>\n      <td>2</td>\n      <td>0</td>\n      <td>3</td>\n      <td>5</td>\n      <td>...</td>\n      <td>0</td>\n      <td>0</td>\n      <td>1</td>\n      <td>0</td>\n      <td>0</td>\n      <td>1</td>\n      <td>0</td>\n      <td>0</td>\n      <td>black</td>\n      <td>green</td>\n    </tr>\n    <tr>\n      <th>1</th>\n      <td>Albania</td>\n      <td>3</td>\n      <td>1</td>\n      <td>29</td>\n      <td>3</td>\n      <td>6</td>\n      <td>6</td>\n      <td>0</td>\n      <td>0</td>\n      <td>3</td>\n      <td>...</td>\n      <td>0</td>\n      <td>0</td>\n      <td>1</td>\n      <td>0</td>\n      <td>0</td>\n      <td>0</td>\n      <td>1</td>\n      <td>0</td>\n      <td>red</td>\n      <td>red</td>\n    </tr>\n    <tr>\n      <th>2</th>\n      <td>Algeria</td>\n      <td>4</td>\n      <td>1</td>\n      <td>2388</td>\n      <td>20</td>\n      <td>8</td>\n      <td>2</td>\n      <td>2</td>\n      <td>0</td>\n      <td>3</td>\n      <td>...</td>\n      <td>0</td>\n      <td>0</td>\n      <td>1</td>\n      <td>1</td>\n      <td>0</td>\n      <td>0</td>\n      <td>0</td>\n      <td>0</td>\n      <td>green</td>\n      <td>white</td>\n    </tr>\n    <tr>\n      <th>3</th>\n      <td>American-Samoa</td>\n      <td>6</td>\n      <td>3</td>\n      <td>0</td>\n      <td>0</td>\n      <td>1</td>\n      <td>1</td>\n      <td>0</td>\n      <td>0</td>\n      <td>5</td>\n      <td>...</td>\n      <td>0</td>\n      <td>0</td>\n      <td>0</td>\n      <td>0</td>\n      <td>1</td>\n      <td>1</td>\n      <td>1</td>\n      <td>0</td>\n      <td>blue</td>\n      <td>red</td>\n    </tr>\n    <tr>\n      <th>4</th>\n      <td>Andorra</td>\n      <td>3</td>\n      <td>1</td>\n      <td>0</td>\n      <td>0</td>\n      <td>6</td>\n      <td>0</td>\n      <td>3</td>\n      <td>0</td>\n      <td>3</td>\n      <td>...</td>\n      <td>0</td>\n      <td>0</td>\n      <td>0</td>\n      <td>0</td>\n      <td>0</td>\n      <td>0</td>\n      <td>0</td>\n      <td>0</td>\n      <td>blue</td>\n      <td>red</td>\n    </tr>\n    <tr>\n      <th>...</th>\n      <td>...</td>\n      <td>...</td>\n      <td>...</td>\n      <td>...</td>\n      <td>...</td>\n      <td>...</td>\n      <td>...</td>\n      <td>...</td>\n      <td>...</td>\n      <td>...</td>\n      <td>...</td>\n      <td>...</td>\n      <td>...</td>\n      <td>...</td>\n      <td>...</td>\n      <td>...</td>\n      <td>...</td>\n      <td>...</td>\n      <td>...</td>\n      <td>...</td>\n      <td>...</td>\n    </tr>\n    <tr>\n      <th>189</th>\n      <td>Western-Samoa</td>\n      <td>6</td>\n      <td>3</td>\n      <td>3</td>\n      <td>0</td>\n      <td>1</td>\n      <td>1</td>\n      <td>0</td>\n      <td>0</td>\n      <td>3</td>\n      <td>...</td>\n      <td>0</td>\n      <td>1</td>\n      <td>5</td>\n      <td>0</td>\n      <td>0</td>\n      <td>0</td>\n      <td>0</td>\n      <td>0</td>\n      <td>blue</td>\n      <td>red</td>\n    </tr>\n    <tr>\n      <th>190</th>\n      <td>Yugoslavia</td>\n      <td>3</td>\n      <td>1</td>\n      <td>256</td>\n      <td>22</td>\n      <td>6</td>\n      <td>6</td>\n      <td>0</td>\n      <td>3</td>\n      <td>4</td>\n      <td>...</td>\n      <td>0</td>\n      <td>0</td>\n      <td>1</td>\n      <td>0</td>\n      <td>0</td>\n      <td>0</td>\n      <td>0</td>\n      <td>0</td>\n      <td>blue</td>\n      <td>red</td>\n    </tr>\n    <tr>\n      <th>191</th>\n      <td>Zaire</td>\n      <td>4</td>\n      <td>2</td>\n      <td>905</td>\n      <td>28</td>\n      <td>10</td>\n      <td>5</td>\n      <td>0</td>\n      <td>0</td>\n      <td>4</td>\n      <td>...</td>\n      <td>0</td>\n      <td>0</td>\n      <td>0</td>\n      <td>0</td>\n      <td>0</td>\n      <td>1</td>\n      <td>1</td>\n      <td>0</td>\n      <td>green</td>\n      <td>green</td>\n    </tr>\n    <tr>\n      <th>192</th>\n      <td>Zambia</td>\n      <td>4</td>\n      <td>2</td>\n      <td>753</td>\n      <td>6</td>\n      <td>10</td>\n      <td>5</td>\n      <td>3</td>\n      <td>0</td>\n      <td>4</td>\n      <td>...</td>\n      <td>0</td>\n      <td>0</td>\n      <td>0</td>\n      <td>0</td>\n      <td>0</td>\n      <td>0</td>\n      <td>1</td>\n      <td>0</td>\n      <td>green</td>\n      <td>brown</td>\n    </tr>\n    <tr>\n      <th>193</th>\n      <td>Zimbabwe</td>\n      <td>4</td>\n      <td>2</td>\n      <td>391</td>\n      <td>8</td>\n      <td>10</td>\n      <td>5</td>\n      <td>0</td>\n      <td>7</td>\n      <td>5</td>\n      <td>...</td>\n      <td>0</td>\n      <td>0</td>\n      <td>1</td>\n      <td>0</td>\n      <td>1</td>\n      <td>1</td>\n      <td>1</td>\n      <td>0</td>\n      <td>green</td>\n      <td>green</td>\n    </tr>\n  </tbody>\n</table>\n<p>194 rows × 30 columns</p>\n</div>"
     },
     "execution_count": 11,
     "metadata": {},
     "output_type": "execute_result"
    }
   ],
   "source": [
    "(df['mainhue'] == 'blue').count() / len(df['mainhue'])"
   ],
   "metadata": {
    "collapsed": false
   }
  },
  {
   "cell_type": "code",
   "execution_count": 15,
   "outputs": [
    {
     "data": {
      "text/plain": "40"
     },
     "execution_count": 15,
     "metadata": {},
     "output_type": "execute_result"
    }
   ],
   "source": [
    "df['mainhue'].value_counts()['blue']"
   ],
   "metadata": {
    "collapsed": false
   }
  },
  {
   "cell_type": "code",
   "execution_count": 13,
   "outputs": [
    {
     "data": {
      "text/plain": "194"
     },
     "execution_count": 13,
     "metadata": {},
     "output_type": "execute_result"
    }
   ],
   "source": [
    "df['mainhue'].count()"
   ],
   "metadata": {
    "collapsed": false
   }
  },
  {
   "cell_type": "code",
   "execution_count": 22,
   "outputs": [
    {
     "data": {
      "text/plain": "name          131\nlandmass      131\nzone          131\narea          131\npopulation    131\nlanguage      131\nreligion      131\nbars          131\nstripes       131\ncolours       131\nred           131\ngreen         131\nblue          131\ngold          131\nwhite         131\nblack         131\norange        131\nmainhue       131\ncircles       131\ncrosses       131\nsaltires      131\nquarters      131\nsunstars      131\ncrescent      131\ntriangle      131\nicon          131\nanimate       131\ntext          131\ntopleft       131\nbotright      131\ndtype: int64"
     },
     "execution_count": 22,
     "metadata": {},
     "output_type": "execute_result"
    }
   ],
   "source": [
    "df[(df['circles'] == 0) & (df['bars'] == 0)].count()"
   ],
   "metadata": {
    "collapsed": false
   }
  },
  {
   "cell_type": "code",
   "execution_count": 21,
   "outputs": [
    {
     "data": {
      "text/plain": "name          159\nlandmass      159\nzone          159\narea          159\npopulation    159\nlanguage      159\nreligion      159\nbars          159\nstripes       159\ncolours       159\nred           159\ngreen         159\nblue          159\ngold          159\nwhite         159\nblack         159\norange        159\nmainhue       159\ncircles       159\ncrosses       159\nsaltires      159\nquarters      159\nsunstars      159\ncrescent      159\ntriangle      159\nicon          159\nanimate       159\ntext          159\ntopleft       159\nbotright      159\ndtype: int64"
     },
     "execution_count": 21,
     "metadata": {},
     "output_type": "execute_result"
    }
   ],
   "source": [
    "df[df['bars'] == 0].count()"
   ],
   "metadata": {
    "collapsed": false
   }
  },
  {
   "cell_type": "code",
   "execution_count": 19,
   "outputs": [
    {
     "data": {
      "text/plain": "               name  landmass  zone  area  population  language  religion  \\\n0       Afghanistan         5     1   648          16        10         2   \n1           Albania         3     1    29           3         6         6   \n2           Algeria         4     1  2388          20         8         2   \n3    American-Samoa         6     3     0           0         1         1   \n4           Andorra         3     1     0           0         6         0   \n..              ...       ...   ...   ...         ...       ...       ...   \n189   Western-Samoa         6     3     3           0         1         1   \n190      Yugoslavia         3     1   256          22         6         6   \n191           Zaire         4     2   905          28        10         5   \n192          Zambia         4     2   753           6        10         5   \n193        Zimbabwe         4     2   391           8        10         5   \n\n     bars  stripes  colours  ...  saltires  quarters  sunstars  crescent  \\\n0       0        3        5  ...         0         0         1         0   \n1       0        0        3  ...         0         0         1         0   \n2       2        0        3  ...         0         0         1         1   \n3       0        0        5  ...         0         0         0         0   \n4       3        0        3  ...         0         0         0         0   \n..    ...      ...      ...  ...       ...       ...       ...       ...   \n189     0        0        3  ...         0         1         5         0   \n190     0        3        4  ...         0         0         1         0   \n191     0        0        4  ...         0         0         0         0   \n192     3        0        4  ...         0         0         0         0   \n193     0        7        5  ...         0         0         1         0   \n\n     triangle  icon  animate text  topleft  botright  \n0           0     1        0    0    black     green  \n1           0     0        1    0      red       red  \n2           0     0        0    0    green     white  \n3           1     1        1    0     blue       red  \n4           0     0        0    0     blue       red  \n..        ...   ...      ...  ...      ...       ...  \n189         0     0        0    0     blue       red  \n190         0     0        0    0     blue       red  \n191         0     1        1    0    green     green  \n192         0     0        1    0    green     brown  \n193         1     1        1    0    green     green  \n\n[194 rows x 30 columns]",
      "text/html": "<div>\n<style scoped>\n    .dataframe tbody tr th:only-of-type {\n        vertical-align: middle;\n    }\n\n    .dataframe tbody tr th {\n        vertical-align: top;\n    }\n\n    .dataframe thead th {\n        text-align: right;\n    }\n</style>\n<table border=\"1\" class=\"dataframe\">\n  <thead>\n    <tr style=\"text-align: right;\">\n      <th></th>\n      <th>name</th>\n      <th>landmass</th>\n      <th>zone</th>\n      <th>area</th>\n      <th>population</th>\n      <th>language</th>\n      <th>religion</th>\n      <th>bars</th>\n      <th>stripes</th>\n      <th>colours</th>\n      <th>...</th>\n      <th>saltires</th>\n      <th>quarters</th>\n      <th>sunstars</th>\n      <th>crescent</th>\n      <th>triangle</th>\n      <th>icon</th>\n      <th>animate</th>\n      <th>text</th>\n      <th>topleft</th>\n      <th>botright</th>\n    </tr>\n  </thead>\n  <tbody>\n    <tr>\n      <th>0</th>\n      <td>Afghanistan</td>\n      <td>5</td>\n      <td>1</td>\n      <td>648</td>\n      <td>16</td>\n      <td>10</td>\n      <td>2</td>\n      <td>0</td>\n      <td>3</td>\n      <td>5</td>\n      <td>...</td>\n      <td>0</td>\n      <td>0</td>\n      <td>1</td>\n      <td>0</td>\n      <td>0</td>\n      <td>1</td>\n      <td>0</td>\n      <td>0</td>\n      <td>black</td>\n      <td>green</td>\n    </tr>\n    <tr>\n      <th>1</th>\n      <td>Albania</td>\n      <td>3</td>\n      <td>1</td>\n      <td>29</td>\n      <td>3</td>\n      <td>6</td>\n      <td>6</td>\n      <td>0</td>\n      <td>0</td>\n      <td>3</td>\n      <td>...</td>\n      <td>0</td>\n      <td>0</td>\n      <td>1</td>\n      <td>0</td>\n      <td>0</td>\n      <td>0</td>\n      <td>1</td>\n      <td>0</td>\n      <td>red</td>\n      <td>red</td>\n    </tr>\n    <tr>\n      <th>2</th>\n      <td>Algeria</td>\n      <td>4</td>\n      <td>1</td>\n      <td>2388</td>\n      <td>20</td>\n      <td>8</td>\n      <td>2</td>\n      <td>2</td>\n      <td>0</td>\n      <td>3</td>\n      <td>...</td>\n      <td>0</td>\n      <td>0</td>\n      <td>1</td>\n      <td>1</td>\n      <td>0</td>\n      <td>0</td>\n      <td>0</td>\n      <td>0</td>\n      <td>green</td>\n      <td>white</td>\n    </tr>\n    <tr>\n      <th>3</th>\n      <td>American-Samoa</td>\n      <td>6</td>\n      <td>3</td>\n      <td>0</td>\n      <td>0</td>\n      <td>1</td>\n      <td>1</td>\n      <td>0</td>\n      <td>0</td>\n      <td>5</td>\n      <td>...</td>\n      <td>0</td>\n      <td>0</td>\n      <td>0</td>\n      <td>0</td>\n      <td>1</td>\n      <td>1</td>\n      <td>1</td>\n      <td>0</td>\n      <td>blue</td>\n      <td>red</td>\n    </tr>\n    <tr>\n      <th>4</th>\n      <td>Andorra</td>\n      <td>3</td>\n      <td>1</td>\n      <td>0</td>\n      <td>0</td>\n      <td>6</td>\n      <td>0</td>\n      <td>3</td>\n      <td>0</td>\n      <td>3</td>\n      <td>...</td>\n      <td>0</td>\n      <td>0</td>\n      <td>0</td>\n      <td>0</td>\n      <td>0</td>\n      <td>0</td>\n      <td>0</td>\n      <td>0</td>\n      <td>blue</td>\n      <td>red</td>\n    </tr>\n    <tr>\n      <th>...</th>\n      <td>...</td>\n      <td>...</td>\n      <td>...</td>\n      <td>...</td>\n      <td>...</td>\n      <td>...</td>\n      <td>...</td>\n      <td>...</td>\n      <td>...</td>\n      <td>...</td>\n      <td>...</td>\n      <td>...</td>\n      <td>...</td>\n      <td>...</td>\n      <td>...</td>\n      <td>...</td>\n      <td>...</td>\n      <td>...</td>\n      <td>...</td>\n      <td>...</td>\n      <td>...</td>\n    </tr>\n    <tr>\n      <th>189</th>\n      <td>Western-Samoa</td>\n      <td>6</td>\n      <td>3</td>\n      <td>3</td>\n      <td>0</td>\n      <td>1</td>\n      <td>1</td>\n      <td>0</td>\n      <td>0</td>\n      <td>3</td>\n      <td>...</td>\n      <td>0</td>\n      <td>1</td>\n      <td>5</td>\n      <td>0</td>\n      <td>0</td>\n      <td>0</td>\n      <td>0</td>\n      <td>0</td>\n      <td>blue</td>\n      <td>red</td>\n    </tr>\n    <tr>\n      <th>190</th>\n      <td>Yugoslavia</td>\n      <td>3</td>\n      <td>1</td>\n      <td>256</td>\n      <td>22</td>\n      <td>6</td>\n      <td>6</td>\n      <td>0</td>\n      <td>3</td>\n      <td>4</td>\n      <td>...</td>\n      <td>0</td>\n      <td>0</td>\n      <td>1</td>\n      <td>0</td>\n      <td>0</td>\n      <td>0</td>\n      <td>0</td>\n      <td>0</td>\n      <td>blue</td>\n      <td>red</td>\n    </tr>\n    <tr>\n      <th>191</th>\n      <td>Zaire</td>\n      <td>4</td>\n      <td>2</td>\n      <td>905</td>\n      <td>28</td>\n      <td>10</td>\n      <td>5</td>\n      <td>0</td>\n      <td>0</td>\n      <td>4</td>\n      <td>...</td>\n      <td>0</td>\n      <td>0</td>\n      <td>0</td>\n      <td>0</td>\n      <td>0</td>\n      <td>1</td>\n      <td>1</td>\n      <td>0</td>\n      <td>green</td>\n      <td>green</td>\n    </tr>\n    <tr>\n      <th>192</th>\n      <td>Zambia</td>\n      <td>4</td>\n      <td>2</td>\n      <td>753</td>\n      <td>6</td>\n      <td>10</td>\n      <td>5</td>\n      <td>3</td>\n      <td>0</td>\n      <td>4</td>\n      <td>...</td>\n      <td>0</td>\n      <td>0</td>\n      <td>0</td>\n      <td>0</td>\n      <td>0</td>\n      <td>0</td>\n      <td>1</td>\n      <td>0</td>\n      <td>green</td>\n      <td>brown</td>\n    </tr>\n    <tr>\n      <th>193</th>\n      <td>Zimbabwe</td>\n      <td>4</td>\n      <td>2</td>\n      <td>391</td>\n      <td>8</td>\n      <td>10</td>\n      <td>5</td>\n      <td>0</td>\n      <td>7</td>\n      <td>5</td>\n      <td>...</td>\n      <td>0</td>\n      <td>0</td>\n      <td>1</td>\n      <td>0</td>\n      <td>1</td>\n      <td>1</td>\n      <td>1</td>\n      <td>0</td>\n      <td>green</td>\n      <td>green</td>\n    </tr>\n  </tbody>\n</table>\n<p>194 rows × 30 columns</p>\n</div>"
     },
     "execution_count": 19,
     "metadata": {},
     "output_type": "execute_result"
    }
   ],
   "source": [
    "df"
   ],
   "metadata": {
    "collapsed": false
   }
  },
  {
   "cell_type": "code",
   "execution_count": null,
   "outputs": [],
   "source": [],
   "metadata": {
    "collapsed": false
   }
  }
 ],
 "metadata": {
  "kernelspec": {
   "display_name": "Python 3",
   "language": "python",
   "name": "python3"
  },
  "language_info": {
   "codemirror_mode": {
    "name": "ipython",
    "version": 2
   },
   "file_extension": ".py",
   "mimetype": "text/x-python",
   "name": "python",
   "nbconvert_exporter": "python",
   "pygments_lexer": "ipython2",
   "version": "2.7.6"
  }
 },
 "nbformat": 4,
 "nbformat_minor": 0
}
