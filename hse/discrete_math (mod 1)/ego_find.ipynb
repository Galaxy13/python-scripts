{
 "cells": [
  {
   "cell_type": "code",
   "execution_count": 1,
   "metadata": {
    "collapsed": true
   },
   "outputs": [],
   "source": [
    "import networkx as nx"
   ]
  },
  {
   "cell_type": "markdown",
   "source": [
    "First, again, we open file with ego data:"
   ],
   "metadata": {
    "collapsed": false
   }
  },
  {
   "cell_type": "code",
   "execution_count": 2,
   "outputs": [],
   "source": [
    "ego_graph = nx.read_edgelist('facebook_combined_ego.txt', create_using=nx.Graph(), nodetype=int)"
   ],
   "metadata": {
    "collapsed": false,
    "pycharm": {
     "name": "#%%\n"
    }
   }
  },
  {
   "cell_type": "markdown",
   "source": [
    "To find, which one of vertex is not center, we need to count degrees of each other, to do that, we will use list with\n",
    "numbers and method of Graph:"
   ],
   "metadata": {
    "collapsed": false
   }
  },
  {
   "cell_type": "code",
   "execution_count": 13,
   "outputs": [
    {
     "name": "stdout",
     "output_type": "stream",
     "text": [
      "0 : 347\n",
      "107 : 1045\n",
      "348 : 229\n",
      "414 : 159\n",
      "612 : 15\n",
      "686 : 170\n",
      "698 : 68\n",
      "1684 : 792\n",
      "1912 : 755\n",
      "3437 : 547\n",
      "3980 : 59\n",
      "4196\n",
      "157\n"
     ]
    }
   ],
   "source": [
    "list_of_centers = [0, 107, 348, 414, 612, 686, 698, 1684, 1912, 3437, 3980]\n",
    "sum_of_degree = 0\n",
    "list_of_nodes = ego_graph.nodes()\n",
    "for node in list_of_centers:\n",
    "    print(node, ':', ego_graph.degree(node))\n",
    "    sum_of_degree += ego_graph.degree(node)\n",
    "print(sum_of_degree + 10)\n",
    "print(4196 - ego_graph.number_of_nodes())"
   ],
   "metadata": {
    "collapsed": false,
    "pycharm": {
     "name": "#%%\n"
    }
   }
  },
  {
   "cell_type": "markdown",
   "source": [
    "Trying of check, that there is no existing path between ego centers:"
   ],
   "metadata": {
    "collapsed": false
   }
  },
  {
   "cell_type": "code",
   "execution_count": 10,
   "outputs": [
    {
     "name": "stdout",
     "output_type": "stream",
     "text": [
      "0 107\n",
      "107 348\n",
      "107 414\n",
      "107 1684\n",
      "348 414\n",
      "414 612\n",
      "686 698\n",
      "698 3437\n"
     ]
    }
   ],
   "source": [
    "index = 1\n",
    "for node in list_of_centers:\n",
    "    for nd_node in list_of_centers[index:]:\n",
    "        if ego_graph.has_edge(node, nd_node):\n",
    "            print(node, nd_node)\n",
    "    index += 1\n"
   ],
   "metadata": {
    "collapsed": false,
    "pycharm": {
     "name": "#%%\n"
    }
   }
  }
 ],
 "metadata": {
  "kernelspec": {
   "display_name": "Python 3",
   "language": "python",
   "name": "python3"
  },
  "language_info": {
   "codemirror_mode": {
    "name": "ipython",
    "version": 2
   },
   "file_extension": ".py",
   "mimetype": "text/x-python",
   "name": "python",
   "nbconvert_exporter": "python",
   "pygments_lexer": "ipython2",
   "version": "2.7.6"
  }
 },
 "nbformat": 4,
 "nbformat_minor": 0
}