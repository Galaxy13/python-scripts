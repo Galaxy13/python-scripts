{
 "cells": [
  {
   "cell_type": "code",
   "execution_count": null,
   "metadata": {
    "collapsed": true
   },
   "outputs": [],
   "source": [
    "def gen_all_str(word):\n",
    "    temp_list = ['']\n",
    "    if len(word) == 1:\n",
    "        return word\n",
    "    else:\n",
    "        for elem in temp_list:\n",
    "            temp_list.append(elem+word[0])\n",
    "        return gen_all_str(word[1:])\n",
    "\n",
    "gen_all_str('abc')"
   ]
  }
 ],
 "metadata": {
  "kernelspec": {
   "display_name": "Python 3",
   "language": "python",
   "name": "python3"
  },
  "language_info": {
   "codemirror_mode": {
    "name": "ipython",
    "version": 2
   },
   "file_extension": ".py",
   "mimetype": "text/x-python",
   "name": "python",
   "nbconvert_exporter": "python",
   "pygments_lexer": "ipython2",
   "version": "2.7.6"
  }
 },
 "nbformat": 4,
 "nbformat_minor": 0
}