{
 "cells": [
  {
   "cell_type": "code",
   "execution_count": 1,
   "metadata": {
    "collapsed": true,
    "ExecuteTime": {
     "end_time": "2023-07-27T10:03:54.101234Z",
     "start_time": "2023-07-27T10:03:53.099998300Z"
    }
   },
   "outputs": [],
   "source": [
    "import pandas as ps"
   ]
  },
  {
   "cell_type": "code",
   "execution_count": 10,
   "outputs": [],
   "source": [
    "msg = '''SF1676707946098  https://skr.sh/sKv20qTFxo8\n",
    "SF1624615655433  https://skr.sh/sKvYuhuZuS5\n",
    "SF1680835666062  https://skr.sh/sKvV7UgURpd\n",
    "SF1680886645573  https://skr.sh/sKvox61SZ1f\n",
    "SF1680867460253  https://skr.sh/sKvLvCyDQW5\n",
    "SF1624655693057  https://skr.sh/sKvjcqXdujq\n",
    "SF1635303746610  https://skr.sh/sKvnV5ElMX9\n",
    "SF1617750186117  https://skr.sh/sKvrxB0DkT0\n",
    "SF1676748903739  https://skr.sh/sKvchbbN8en\n",
    "SF1636402526620  https://skr.sh/sKvOwfgE13l\n",
    "SF1380028141367  https://skr.sh/sKvm225gpGj\n",
    "SF1604303637453  https://skr.sh/sKvzjjdy5JT\n",
    "SF1604302124186  https://skr.sh/sKvqs1jV6fD\n",
    "SF1376239772154  https://skr.sh/sKvxN5ycf0o\n",
    "SF1695967867061  https://skr.sh/sKv6PaHMbtZ\n",
    "SF1624660188044  https://skr.sh/sKvHkRVHIBq\n",
    "SF1639204896725  https://skr.sh/sKvcbrCSt4W\n",
    "SF1664660395431  https://skr.sh/sKvdlj61o9s\n",
    "SF1680824287447  https://skr.sh/sKvJodJAW1M\n",
    "SF1676783177525  https://skr.sh/sKv3dfVdnRF\n",
    "SF1654464756477  https://skr.sh/sKvqN2ZqG2r\n",
    "SF1604312239327  https://skr.sh/sKvbgkxTF42\n",
    "SF1676795719064  https://skr.sh/sKvvwTfAJ1M\n",
    "SF1664688252594  https://skr.sh/sKva8edir4z\n",
    "SF1658162190478  https://skr.sh/sKvrazeYTx0\n",
    "SF1635800196438  https://skr.sh/sKvb0FACZJ4\n",
    "SF1385840745763  https://skr.sh/sKvh3skK3PL\n",
    "SF1614850370117  https://skr.sh/sKv2gAd39dR\n",
    "SF1376264696514  https://skr.sh/sKvssruMOjj\n",
    "SF1387352348668  https://skr.sh/sKv18aTpCj8\n",
    "SF1657966331496  https://skr.sh/sKvO7PA3HBv\n",
    "SF1680878287129  https://skr.sh/sKvweWhbMzZ\n",
    "SF1655360806480  https://skr.sh/sKvt1FUJOMU\n",
    "SF1389024848368  https://skr.sh/sKv6bzUFRCF\n",
    "SF1676748676457  https://skr.sh/sKvEB3TKrsm\n",
    "SF1384282948967  https://skr.sh/sKvaObCtdzu\n",
    "73504571014023  https://skr.sh/sKvZCoZqI8R\n",
    "SF1624614079261  https://skr.sh/sKvCFJcOthH\n",
    "SF1618800300116  https://skr.sh/sKv0r1ze9oz\n",
    "SF1624658727211  https://skr.sh/sKvrsGjrF1X\n",
    "SF1387817444160  https://skr.sh/sKvTvkG0Oj8\n",
    "SF1624600760011  https://skr.sh/sKvksh9A8K5\n",
    "SF1664688053570  https://skr.sh/sKvuEKE8Bzx\n",
    "SF1650669089450  https://skr.sh/sKvrs0Hms16\n",
    "SF1688835325130  https://skr.sh/sKv67LwrV6q\n",
    "SF1698145442566  https://skr.sh/sKvosa7ZQPZ\n",
    "SF1624684992891  https://skr.sh/sKvJ1DEatQU\n",
    "SF1692162241765  https://skr.sh/sKvZwmzfTsk\n",
    "SF1376214921314  https://skr.sh/sKvZgiMpj9z\n",
    "SF1698679867366  https://skr.sh/sKvJUCgIwFH\n",
    "SF1645021788012  https://skr.sh/sKv4PziU8Qc\n",
    "SF1680885289748  https://skr.sh/sKvaGmNzJxT\n",
    "SF1643811660065  https://skr.sh/sKvGBEUB47C\n",
    "JDVB23453224044-1-1-  https://skr.sh/sKvsQTt449N\n",
    "SF1692413648862  https://skr.sh/sKv1jVlJKzB\n",
    "SF1696403745161  https://skr.sh/sKvJBsQeZqd\n",
    "JDVB23436921586-1-1-  https://skr.sh/sKvysCF1daG\n",
    "JDVB23452700469-1-1-  https://skr.sh/sKvS0ZUw7uX\n",
    "73504671690335  https://skr.sh/sKvY2TIkpOd\n",
    "JDVB23486995802-1-1-  https://skr.sh/sKvFvqM7Dxz\n",
    "JDVB23477179369-1-1-  https://skr.sh/sKvqqYF7yBv\n",
    "JDVB23451718568-1-1-  https://skr.sh/sKvzhCPIkU8\n",
    "JDVB23451247688-1-1-  https://skr.sh/sKv7LLuqvxT\n",
    "SF1693707046667  https://skr.sh/sKvIX2aFHik\n",
    "SF1604284561541  https://skr.sh/sKvp64AbM3L\n",
    "JDVB23472020859-1-1-  https://skr.sh/sKvt4JIfrI5\n",
    "JDVB23486427805-1-1-  https://skr.sh/sKvFqtqnEK3\n",
    "JDVB23437730202-1-1-  https://skr.sh/sKvzWUgrHF7\n",
    "SF1664609195350  https://skr.sh/sKvQYoZa5Is\n",
    "JDVB23485490554-1-1-  https://skr.sh/sKvFOjGfbHZ\n",
    "SF1698341767365  https://skr.sh/sKvFXLlKXbj\n",
    "JDVB23472343390-1-1-  https://skr.sh/sKv3Bu4QyKs\n",
    "JDVB23486291869-1-1-  https://skr.sh/sKvkO3rCnAl\n",
    "JDVB23451663595-1-1-  https://skr.sh/sKvf67KLs1j\n",
    "DVB23424289789-1-1-  https://skr.sh/sKvCqCAMdmo\n",
    "JDVB23439136872-1-1-  https://skr.sh/sKvJG080e3F\n",
    "JDVB23437177546-1-1-  https://skr.sh/sKvxRNK7Ok8\n",
    "JDVB23436536729-1-1-  https://skr.sh/sKvC2JIuFlg\n",
    "SF1604329121303  https://skr.sh/sKvEnmWXlBM\n",
    "JDVB23457443000-1-1-  https://skr.sh/sKv1VlSokdV\n",
    "JDVB23498537116-1-1-  https://skr.sh/sKvMSwwcf0A\n",
    "JDVB23485567405-1-1-  https://skr.sh/sKvfs4hhTQi\n",
    "SF1386444048368  https://skr.sh/sKvu4jKOa2A\n",
    "JDVB23420648075-1-1-  https://skr.sh/sKvd6zqStpS\n",
    "SF1624675964489  https://skr.sh/sKv1HGGvrMz\n",
    "SF1642421652036  https://skr.sh/sKvL4qu2OOy\n",
    "JDVB23454579145-1-1-  https://skr.sh/sKv01FqgJRh\n",
    "JDVB23451108729-1-1-  https://skr.sh/sKv4MkZcMTY\n",
    "JDVB23453491407-1-1-  https://skr.sh/sKvwdS8ENL6\n",
    "'''\n"
   ],
   "metadata": {
    "collapsed": false,
    "ExecuteTime": {
     "end_time": "2023-07-27T10:06:06.777616600Z",
     "start_time": "2023-07-27T10:06:06.751188400Z"
    }
   }
  },
  {
   "cell_type": "code",
   "execution_count": 11,
   "outputs": [],
   "source": [
    "msg = msg.split()[::2]"
   ],
   "metadata": {
    "collapsed": false,
    "ExecuteTime": {
     "end_time": "2023-07-27T10:06:10.752730900Z",
     "start_time": "2023-07-27T10:06:10.727696400Z"
    }
   }
  },
  {
   "cell_type": "code",
   "execution_count": 14,
   "outputs": [],
   "source": [
    "msg = list(map(lambda x: x.rstrip('-1-1-'), msg))"
   ],
   "metadata": {
    "collapsed": false,
    "ExecuteTime": {
     "end_time": "2023-07-27T10:07:03.415535600Z",
     "start_time": "2023-07-27T10:07:03.408856400Z"
    }
   }
  },
  {
   "cell_type": "code",
   "execution_count": 17,
   "outputs": [],
   "source": [
    "table = \"\"\"\n",
    "SF1611638967163\n",
    "SF1668667900299\n",
    "не отправлено\n",
    "SF1376515094693\n",
    "SF1668657788695\n",
    "SF1611638967163\n",
    "не отправлено\n",
    "JDVB23818882028\n",
    "SF1380254784961\n",
    "no track\n",
    "\n",
    "\n",
    "no track\n",
    "no track\n",
    "no track\n",
    "SF1696862586369\n",
    "\n",
    "\n",
    "JDVB23812062369\n",
    "JDVB23812200987\n",
    "JDVB23820905974\n",
    "JDVB23812688839\n",
    "73505641248435\n",
    "\n",
    "\n",
    "no track\n",
    "SF1677767201736\n",
    "SF1662601500816\n",
    "\n",
    "\n",
    "SF1604563324608\n",
    "\"\"\""
   ],
   "metadata": {
    "collapsed": false,
    "ExecuteTime": {
     "end_time": "2023-07-27T10:20:09.561700400Z",
     "start_time": "2023-07-27T10:20:09.554277800Z"
    }
   }
  },
  {
   "cell_type": "code",
   "execution_count": 21,
   "outputs": [],
   "source": [
    "table_f = list(filter(lambda x: x[-1].isdigit(), table.split()))"
   ],
   "metadata": {
    "collapsed": false,
    "ExecuteTime": {
     "end_time": "2023-07-27T10:21:56.366570900Z",
     "start_time": "2023-07-27T10:21:56.353149900Z"
    }
   }
  },
  {
   "cell_type": "code",
   "execution_count": 23,
   "outputs": [
    {
     "data": {
      "text/plain": "[]"
     },
     "execution_count": 23,
     "metadata": {},
     "output_type": "execute_result"
    }
   ],
   "source": [
    "list(set(table_f) & set(msg))"
   ],
   "metadata": {
    "collapsed": false,
    "ExecuteTime": {
     "end_time": "2023-07-27T10:22:59.357439300Z",
     "start_time": "2023-07-27T10:22:59.347701100Z"
    }
   }
  },
  {
   "cell_type": "code",
   "execution_count": 25,
   "outputs": [
    {
     "data": {
      "text/plain": "['SF1611638967163',\n 'SF1668667900299',\n 'SF1376515094693',\n 'SF1668657788695',\n 'SF1611638967163',\n 'JDVB23818882028',\n 'SF1380254784961',\n 'SF1696862586369',\n 'JDVB23812062369',\n 'JDVB23812200987',\n 'JDVB23820905974',\n 'JDVB23812688839',\n '73505641248435',\n 'SF1677767201736',\n 'SF1662601500816',\n 'SF1604563324608']"
     },
     "execution_count": 25,
     "metadata": {},
     "output_type": "execute_result"
    }
   ],
   "source": [
    "table_f"
   ],
   "metadata": {
    "collapsed": false,
    "ExecuteTime": {
     "end_time": "2023-07-27T10:23:14.510484700Z",
     "start_time": "2023-07-27T10:23:14.505335Z"
    }
   }
  }
 ],
 "metadata": {
  "kernelspec": {
   "display_name": "Python 3",
   "language": "python",
   "name": "python3"
  },
  "language_info": {
   "codemirror_mode": {
    "name": "ipython",
    "version": 2
   },
   "file_extension": ".py",
   "mimetype": "text/x-python",
   "name": "python",
   "nbconvert_exporter": "python",
   "pygments_lexer": "ipython2",
   "version": "2.7.6"
  }
 },
 "nbformat": 4,
 "nbformat_minor": 0
}
